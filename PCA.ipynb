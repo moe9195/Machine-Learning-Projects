{
 "cells": [
  {
   "cell_type": "markdown",
   "metadata": {},
   "source": [
    "### Principle Component Analysis of US Senators Based on Voting Patterns\n",
    "&nbsp;\n",
    "\n",
    "We perform principle component analysis (PCA) on US Senate voting patterns to identify clusters in US Senators. We'll use the voting history to compare the polarisation in American politics for the years 2012 to 2016.\n",
    "&nbsp;\n",
    "\n",
    "We use PCA on the voting records to reduce their dimensionality to 2D in order to visualise voting patterns. For more information on PCA, I suggest reading [this great blog post by Matt Brems](https://towardsdatascience.com/a-one-stop-shop-for-principal-component-analysis-5582fb7e0a9c?gi=de80317e8307) on the subject.\n",
    "&nbsp;\n",
    "\n",
    "The voting records are downloaded from [Voteview](https://voteview.com/data)."
   ]
  },
  {
   "cell_type": "code",
   "execution_count": 675,
   "metadata": {},
   "outputs": [
    {
     "data": {
      "text/html": [
       "        <script type=\"text/javascript\">\n",
       "        window.PlotlyConfig = {MathJaxConfig: 'local'};\n",
       "        if (window.MathJax) {MathJax.Hub.Config({SVG: {font: \"STIX-Web\"}});}\n",
       "        if (typeof require !== 'undefined') {\n",
       "        require.undef(\"plotly\");\n",
       "        requirejs.config({\n",
       "            paths: {\n",
       "                'plotly': ['https://cdn.plot.ly/plotly-latest.min']\n",
       "            }\n",
       "        });\n",
       "        require(['plotly'], function(Plotly) {\n",
       "            window._Plotly = Plotly;\n",
       "        });\n",
       "        }\n",
       "        </script>\n",
       "        "
      ]
     },
     "metadata": {},
     "output_type": "display_data"
    }
   ],
   "source": [
    "# import relevant libraries\n",
    "import csv, os, re, math\n",
    "import numpy as np\n",
    "import pandas as pd\n",
    "from sklearn.preprocessing import StandardScaler\n",
    "from sklearn.decomposition import PCA\n",
    "import matplotlib.pyplot as plt\n",
    "from plotly.offline import init_notebook_mode, iplot\n",
    "from plotly.graph_objs import *\n",
    "import plotly.express as px\n",
    "import plotly.graph_objects as go\n",
    "from IPython.display import display, HTML\n",
    "init_notebook_mode(connected=True)"
   ]
  },
  {
   "cell_type": "markdown",
   "metadata": {},
   "source": [
    "We start by downloading the data from Voteview. There are three datasets required: Member's votes, member's idealogies, and parties' data. We download the data in CSV format and use pandas to read and manipulate the data"
   ]
  },
  {
   "cell_type": "code",
   "execution_count": 676,
   "metadata": {},
   "outputs": [
    {
     "name": "stdout",
     "output_type": "stream",
     "text": [
      "Member's Biodata\n"
     ]
    },
    {
     "data": {
      "text/html": [
       "<div>\n",
       "<style scoped>\n",
       "    .dataframe tbody tr th:only-of-type {\n",
       "        vertical-align: middle;\n",
       "    }\n",
       "\n",
       "    .dataframe tbody tr th {\n",
       "        vertical-align: top;\n",
       "    }\n",
       "\n",
       "    .dataframe thead th {\n",
       "        text-align: right;\n",
       "    }\n",
       "</style>\n",
       "<table border=\"1\" class=\"dataframe\">\n",
       "  <thead>\n",
       "    <tr style=\"text-align: right;\">\n",
       "      <th></th>\n",
       "      <th>congress</th>\n",
       "      <th>chamber</th>\n",
       "      <th>icpsr</th>\n",
       "      <th>state_icpsr</th>\n",
       "      <th>district_code</th>\n",
       "      <th>state_abbrev</th>\n",
       "      <th>party_code</th>\n",
       "      <th>occupancy</th>\n",
       "      <th>last_means</th>\n",
       "      <th>bioname</th>\n",
       "      <th>...</th>\n",
       "      <th>died</th>\n",
       "      <th>nominate_dim1</th>\n",
       "      <th>nominate_dim2</th>\n",
       "      <th>nominate_log_likelihood</th>\n",
       "      <th>nominate_geo_mean_probability</th>\n",
       "      <th>nominate_number_of_votes</th>\n",
       "      <th>nominate_number_of_errors</th>\n",
       "      <th>conditional</th>\n",
       "      <th>nokken_poole_dim1</th>\n",
       "      <th>nokken_poole_dim2</th>\n",
       "    </tr>\n",
       "  </thead>\n",
       "  <tbody>\n",
       "    <tr>\n",
       "      <th>0</th>\n",
       "      <td>1</td>\n",
       "      <td>President</td>\n",
       "      <td>99869</td>\n",
       "      <td>99</td>\n",
       "      <td>0</td>\n",
       "      <td>USA</td>\n",
       "      <td>5000</td>\n",
       "      <td>NaN</td>\n",
       "      <td>NaN</td>\n",
       "      <td>WASHINGTON, George</td>\n",
       "      <td>...</td>\n",
       "      <td>NaN</td>\n",
       "      <td>NaN</td>\n",
       "      <td>NaN</td>\n",
       "      <td>NaN</td>\n",
       "      <td>NaN</td>\n",
       "      <td>NaN</td>\n",
       "      <td>NaN</td>\n",
       "      <td>NaN</td>\n",
       "      <td>NaN</td>\n",
       "      <td>NaN</td>\n",
       "    </tr>\n",
       "    <tr>\n",
       "      <th>1</th>\n",
       "      <td>1</td>\n",
       "      <td>Senate</td>\n",
       "      <td>2936</td>\n",
       "      <td>1</td>\n",
       "      <td>0</td>\n",
       "      <td>CT</td>\n",
       "      <td>5000</td>\n",
       "      <td>0.0</td>\n",
       "      <td>3.0</td>\n",
       "      <td>ELLSWORTH, Oliver</td>\n",
       "      <td>...</td>\n",
       "      <td>1807.0</td>\n",
       "      <td>0.530</td>\n",
       "      <td>0.809</td>\n",
       "      <td>-24.37915</td>\n",
       "      <td>0.77800</td>\n",
       "      <td>97.0</td>\n",
       "      <td>8.0</td>\n",
       "      <td>NaN</td>\n",
       "      <td>0.528</td>\n",
       "      <td>0.849</td>\n",
       "    </tr>\n",
       "    <tr>\n",
       "      <th>2</th>\n",
       "      <td>1</td>\n",
       "      <td>Senate</td>\n",
       "      <td>4998</td>\n",
       "      <td>1</td>\n",
       "      <td>0</td>\n",
       "      <td>CT</td>\n",
       "      <td>5000</td>\n",
       "      <td>0.0</td>\n",
       "      <td>3.0</td>\n",
       "      <td>JOHNSON, William Samuel</td>\n",
       "      <td>...</td>\n",
       "      <td>1819.0</td>\n",
       "      <td>0.991</td>\n",
       "      <td>0.137</td>\n",
       "      <td>-30.41227</td>\n",
       "      <td>0.69000</td>\n",
       "      <td>82.0</td>\n",
       "      <td>16.0</td>\n",
       "      <td>NaN</td>\n",
       "      <td>0.997</td>\n",
       "      <td>0.075</td>\n",
       "    </tr>\n",
       "    <tr>\n",
       "      <th>3</th>\n",
       "      <td>1</td>\n",
       "      <td>Senate</td>\n",
       "      <td>507</td>\n",
       "      <td>11</td>\n",
       "      <td>0</td>\n",
       "      <td>DE</td>\n",
       "      <td>4000</td>\n",
       "      <td>0.0</td>\n",
       "      <td>3.0</td>\n",
       "      <td>BASSETT, Richard</td>\n",
       "      <td>...</td>\n",
       "      <td>1815.0</td>\n",
       "      <td>0.087</td>\n",
       "      <td>0.007</td>\n",
       "      <td>-38.18355</td>\n",
       "      <td>0.65400</td>\n",
       "      <td>90.0</td>\n",
       "      <td>23.0</td>\n",
       "      <td>NaN</td>\n",
       "      <td>0.024</td>\n",
       "      <td>0.166</td>\n",
       "    </tr>\n",
       "    <tr>\n",
       "      <th>4</th>\n",
       "      <td>1</td>\n",
       "      <td>Senate</td>\n",
       "      <td>7762</td>\n",
       "      <td>11</td>\n",
       "      <td>0</td>\n",
       "      <td>DE</td>\n",
       "      <td>5000</td>\n",
       "      <td>0.0</td>\n",
       "      <td>3.0</td>\n",
       "      <td>READ, George</td>\n",
       "      <td>...</td>\n",
       "      <td>1798.0</td>\n",
       "      <td>0.282</td>\n",
       "      <td>-0.239</td>\n",
       "      <td>-34.31907</td>\n",
       "      <td>0.69900</td>\n",
       "      <td>96.0</td>\n",
       "      <td>15.0</td>\n",
       "      <td>NaN</td>\n",
       "      <td>0.270</td>\n",
       "      <td>-0.206</td>\n",
       "    </tr>\n",
       "    <tr>\n",
       "      <th>...</th>\n",
       "      <td>...</td>\n",
       "      <td>...</td>\n",
       "      <td>...</td>\n",
       "      <td>...</td>\n",
       "      <td>...</td>\n",
       "      <td>...</td>\n",
       "      <td>...</td>\n",
       "      <td>...</td>\n",
       "      <td>...</td>\n",
       "      <td>...</td>\n",
       "      <td>...</td>\n",
       "      <td>...</td>\n",
       "      <td>...</td>\n",
       "      <td>...</td>\n",
       "      <td>...</td>\n",
       "      <td>...</td>\n",
       "      <td>...</td>\n",
       "      <td>...</td>\n",
       "      <td>...</td>\n",
       "      <td>...</td>\n",
       "      <td>...</td>\n",
       "    </tr>\n",
       "    <tr>\n",
       "      <th>9805</th>\n",
       "      <td>116</td>\n",
       "      <td>Senate</td>\n",
       "      <td>40915</td>\n",
       "      <td>56</td>\n",
       "      <td>0</td>\n",
       "      <td>WV</td>\n",
       "      <td>100</td>\n",
       "      <td>NaN</td>\n",
       "      <td>NaN</td>\n",
       "      <td>MANCHIN, Joe, III</td>\n",
       "      <td>...</td>\n",
       "      <td>NaN</td>\n",
       "      <td>-0.055</td>\n",
       "      <td>0.445</td>\n",
       "      <td>-37.60304</td>\n",
       "      <td>0.89292</td>\n",
       "      <td>332.0</td>\n",
       "      <td>9.0</td>\n",
       "      <td>NaN</td>\n",
       "      <td>-0.041</td>\n",
       "      <td>0.356</td>\n",
       "    </tr>\n",
       "    <tr>\n",
       "      <th>9806</th>\n",
       "      <td>116</td>\n",
       "      <td>Senate</td>\n",
       "      <td>29940</td>\n",
       "      <td>25</td>\n",
       "      <td>0</td>\n",
       "      <td>WI</td>\n",
       "      <td>100</td>\n",
       "      <td>NaN</td>\n",
       "      <td>NaN</td>\n",
       "      <td>BALDWIN, Tammy</td>\n",
       "      <td>...</td>\n",
       "      <td>NaN</td>\n",
       "      <td>-0.505</td>\n",
       "      <td>-0.204</td>\n",
       "      <td>-68.30391</td>\n",
       "      <td>0.81555</td>\n",
       "      <td>335.0</td>\n",
       "      <td>39.0</td>\n",
       "      <td>NaN</td>\n",
       "      <td>-0.387</td>\n",
       "      <td>-0.140</td>\n",
       "    </tr>\n",
       "    <tr>\n",
       "      <th>9807</th>\n",
       "      <td>116</td>\n",
       "      <td>Senate</td>\n",
       "      <td>41111</td>\n",
       "      <td>25</td>\n",
       "      <td>0</td>\n",
       "      <td>WI</td>\n",
       "      <td>200</td>\n",
       "      <td>NaN</td>\n",
       "      <td>NaN</td>\n",
       "      <td>JOHNSON, Ron</td>\n",
       "      <td>...</td>\n",
       "      <td>NaN</td>\n",
       "      <td>0.599</td>\n",
       "      <td>-0.290</td>\n",
       "      <td>-24.53653</td>\n",
       "      <td>0.92834</td>\n",
       "      <td>330.0</td>\n",
       "      <td>11.0</td>\n",
       "      <td>NaN</td>\n",
       "      <td>0.561</td>\n",
       "      <td>0.040</td>\n",
       "    </tr>\n",
       "    <tr>\n",
       "      <th>9808</th>\n",
       "      <td>116</td>\n",
       "      <td>Senate</td>\n",
       "      <td>40707</td>\n",
       "      <td>68</td>\n",
       "      <td>0</td>\n",
       "      <td>WY</td>\n",
       "      <td>200</td>\n",
       "      <td>NaN</td>\n",
       "      <td>NaN</td>\n",
       "      <td>BARRASSO, John A.</td>\n",
       "      <td>...</td>\n",
       "      <td>NaN</td>\n",
       "      <td>0.538</td>\n",
       "      <td>0.237</td>\n",
       "      <td>-17.83657</td>\n",
       "      <td>0.94830</td>\n",
       "      <td>336.0</td>\n",
       "      <td>12.0</td>\n",
       "      <td>NaN</td>\n",
       "      <td>0.602</td>\n",
       "      <td>0.251</td>\n",
       "    </tr>\n",
       "    <tr>\n",
       "      <th>9809</th>\n",
       "      <td>116</td>\n",
       "      <td>Senate</td>\n",
       "      <td>49706</td>\n",
       "      <td>68</td>\n",
       "      <td>0</td>\n",
       "      <td>WY</td>\n",
       "      <td>200</td>\n",
       "      <td>NaN</td>\n",
       "      <td>NaN</td>\n",
       "      <td>ENZI, Michael B.</td>\n",
       "      <td>...</td>\n",
       "      <td>NaN</td>\n",
       "      <td>0.542</td>\n",
       "      <td>0.195</td>\n",
       "      <td>-21.16078</td>\n",
       "      <td>0.93861</td>\n",
       "      <td>334.0</td>\n",
       "      <td>7.0</td>\n",
       "      <td>NaN</td>\n",
       "      <td>0.514</td>\n",
       "      <td>0.711</td>\n",
       "    </tr>\n",
       "  </tbody>\n",
       "</table>\n",
       "<p>9810 rows × 22 columns</p>\n",
       "</div>"
      ],
      "text/plain": [
       "      congress    chamber  icpsr  state_icpsr  district_code state_abbrev  \\\n",
       "0            1  President  99869           99              0          USA   \n",
       "1            1     Senate   2936            1              0           CT   \n",
       "2            1     Senate   4998            1              0           CT   \n",
       "3            1     Senate    507           11              0           DE   \n",
       "4            1     Senate   7762           11              0           DE   \n",
       "...        ...        ...    ...          ...            ...          ...   \n",
       "9805       116     Senate  40915           56              0           WV   \n",
       "9806       116     Senate  29940           25              0           WI   \n",
       "9807       116     Senate  41111           25              0           WI   \n",
       "9808       116     Senate  40707           68              0           WY   \n",
       "9809       116     Senate  49706           68              0           WY   \n",
       "\n",
       "      party_code  occupancy  last_means                  bioname  ...    died  \\\n",
       "0           5000        NaN         NaN       WASHINGTON, George  ...     NaN   \n",
       "1           5000        0.0         3.0        ELLSWORTH, Oliver  ...  1807.0   \n",
       "2           5000        0.0         3.0  JOHNSON, William Samuel  ...  1819.0   \n",
       "3           4000        0.0         3.0         BASSETT, Richard  ...  1815.0   \n",
       "4           5000        0.0         3.0             READ, George  ...  1798.0   \n",
       "...          ...        ...         ...                      ...  ...     ...   \n",
       "9805         100        NaN         NaN        MANCHIN, Joe, III  ...     NaN   \n",
       "9806         100        NaN         NaN           BALDWIN, Tammy  ...     NaN   \n",
       "9807         200        NaN         NaN             JOHNSON, Ron  ...     NaN   \n",
       "9808         200        NaN         NaN        BARRASSO, John A.  ...     NaN   \n",
       "9809         200        NaN         NaN         ENZI, Michael B.  ...     NaN   \n",
       "\n",
       "      nominate_dim1  nominate_dim2  nominate_log_likelihood  \\\n",
       "0               NaN            NaN                      NaN   \n",
       "1             0.530          0.809                -24.37915   \n",
       "2             0.991          0.137                -30.41227   \n",
       "3             0.087          0.007                -38.18355   \n",
       "4             0.282         -0.239                -34.31907   \n",
       "...             ...            ...                      ...   \n",
       "9805         -0.055          0.445                -37.60304   \n",
       "9806         -0.505         -0.204                -68.30391   \n",
       "9807          0.599         -0.290                -24.53653   \n",
       "9808          0.538          0.237                -17.83657   \n",
       "9809          0.542          0.195                -21.16078   \n",
       "\n",
       "      nominate_geo_mean_probability  nominate_number_of_votes  \\\n",
       "0                               NaN                       NaN   \n",
       "1                           0.77800                      97.0   \n",
       "2                           0.69000                      82.0   \n",
       "3                           0.65400                      90.0   \n",
       "4                           0.69900                      96.0   \n",
       "...                             ...                       ...   \n",
       "9805                        0.89292                     332.0   \n",
       "9806                        0.81555                     335.0   \n",
       "9807                        0.92834                     330.0   \n",
       "9808                        0.94830                     336.0   \n",
       "9809                        0.93861                     334.0   \n",
       "\n",
       "      nominate_number_of_errors  conditional  nokken_poole_dim1  \\\n",
       "0                           NaN          NaN                NaN   \n",
       "1                           8.0          NaN              0.528   \n",
       "2                          16.0          NaN              0.997   \n",
       "3                          23.0          NaN              0.024   \n",
       "4                          15.0          NaN              0.270   \n",
       "...                         ...          ...                ...   \n",
       "9805                        9.0          NaN             -0.041   \n",
       "9806                       39.0          NaN             -0.387   \n",
       "9807                       11.0          NaN              0.561   \n",
       "9808                       12.0          NaN              0.602   \n",
       "9809                        7.0          NaN              0.514   \n",
       "\n",
       "      nokken_poole_dim2  \n",
       "0                   NaN  \n",
       "1                 0.849  \n",
       "2                 0.075  \n",
       "3                 0.166  \n",
       "4                -0.206  \n",
       "...                 ...  \n",
       "9805              0.356  \n",
       "9806             -0.140  \n",
       "9807              0.040  \n",
       "9808              0.251  \n",
       "9809              0.711  \n",
       "\n",
       "[9810 rows x 22 columns]"
      ]
     },
     "metadata": {},
     "output_type": "display_data"
    },
    {
     "name": "stdout",
     "output_type": "stream",
     "text": [
      "Parties' Data\n"
     ]
    },
    {
     "data": {
      "text/html": [
       "<div>\n",
       "<style scoped>\n",
       "    .dataframe tbody tr th:only-of-type {\n",
       "        vertical-align: middle;\n",
       "    }\n",
       "\n",
       "    .dataframe tbody tr th {\n",
       "        vertical-align: top;\n",
       "    }\n",
       "\n",
       "    .dataframe thead th {\n",
       "        text-align: right;\n",
       "    }\n",
       "</style>\n",
       "<table border=\"1\" class=\"dataframe\">\n",
       "  <thead>\n",
       "    <tr style=\"text-align: right;\">\n",
       "      <th></th>\n",
       "      <th>congress</th>\n",
       "      <th>chamber</th>\n",
       "      <th>party_code</th>\n",
       "      <th>party_name</th>\n",
       "      <th>n_members</th>\n",
       "      <th>nominate_dim1_median</th>\n",
       "      <th>nominate_dim2_median</th>\n",
       "      <th>nominate_dim1_mean</th>\n",
       "      <th>nominate_dim2_mean</th>\n",
       "    </tr>\n",
       "  </thead>\n",
       "  <tbody>\n",
       "    <tr>\n",
       "      <th>0</th>\n",
       "      <td>1</td>\n",
       "      <td>President</td>\n",
       "      <td>5000</td>\n",
       "      <td>Pro-Administration</td>\n",
       "      <td>1</td>\n",
       "      <td>NaN</td>\n",
       "      <td>NaN</td>\n",
       "      <td>NaN</td>\n",
       "      <td>NaN</td>\n",
       "    </tr>\n",
       "    <tr>\n",
       "      <th>1</th>\n",
       "      <td>1</td>\n",
       "      <td>House</td>\n",
       "      <td>4000</td>\n",
       "      <td>Anti-Administration</td>\n",
       "      <td>29</td>\n",
       "      <td>0.0180</td>\n",
       "      <td>0.0920</td>\n",
       "      <td>-0.024379</td>\n",
       "      <td>0.141931</td>\n",
       "    </tr>\n",
       "    <tr>\n",
       "      <th>2</th>\n",
       "      <td>1</td>\n",
       "      <td>House</td>\n",
       "      <td>5000</td>\n",
       "      <td>Pro-Administration</td>\n",
       "      <td>37</td>\n",
       "      <td>0.5780</td>\n",
       "      <td>0.0570</td>\n",
       "      <td>0.527838</td>\n",
       "      <td>0.025757</td>\n",
       "    </tr>\n",
       "    <tr>\n",
       "      <th>3</th>\n",
       "      <td>1</td>\n",
       "      <td>Senate</td>\n",
       "      <td>4000</td>\n",
       "      <td>Anti-Administration</td>\n",
       "      <td>9</td>\n",
       "      <td>-0.2375</td>\n",
       "      <td>-0.2130</td>\n",
       "      <td>-0.239750</td>\n",
       "      <td>-0.044750</td>\n",
       "    </tr>\n",
       "    <tr>\n",
       "      <th>4</th>\n",
       "      <td>1</td>\n",
       "      <td>Senate</td>\n",
       "      <td>5000</td>\n",
       "      <td>Pro-Administration</td>\n",
       "      <td>20</td>\n",
       "      <td>0.4270</td>\n",
       "      <td>-0.3085</td>\n",
       "      <td>0.352050</td>\n",
       "      <td>-0.166200</td>\n",
       "    </tr>\n",
       "    <tr>\n",
       "      <th>...</th>\n",
       "      <td>...</td>\n",
       "      <td>...</td>\n",
       "      <td>...</td>\n",
       "      <td>...</td>\n",
       "      <td>...</td>\n",
       "      <td>...</td>\n",
       "      <td>...</td>\n",
       "      <td>...</td>\n",
       "      <td>...</td>\n",
       "    </tr>\n",
       "    <tr>\n",
       "      <th>820</th>\n",
       "      <td>116</td>\n",
       "      <td>House</td>\n",
       "      <td>200</td>\n",
       "      <td>Republican</td>\n",
       "      <td>202</td>\n",
       "      <td>0.5190</td>\n",
       "      <td>0.1170</td>\n",
       "      <td>0.507178</td>\n",
       "      <td>0.074411</td>\n",
       "    </tr>\n",
       "    <tr>\n",
       "      <th>821</th>\n",
       "      <td>116</td>\n",
       "      <td>House</td>\n",
       "      <td>328</td>\n",
       "      <td>Independent</td>\n",
       "      <td>1</td>\n",
       "      <td>0.2800</td>\n",
       "      <td>-0.9600</td>\n",
       "      <td>0.280000</td>\n",
       "      <td>-0.960000</td>\n",
       "    </tr>\n",
       "    <tr>\n",
       "      <th>822</th>\n",
       "      <td>116</td>\n",
       "      <td>Senate</td>\n",
       "      <td>100</td>\n",
       "      <td>Democrat</td>\n",
       "      <td>45</td>\n",
       "      <td>-0.3380</td>\n",
       "      <td>-0.1320</td>\n",
       "      <td>-0.345111</td>\n",
       "      <td>-0.124178</td>\n",
       "    </tr>\n",
       "    <tr>\n",
       "      <th>823</th>\n",
       "      <td>116</td>\n",
       "      <td>Senate</td>\n",
       "      <td>200</td>\n",
       "      <td>Republican</td>\n",
       "      <td>53</td>\n",
       "      <td>0.4520</td>\n",
       "      <td>0.0240</td>\n",
       "      <td>0.492170</td>\n",
       "      <td>0.042887</td>\n",
       "    </tr>\n",
       "    <tr>\n",
       "      <th>824</th>\n",
       "      <td>116</td>\n",
       "      <td>Senate</td>\n",
       "      <td>328</td>\n",
       "      <td>Independent</td>\n",
       "      <td>2</td>\n",
       "      <td>-0.3405</td>\n",
       "      <td>-0.3025</td>\n",
       "      <td>-0.340500</td>\n",
       "      <td>-0.302500</td>\n",
       "    </tr>\n",
       "  </tbody>\n",
       "</table>\n",
       "<p>825 rows × 9 columns</p>\n",
       "</div>"
      ],
      "text/plain": [
       "     congress    chamber  party_code           party_name  n_members  \\\n",
       "0           1  President        5000   Pro-Administration          1   \n",
       "1           1      House        4000  Anti-Administration         29   \n",
       "2           1      House        5000   Pro-Administration         37   \n",
       "3           1     Senate        4000  Anti-Administration          9   \n",
       "4           1     Senate        5000   Pro-Administration         20   \n",
       "..        ...        ...         ...                  ...        ...   \n",
       "820       116      House         200           Republican        202   \n",
       "821       116      House         328          Independent          1   \n",
       "822       116     Senate         100             Democrat         45   \n",
       "823       116     Senate         200           Republican         53   \n",
       "824       116     Senate         328          Independent          2   \n",
       "\n",
       "     nominate_dim1_median  nominate_dim2_median  nominate_dim1_mean  \\\n",
       "0                     NaN                   NaN                 NaN   \n",
       "1                  0.0180                0.0920           -0.024379   \n",
       "2                  0.5780                0.0570            0.527838   \n",
       "3                 -0.2375               -0.2130           -0.239750   \n",
       "4                  0.4270               -0.3085            0.352050   \n",
       "..                    ...                   ...                 ...   \n",
       "820                0.5190                0.1170            0.507178   \n",
       "821                0.2800               -0.9600            0.280000   \n",
       "822               -0.3380               -0.1320           -0.345111   \n",
       "823                0.4520                0.0240            0.492170   \n",
       "824               -0.3405               -0.3025           -0.340500   \n",
       "\n",
       "     nominate_dim2_mean  \n",
       "0                   NaN  \n",
       "1              0.141931  \n",
       "2              0.025757  \n",
       "3             -0.044750  \n",
       "4             -0.166200  \n",
       "..                  ...  \n",
       "820            0.074411  \n",
       "821           -0.960000  \n",
       "822           -0.124178  \n",
       "823            0.042887  \n",
       "824           -0.302500  \n",
       "\n",
       "[825 rows x 9 columns]"
      ]
     },
     "metadata": {},
     "output_type": "display_data"
    },
    {
     "name": "stdout",
     "output_type": "stream",
     "text": [
      "Voting Data\n"
     ]
    },
    {
     "data": {
      "text/html": [
       "<div>\n",
       "<style scoped>\n",
       "    .dataframe tbody tr th:only-of-type {\n",
       "        vertical-align: middle;\n",
       "    }\n",
       "\n",
       "    .dataframe tbody tr th {\n",
       "        vertical-align: top;\n",
       "    }\n",
       "\n",
       "    .dataframe thead th {\n",
       "        text-align: right;\n",
       "    }\n",
       "</style>\n",
       "<table border=\"1\" class=\"dataframe\">\n",
       "  <thead>\n",
       "    <tr style=\"text-align: right;\">\n",
       "      <th></th>\n",
       "      <th>congress</th>\n",
       "      <th>chamber</th>\n",
       "      <th>rollnumber</th>\n",
       "      <th>icpsr</th>\n",
       "      <th>cast_code</th>\n",
       "      <th>prob</th>\n",
       "    </tr>\n",
       "  </thead>\n",
       "  <tbody>\n",
       "    <tr>\n",
       "      <th>0</th>\n",
       "      <td>1</td>\n",
       "      <td>Senate</td>\n",
       "      <td>1</td>\n",
       "      <td>507</td>\n",
       "      <td>1</td>\n",
       "      <td>90.4</td>\n",
       "    </tr>\n",
       "    <tr>\n",
       "      <th>1</th>\n",
       "      <td>1</td>\n",
       "      <td>Senate</td>\n",
       "      <td>1</td>\n",
       "      <td>1346</td>\n",
       "      <td>6</td>\n",
       "      <td>48.6</td>\n",
       "    </tr>\n",
       "    <tr>\n",
       "      <th>2</th>\n",
       "      <td>1</td>\n",
       "      <td>Senate</td>\n",
       "      <td>1</td>\n",
       "      <td>1536</td>\n",
       "      <td>1</td>\n",
       "      <td>99.8</td>\n",
       "    </tr>\n",
       "    <tr>\n",
       "      <th>3</th>\n",
       "      <td>1</td>\n",
       "      <td>Senate</td>\n",
       "      <td>1</td>\n",
       "      <td>2307</td>\n",
       "      <td>1</td>\n",
       "      <td>100.0</td>\n",
       "    </tr>\n",
       "    <tr>\n",
       "      <th>4</th>\n",
       "      <td>1</td>\n",
       "      <td>Senate</td>\n",
       "      <td>1</td>\n",
       "      <td>2936</td>\n",
       "      <td>1</td>\n",
       "      <td>99.7</td>\n",
       "    </tr>\n",
       "    <tr>\n",
       "      <th>...</th>\n",
       "      <td>...</td>\n",
       "      <td>...</td>\n",
       "      <td>...</td>\n",
       "      <td>...</td>\n",
       "      <td>...</td>\n",
       "      <td>...</td>\n",
       "    </tr>\n",
       "    <tr>\n",
       "      <th>4259377</th>\n",
       "      <td>116</td>\n",
       "      <td>Senate</td>\n",
       "      <td>366</td>\n",
       "      <td>49300</td>\n",
       "      <td>1</td>\n",
       "      <td>80.3</td>\n",
       "    </tr>\n",
       "    <tr>\n",
       "      <th>4259378</th>\n",
       "      <td>116</td>\n",
       "      <td>Senate</td>\n",
       "      <td>366</td>\n",
       "      <td>49308</td>\n",
       "      <td>1</td>\n",
       "      <td>45.8</td>\n",
       "    </tr>\n",
       "    <tr>\n",
       "      <th>4259379</th>\n",
       "      <td>116</td>\n",
       "      <td>Senate</td>\n",
       "      <td>366</td>\n",
       "      <td>49703</td>\n",
       "      <td>1</td>\n",
       "      <td>100.0</td>\n",
       "    </tr>\n",
       "    <tr>\n",
       "      <th>4259380</th>\n",
       "      <td>116</td>\n",
       "      <td>Senate</td>\n",
       "      <td>366</td>\n",
       "      <td>49706</td>\n",
       "      <td>1</td>\n",
       "      <td>100.0</td>\n",
       "    </tr>\n",
       "    <tr>\n",
       "      <th>4259381</th>\n",
       "      <td>116</td>\n",
       "      <td>Senate</td>\n",
       "      <td>366</td>\n",
       "      <td>94659</td>\n",
       "      <td>1</td>\n",
       "      <td>100.0</td>\n",
       "    </tr>\n",
       "  </tbody>\n",
       "</table>\n",
       "<p>4259382 rows × 6 columns</p>\n",
       "</div>"
      ],
      "text/plain": [
       "         congress chamber  rollnumber  icpsr  cast_code   prob\n",
       "0               1  Senate           1    507          1   90.4\n",
       "1               1  Senate           1   1346          6   48.6\n",
       "2               1  Senate           1   1536          1   99.8\n",
       "3               1  Senate           1   2307          1  100.0\n",
       "4               1  Senate           1   2936          1   99.7\n",
       "...           ...     ...         ...    ...        ...    ...\n",
       "4259377       116  Senate         366  49300          1   80.3\n",
       "4259378       116  Senate         366  49308          1   45.8\n",
       "4259379       116  Senate         366  49703          1  100.0\n",
       "4259380       116  Senate         366  49706          1  100.0\n",
       "4259381       116  Senate         366  94659          1  100.0\n",
       "\n",
       "[4259382 rows x 6 columns]"
      ]
     },
     "metadata": {},
     "output_type": "display_data"
    }
   ],
   "source": [
    "path_voting_data = 'all_votes.csv'   # member's voting data\n",
    "path_bio_data = 'all_members.csv'    # member's bio-data and idealogy\n",
    "path_party_data = 'all_parties.csv'  # parties codes\n",
    "\n",
    "# lets open and see the data\n",
    "\n",
    "df_bio = pd.read_csv(path_bio_data, sep=',')\n",
    "print(\"Member's Biodata\")\n",
    "display(df_bio)\n",
    "\n",
    "df_party_dict = pd.read_csv(path_party_data, sep=',')\n",
    "print(\"Parties' Data\")\n",
    "display(df_party_dict)\n",
    "\n",
    "df_voting = pd.read_csv(path_voting_data, sep=',')\n",
    "print(\"Voting Data\")\n",
    "display(df_voting)"
   ]
  },
  {
   "cell_type": "markdown",
   "metadata": {},
   "source": [
    "The fields are (from Voteview):\n",
    "<br><br>\n",
    "* **congress**: Integer 1+. The number of the congress that this member’s row refers to. e.g. 115 for the 115th Congress (2017-2019)\n",
    "<br><br>\n",
    "* **chamber**: House, Senate, or President. The chamber in which the member served.\n",
    "<br><br>\n",
    "* **rollnumber**: Integer 1+. Starts from 1 in the first rollcall of each congress. Excludes quorum calls and vacated votes.\n",
    "<br><br>\n",
    "* **icpsr**: Integer 1-99999. This is an ID code which identifies the member in question. In general, each member receives a single ICPSR identifier applicable to their entire career. A small number of members have received more than one: this can occur for members who have switched parties; as well as members who subsequently become president. Creating a new identifier allows a new NOMINATE estimate to be produced for separate appearances of a member in different roles.\n",
    "<br><br>\n",
    "* **cast_code**: Integer 0-9. Indicator of how the member voted.\n",
    "<br><br>\n",
    "* **prob**: Estimated probability, based on NOMINATE, of the member making the vote as recorded\n",
    "<br><br>\n",
    "* **state_icpsr**: Integer 0-99. Identifier for the state represented by the member.\n",
    "<br><br>\n",
    "* **district_code**: Integer 0-99. Identifier for the district that the member represents within their state (e.g. 3 for the Alabama 3rd Congressional District). Senate members are given district_code 0. Members who represent historical “at-large” districts are assigned 99, 98, or 1 in various circumstances.\n",
    "<br><br>\n",
    "* **state_abbrev**: String. Two-character postal abbreviation for state (e.g. MO for Missouri).\n",
    "<br><br>\n",
    "* **party_code**: Integer 1-9999. Identifying code for the member’s party. Please see documentation for Party Data for more information about which party_code identifiers refer to which parties.\n",
    "<br><br>\n",
    "* **occupancy**: Integer 1+. ICPSR occupancy code. This item is considered legacy or incomplete information and has not been verified. In general, members receive 0 if they are the only occupant, 1 if they are the first occupant, 2 if they are the second occupant, etc.\n",
    "last_means: Integer 1-5. ICPSR Attain-Office Code. This is an indicator that reflects the member’s last means of attaining office. This item is considered legacy or incomplete information and has not been verified. Members received 1 if they were elected in a general election, 2 if elected by special election, 3 if directly elected by a state legislature, and 5 if appointed.\n",
    "<br><br>\n",
    "* **bioname**: String. Name of the member, surname first. For most members, agrees with the Biographical Directory of Congress.\n",
    "<br><br>\n",
    "* **bioguide_id**: String. Member identifier in the Biographical Directory of Congress.\n",
    "<br><br>\n",
    "* **born**: Integer. Year of member’s birth.\n",
    "<br><br>\n",
    "* **died**: Integer. Year of member’s death\n",
    "<br><br>"
   ]
  },
  {
   "cell_type": "markdown",
   "metadata": {},
   "source": [
    "We process the data before applying PCA\n",
    "\n",
    "Votes are coded as follows:\n",
    "* Yea is 1\n",
    "* Nay is -1\n",
    "* Abstension or missing data is 0\n",
    "\n",
    "zz = df_voting\n",
    "\n",
    "zz.replace({'cast_code': {2:1,3:1,4:-1,5:-1,6:-1,7:0,8:0,9:0}})"
   ]
  },
  {
   "cell_type": "code",
   "execution_count": 677,
   "metadata": {},
   "outputs": [],
   "source": [
    "# make a dictionary of names for each icpsr number\n",
    "df_name = df_bio.set_index('icpsr')[['bioname']]\n",
    "name_dict = df_name.to_dict()\n",
    "\n",
    "# make a dictionary for which party each member belonged to at a given congress session\n",
    "df_party = df_bio.set_index('icpsr')[['congress', 'party_code']]\n",
    "\n",
    "# make a dictionary of parties for each party code\n",
    "df_party_dict = df_party_dict[['party_code', 'party_name']].set_index('party_code')\n",
    "party_dict = df_party_dict.to_dict()['party_name']\n",
    "\n",
    "# set 1 for Yea, -1 for Nay, and 0 for abstention\n",
    "df_voting = df_voting.replace({'cast_code': {2:1,3:1,4:-1,5:-1,6:-1,7:0,8:0,9:0}})\n",
    "# index voting record by congress number\n",
    "df_voting = df_voting.set_index('congress')\n",
    "\n",
    "# delete fields which are not needed\n",
    "del (df_voting['chamber'], df_voting['prob'])\n",
    "\n",
    "# create unique list of congress sessions\n",
    "CongressSessions = df_voting.index.unique()\n",
    "\n",
    "# split the dataframe into subframes for each Congress number\n",
    "DataFrameDict = {elem : pd.DataFrame for elem in CongressSessions}\n",
    "for key in DataFrameDict.keys():\n",
    "    DataFrameDict[key] = df_voting[:][df_voting.index == key]\n",
    "\n",
    "# create array of dates corresponding to each Congress number\n",
    "dates1 = (2*CongressSessions)+1787\n",
    "dates2 = (2*CongressSessions)+1789\n",
    "dates = [str(i)+'-'+str(j) for i, j in zip(dates1, dates2)]"
   ]
  },
  {
   "cell_type": "markdown",
   "metadata": {},
   "source": [
    "Next, we apply PCA on the processed data"
   ]
  },
  {
   "cell_type": "code",
   "execution_count": 698,
   "metadata": {},
   "outputs": [
    {
     "name": "stdout",
     "output_type": "stream",
     "text": [
      "1789-1791: PCA holds 36.69% of the information. 63.31% is lost\n",
      "1791-1793: PCA holds 48.32% of the information. 51.68% is lost\n",
      "1793-1795: PCA holds 47.2% of the information. 52.8% is lost\n",
      "1795-1797: PCA holds 49.39% of the information. 50.61% is lost\n",
      "1797-1799: PCA holds 42.72% of the information. 57.28% is lost\n",
      "1799-1801: PCA holds 54.28% of the information. 45.72% is lost\n",
      "1801-1803: PCA holds 56.77% of the information. 43.23% is lost\n",
      "1803-1805: PCA holds 36.42% of the information. 63.58% is lost\n",
      "1805-1807: PCA holds 37.64% of the information. 62.36% is lost\n",
      "1807-1809: PCA holds 36.08% of the information. 63.92% is lost\n",
      "1809-1811: PCA holds 31.35% of the information. 68.65% is lost\n",
      "1811-1813: PCA holds 42.51% of the information. 57.49% is lost\n",
      "1813-1815: PCA holds 43.84% of the information. 56.16% is lost\n",
      "1815-1817: PCA holds 25.49% of the information. 74.51% is lost\n",
      "1817-1819: PCA holds 23.13% of the information. 76.87% is lost\n",
      "1819-1821: PCA holds 26.58% of the information. 73.42% is lost\n",
      "1821-1823: PCA holds 27.49% of the information. 72.51% is lost\n",
      "1823-1825: PCA holds 34.67% of the information. 65.33% is lost\n",
      "1825-1827: PCA holds 35.53% of the information. 64.47% is lost\n",
      "1827-1829: PCA holds 38.61% of the information. 61.39% is lost\n",
      "1829-1831: PCA holds 48.27% of the information. 51.73% is lost\n",
      "1831-1833: PCA holds 44.96% of the information. 55.04% is lost\n",
      "1833-1835: PCA holds 43.9% of the information. 56.1% is lost\n",
      "1835-1837: PCA holds 35.56% of the information. 64.44% is lost\n",
      "1837-1839: PCA holds 31.04% of the information. 68.96% is lost\n",
      "1839-1841: PCA holds 35.55% of the information. 64.45% is lost\n",
      "1841-1843: PCA holds 54.13% of the information. 45.87% is lost\n",
      "1843-1845: PCA holds 41.07% of the information. 58.93% is lost\n",
      "1845-1847: PCA holds 43.98% of the information. 56.02% is lost\n",
      "1847-1849: PCA holds 29.64% of the information. 70.36% is lost\n",
      "1849-1851: PCA holds 33.21% of the information. 66.79% is lost\n",
      "1851-1853: PCA holds 21.02% of the information. 78.98% is lost\n",
      "1853-1855: PCA holds 20.34% of the information. 79.66% is lost\n",
      "1855-1857: PCA holds 31.09% of the information. 68.91% is lost\n",
      "1857-1859: PCA holds 35.81% of the information. 64.19% is lost\n",
      "1859-1861: PCA holds 39.81% of the information. 60.19% is lost\n",
      "1861-1863: PCA holds 29.33% of the information. 70.67% is lost\n",
      "1863-1865: PCA holds 26.89% of the information. 73.11% is lost\n",
      "1865-1867: PCA holds 28.03% of the information. 71.97% is lost\n",
      "1867-1869: PCA holds 26.8% of the information. 73.2% is lost\n",
      "1869-1871: PCA holds 22.3% of the information. 77.7% is lost\n",
      "1871-1873: PCA holds 30.27% of the information. 69.73% is lost\n",
      "1873-1875: PCA holds 36.43% of the information. 63.57% is lost\n",
      "1875-1877: PCA holds 33.68% of the information. 66.32% is lost\n",
      "1877-1879: PCA holds 36.48% of the information. 63.52% is lost\n",
      "1879-1881: PCA holds 44.13% of the information. 55.87% is lost\n",
      "1881-1883: PCA holds 43.3% of the information. 56.7% is lost\n",
      "1883-1885: PCA holds 32.35% of the information. 67.65% is lost\n",
      "1885-1887: PCA holds 33.38% of the information. 66.62% is lost\n",
      "1887-1889: PCA holds 47.37% of the information. 52.63% is lost\n",
      "1889-1891: PCA holds 43.0% of the information. 57.0% is lost\n",
      "1891-1893: PCA holds 29.4% of the information. 70.6% is lost\n",
      "1893-1895: PCA holds 45.61% of the information. 54.39% is lost\n",
      "1895-1897: PCA holds 29.19% of the information. 70.81% is lost\n",
      "1897-1899: PCA holds 46.21% of the information. 53.79% is lost\n",
      "1899-1901: PCA holds 45.21% of the information. 54.79% is lost\n",
      "1901-1903: PCA holds 51.28% of the information. 48.72% is lost\n",
      "1903-1905: PCA holds 48.96% of the information. 51.04% is lost\n",
      "1905-1907: PCA holds 41.91% of the information. 58.09% is lost\n",
      "1907-1909: PCA holds 37.54% of the information. 62.46% is lost\n",
      "1909-1911: PCA holds 53.75% of the information. 46.25% is lost\n",
      "1911-1913: PCA holds 35.53% of the information. 64.47% is lost\n",
      "1913-1915: PCA holds 41.89% of the information. 58.11% is lost\n",
      "1915-1917: PCA holds 33.15% of the information. 66.85% is lost\n",
      "1917-1919: PCA holds 26.89% of the information. 73.11% is lost\n",
      "1919-1921: PCA holds 40.64% of the information. 59.36% is lost\n",
      "1921-1923: PCA holds 42.24% of the information. 57.76% is lost\n",
      "1923-1925: PCA holds 35.12% of the information. 64.88% is lost\n",
      "1925-1927: PCA holds 32.3% of the information. 67.7% is lost\n",
      "1927-1929: PCA holds 34.45% of the information. 65.55% is lost\n",
      "1929-1931: PCA holds 39.31% of the information. 60.69% is lost\n",
      "1931-1933: PCA holds 29.22% of the information. 70.78% is lost\n",
      "1933-1935: PCA holds 41.71% of the information. 58.29% is lost\n",
      "1935-1937: PCA holds 34.84% of the information. 65.16% is lost\n",
      "1937-1939: PCA holds 35.23% of the information. 64.77% is lost\n",
      "1939-1941: PCA holds 35.44% of the information. 64.56% is lost\n",
      "1941-1943: PCA holds 30.81% of the information. 69.19% is lost\n",
      "1943-1945: PCA holds 31.87% of the information. 68.13% is lost\n",
      "1945-1947: PCA holds 37.41% of the information. 62.59% is lost\n",
      "1947-1949: PCA holds 42.53% of the information. 57.47% is lost\n",
      "1949-1951: PCA holds 39.49% of the information. 60.51% is lost\n",
      "1951-1953: PCA holds 39.19% of the information. 60.81% is lost\n",
      "1953-1955: PCA holds 38.37% of the information. 61.63% is lost\n",
      "1955-1957: PCA holds 36.86% of the information. 63.14% is lost\n",
      "1957-1959: PCA holds 36.01% of the information. 63.99% is lost\n",
      "1959-1961: PCA holds 36.26% of the information. 63.74% is lost\n",
      "1961-1963: PCA holds 41.1% of the information. 58.9% is lost\n",
      "1963-1965: PCA holds 43.85% of the information. 56.15% is lost\n",
      "1965-1967: PCA holds 35.05% of the information. 64.95% is lost\n",
      "1967-1969: PCA holds 27.28% of the information. 72.72% is lost\n",
      "1969-1971: PCA holds 30.3% of the information. 69.7% is lost\n",
      "1971-1973: PCA holds 30.77% of the information. 69.23% is lost\n",
      "1973-1975: PCA holds 30.48% of the information. 69.52% is lost\n",
      "1975-1977: PCA holds 32.11% of the information. 67.89% is lost\n",
      "1977-1979: PCA holds 29.92% of the information. 70.08% is lost\n",
      "1979-1981: PCA holds 27.15% of the information. 72.85% is lost\n",
      "1981-1983: PCA holds 31.7% of the information. 68.3% is lost\n",
      "1983-1985: PCA holds 28.02% of the information. 71.98% is lost\n",
      "1985-1987: PCA holds 31.26% of the information. 68.74% is lost\n",
      "1987-1989: PCA holds 33.22% of the information. 66.78% is lost\n",
      "1989-1991: PCA holds 34.47% of the information. 65.53% is lost\n",
      "1991-1993: PCA holds 37.23% of the information. 62.77% is lost\n",
      "1993-1995: PCA holds 45.46% of the information. 54.54% is lost\n",
      "1995-1997: PCA holds 51.4% of the information. 48.6% is lost\n",
      "1997-1999: PCA holds 43.05% of the information. 56.95% is lost\n",
      "1999-2001: PCA holds 51.01% of the information. 48.99% is lost\n",
      "2001-2003: PCA holds 48.34% of the information. 51.66% is lost\n",
      "2003-2005: PCA holds 56.18% of the information. 43.82% is lost\n",
      "2005-2007: PCA holds 50.01% of the information. 49.99% is lost\n",
      "2007-2009: PCA holds 48.55% of the information. 51.45% is lost\n",
      "2009-2011: PCA holds 65.42% of the information. 34.58% is lost\n",
      "2011-2013: PCA holds 51.36% of the information. 48.64% is lost\n",
      "2013-2015: PCA holds 64.2% of the information. 35.8% is lost\n",
      "2015-2017: PCA holds 54.53% of the information. 45.47% is lost\n",
      "2017-2019: PCA holds 62.99% of the information. 37.01% is lost\n",
      "2019-2021: PCA holds 64.91% of the information. 35.09% is lost\n"
     ]
    }
   ],
   "source": [
    "X1, X2 = [], []  # arrays where we will store components of PCA for each Congress number\n",
    "ind = 0\n",
    "# loop over each Congress number, which corresponds to a two year period\n",
    "for key in DataFrameDict.keys():\n",
    "    df = DataFrameDict[key].set_index('icpsr')                  # make icpsr id the index\n",
    "    df = df.pivot_table('cast_code', ['icpsr'], 'rollnumber')   # pivot table \n",
    "   # df = df.loc[df.isnull().mean(axis=1) < .75 ,:] # delete senators with 25% or more absence\n",
    "    df = df.fillna(0)    # fill NaN values with 0\n",
    "   # df = df[df.astype('bool').mean(axis=1)>=0.8]\n",
    "    \n",
    "\n",
    "    x = df.to_numpy() # convert dataframe to numpy array\n",
    "    x = StandardScaler().fit_transform(x) # scale data to have zero mean and unit std\n",
    "    \n",
    "    # apply PCA and append to X1 and X2\n",
    "    pca = PCA(n_components=2)\n",
    "    principalComponents = pca.fit_transform(x)\n",
    "    x1 = principalComponents[:,0]\n",
    "    x2 = principalComponents[:,1]\n",
    "\n",
    "    X1.append(x1)\n",
    "    X2.append(x2)\n",
    "\n",
    "    print(dates[ind]+': PCA holds '+str(round(100*np.sum(pca.explained_variance_ratio_),2))+\n",
    "                              '% of the information. '+ str(round(100*(1-\n",
    "                               np.sum(pca.explained_variance_ratio_)),2))+'% is lost')\n",
    "    ind+=1"
   ]
  },
  {
   "cell_type": "markdown",
   "metadata": {},
   "source": [
    "Naturally, a large chunk of the information is lost in the process. This is because we are converting from a high dimensional space into a two dimensional space. For example, for the years 2017-2019, we are converting from 399 dimensional space to 2 dimensional space while still able to keep 63.13% percent of the information!\n",
    "<br><br>\n",
    "Next, we plot and visualise the principle components "
   ]
  },
  {
   "cell_type": "code",
   "execution_count": 699,
   "metadata": {},
   "outputs": [],
   "source": [
    "# make a list of all parties in the US\n",
    "parties_list = []\n",
    "for key in party_dict:\n",
    "    parties_list.append(party_dict[key])\n",
    "parties_list = np.unique(parties_list)\n",
    "\n",
    "# assign a unique color to each party\n",
    "dz = np.arange(len(parties_list))\n",
    "colors = plt.cm.nipy_spectral(np.linspace(0,1,len(dz)))\n",
    "np.random.shuffle(colors)\n",
    "colors_dict = {}\n",
    "for A, B in zip(parties_list, colors):\n",
    "    colors_dict[A] = B\n",
    "    \n",
    "# make partyArray which contains the parties for each Congress year\n",
    "# nameArray contains senator names for each Congress year\n",
    "# colorArray contains the colors for each party for each Congress year\n",
    "partyArray, nameArray, colorArray = [],[],[]\n",
    "for i in range(0, len(X1)):\n",
    "    x1 = X1[i]\n",
    "    x2 = X2[i]\n",
    "    names, parties, full_names = [], [], []\n",
    "    for j in range(len(x1)):\n",
    "        full_names.append(name_dict['bioname'][DataFrameDict[i+1]['icpsr'].values[j]]) \n",
    "        parties.append(party_dict[df_party.query(\n",
    "            'congress=='+str(i+1)).loc[DataFrameDict[i+1]['icpsr'].values[j]][1]])\n",
    "\n",
    "    colors = [colors_dict.get(key) for key in parties]\n",
    "    nameArray.append(full_names)\n",
    "    partyArray.append(parties)\n",
    "    colorArray.append(colors)"
   ]
  },
  {
   "cell_type": "code",
   "execution_count": 700,
   "metadata": {},
   "outputs": [
    {
     "data": {
      "text/plain": [
       "(101,)"
      ]
     },
     "execution_count": 700,
     "metadata": {},
     "output_type": "execute_result"
    }
   ],
   "source": [
    "X1[107].shape"
   ]
  },
  {
   "cell_type": "code",
   "execution_count": 701,
   "metadata": {},
   "outputs": [],
   "source": [
    "# function to make dataframe for plotting with plotly\n",
    "def make_dataframe(year):\n",
    "    congress_number = math.floor((year-1787)/2)\n",
    "    i = congress_number - 1\n",
    "    parties = partyArray[i]\n",
    "    d = {'x1': X1[i], 'x2': X2[i], 'name': nameArray[i], 'party': parties}\n",
    "    dd = pd.DataFrame(data=d)\n",
    "    dd = dd.sort_values(['party'])\n",
    "    \n",
    "    party_names = np.unique(parties)\n",
    "    df = {party:dd.query(\"party == '%s'\" %party)\n",
    "                              for party in party_names}\n",
    "    \n",
    "    return df\n",
    "\n",
    "# function to plot the principle components\n",
    "def plot_PCA(year):\n",
    "    congress_number = math.floor((year-1787)/2)\n",
    "    df = make_dataframe(year)\n",
    "    fig = go.Figure()\n",
    "    for party_name, party in df.items():\n",
    "        fig.add_trace(go.Scatter(\n",
    "            x = party['x1'],\n",
    "            y = party['x2'],\n",
    "            name = party_name,\n",
    "            hovertemplate = \n",
    "            \"<b>%{text}</b><br><br>\",\n",
    "            text = party['name'],\n",
    "            marker_size=5))\n",
    "\n",
    "    fig.update_traces(\n",
    "        mode='markers')\n",
    "\n",
    "    fig.update_layout(\n",
    "        width=600,\n",
    "        height=500,\n",
    "        margin=go.layout.Margin(l=15,r=1,b=10,t=50,pad=1),\n",
    "        xaxis={'title':'PCA 1'},\n",
    "        yaxis={'title':'PCA 2'},\n",
    "        title=str(CongressSessions[congress_number-1]\n",
    "                 ) +'th Congress ('+ dates[congress_number-1]+')',\n",
    "        font=dict(\n",
    "            family=\"Courier New, monospace\",\n",
    "            size=12,\n",
    "            color=\"#000000\"\n",
    "         )\n",
    "    )\n",
    "\n",
    "    fig.show()    "
   ]
  },
  {
   "cell_type": "code",
   "execution_count": 702,
   "metadata": {},
   "outputs": [
    {
     "data": {
      "text/html": [
       "<div>\n",
       "<style scoped>\n",
       "    .dataframe tbody tr th:only-of-type {\n",
       "        vertical-align: middle;\n",
       "    }\n",
       "\n",
       "    .dataframe tbody tr th {\n",
       "        vertical-align: top;\n",
       "    }\n",
       "\n",
       "    .dataframe thead th {\n",
       "        text-align: right;\n",
       "    }\n",
       "</style>\n",
       "<table border=\"1\" class=\"dataframe\">\n",
       "  <thead>\n",
       "    <tr style=\"text-align: right;\">\n",
       "      <th>rollnumber</th>\n",
       "      <th>1</th>\n",
       "      <th>2</th>\n",
       "      <th>3</th>\n",
       "      <th>4</th>\n",
       "      <th>5</th>\n",
       "      <th>6</th>\n",
       "      <th>7</th>\n",
       "      <th>8</th>\n",
       "      <th>9</th>\n",
       "      <th>10</th>\n",
       "      <th>...</th>\n",
       "      <th>624</th>\n",
       "      <th>625</th>\n",
       "      <th>626</th>\n",
       "      <th>627</th>\n",
       "      <th>628</th>\n",
       "      <th>629</th>\n",
       "      <th>630</th>\n",
       "      <th>631</th>\n",
       "      <th>632</th>\n",
       "      <th>633</th>\n",
       "    </tr>\n",
       "    <tr>\n",
       "      <th>icpsr</th>\n",
       "      <th></th>\n",
       "      <th></th>\n",
       "      <th></th>\n",
       "      <th></th>\n",
       "      <th></th>\n",
       "      <th></th>\n",
       "      <th></th>\n",
       "      <th></th>\n",
       "      <th></th>\n",
       "      <th></th>\n",
       "      <th></th>\n",
       "      <th></th>\n",
       "      <th></th>\n",
       "      <th></th>\n",
       "      <th></th>\n",
       "      <th></th>\n",
       "      <th></th>\n",
       "      <th></th>\n",
       "      <th></th>\n",
       "      <th></th>\n",
       "      <th></th>\n",
       "    </tr>\n",
       "  </thead>\n",
       "  <tbody>\n",
       "    <tr>\n",
       "      <th>1366</th>\n",
       "      <td>1.0</td>\n",
       "      <td>1.0</td>\n",
       "      <td>1.0</td>\n",
       "      <td>1.0</td>\n",
       "      <td>1.0</td>\n",
       "      <td>1.0</td>\n",
       "      <td>1.0</td>\n",
       "      <td>1.0</td>\n",
       "      <td>1.0</td>\n",
       "      <td>1.0</td>\n",
       "      <td>...</td>\n",
       "      <td>-1.0</td>\n",
       "      <td>1.0</td>\n",
       "      <td>-1.0</td>\n",
       "      <td>-1.0</td>\n",
       "      <td>-1.0</td>\n",
       "      <td>-1.0</td>\n",
       "      <td>1.0</td>\n",
       "      <td>1.0</td>\n",
       "      <td>1.0</td>\n",
       "      <td>1.0</td>\n",
       "    </tr>\n",
       "    <tr>\n",
       "      <th>4812</th>\n",
       "      <td>1.0</td>\n",
       "      <td>1.0</td>\n",
       "      <td>1.0</td>\n",
       "      <td>1.0</td>\n",
       "      <td>1.0</td>\n",
       "      <td>1.0</td>\n",
       "      <td>1.0</td>\n",
       "      <td>-1.0</td>\n",
       "      <td>0.0</td>\n",
       "      <td>0.0</td>\n",
       "      <td>...</td>\n",
       "      <td>0.0</td>\n",
       "      <td>1.0</td>\n",
       "      <td>-1.0</td>\n",
       "      <td>-1.0</td>\n",
       "      <td>1.0</td>\n",
       "      <td>-1.0</td>\n",
       "      <td>1.0</td>\n",
       "      <td>1.0</td>\n",
       "      <td>1.0</td>\n",
       "      <td>1.0</td>\n",
       "    </tr>\n",
       "    <tr>\n",
       "      <th>9369</th>\n",
       "      <td>1.0</td>\n",
       "      <td>1.0</td>\n",
       "      <td>1.0</td>\n",
       "      <td>1.0</td>\n",
       "      <td>1.0</td>\n",
       "      <td>1.0</td>\n",
       "      <td>1.0</td>\n",
       "      <td>1.0</td>\n",
       "      <td>1.0</td>\n",
       "      <td>1.0</td>\n",
       "      <td>...</td>\n",
       "      <td>1.0</td>\n",
       "      <td>-1.0</td>\n",
       "      <td>1.0</td>\n",
       "      <td>1.0</td>\n",
       "      <td>1.0</td>\n",
       "      <td>1.0</td>\n",
       "      <td>1.0</td>\n",
       "      <td>1.0</td>\n",
       "      <td>1.0</td>\n",
       "      <td>1.0</td>\n",
       "    </tr>\n",
       "    <tr>\n",
       "      <th>10808</th>\n",
       "      <td>1.0</td>\n",
       "      <td>1.0</td>\n",
       "      <td>1.0</td>\n",
       "      <td>1.0</td>\n",
       "      <td>1.0</td>\n",
       "      <td>-1.0</td>\n",
       "      <td>1.0</td>\n",
       "      <td>-1.0</td>\n",
       "      <td>1.0</td>\n",
       "      <td>1.0</td>\n",
       "      <td>...</td>\n",
       "      <td>0.0</td>\n",
       "      <td>0.0</td>\n",
       "      <td>0.0</td>\n",
       "      <td>0.0</td>\n",
       "      <td>0.0</td>\n",
       "      <td>-1.0</td>\n",
       "      <td>-1.0</td>\n",
       "      <td>1.0</td>\n",
       "      <td>1.0</td>\n",
       "      <td>1.0</td>\n",
       "    </tr>\n",
       "    <tr>\n",
       "      <th>11204</th>\n",
       "      <td>1.0</td>\n",
       "      <td>1.0</td>\n",
       "      <td>1.0</td>\n",
       "      <td>1.0</td>\n",
       "      <td>1.0</td>\n",
       "      <td>1.0</td>\n",
       "      <td>1.0</td>\n",
       "      <td>-1.0</td>\n",
       "      <td>1.0</td>\n",
       "      <td>1.0</td>\n",
       "      <td>...</td>\n",
       "      <td>1.0</td>\n",
       "      <td>1.0</td>\n",
       "      <td>-1.0</td>\n",
       "      <td>-1.0</td>\n",
       "      <td>1.0</td>\n",
       "      <td>-1.0</td>\n",
       "      <td>1.0</td>\n",
       "      <td>1.0</td>\n",
       "      <td>1.0</td>\n",
       "      <td>1.0</td>\n",
       "    </tr>\n",
       "    <tr>\n",
       "      <th>...</th>\n",
       "      <td>...</td>\n",
       "      <td>...</td>\n",
       "      <td>...</td>\n",
       "      <td>...</td>\n",
       "      <td>...</td>\n",
       "      <td>...</td>\n",
       "      <td>...</td>\n",
       "      <td>...</td>\n",
       "      <td>...</td>\n",
       "      <td>...</td>\n",
       "      <td>...</td>\n",
       "      <td>...</td>\n",
       "      <td>...</td>\n",
       "      <td>...</td>\n",
       "      <td>...</td>\n",
       "      <td>...</td>\n",
       "      <td>...</td>\n",
       "      <td>...</td>\n",
       "      <td>...</td>\n",
       "      <td>...</td>\n",
       "      <td>...</td>\n",
       "    </tr>\n",
       "    <tr>\n",
       "      <th>49905</th>\n",
       "      <td>1.0</td>\n",
       "      <td>1.0</td>\n",
       "      <td>1.0</td>\n",
       "      <td>1.0</td>\n",
       "      <td>1.0</td>\n",
       "      <td>1.0</td>\n",
       "      <td>1.0</td>\n",
       "      <td>1.0</td>\n",
       "      <td>1.0</td>\n",
       "      <td>1.0</td>\n",
       "      <td>...</td>\n",
       "      <td>1.0</td>\n",
       "      <td>-1.0</td>\n",
       "      <td>1.0</td>\n",
       "      <td>1.0</td>\n",
       "      <td>1.0</td>\n",
       "      <td>1.0</td>\n",
       "      <td>1.0</td>\n",
       "      <td>1.0</td>\n",
       "      <td>1.0</td>\n",
       "      <td>1.0</td>\n",
       "    </tr>\n",
       "    <tr>\n",
       "      <th>94240</th>\n",
       "      <td>0.0</td>\n",
       "      <td>0.0</td>\n",
       "      <td>0.0</td>\n",
       "      <td>0.0</td>\n",
       "      <td>0.0</td>\n",
       "      <td>0.0</td>\n",
       "      <td>0.0</td>\n",
       "      <td>0.0</td>\n",
       "      <td>0.0</td>\n",
       "      <td>0.0</td>\n",
       "      <td>...</td>\n",
       "      <td>-1.0</td>\n",
       "      <td>1.0</td>\n",
       "      <td>-1.0</td>\n",
       "      <td>-1.0</td>\n",
       "      <td>-1.0</td>\n",
       "      <td>-1.0</td>\n",
       "      <td>-1.0</td>\n",
       "      <td>1.0</td>\n",
       "      <td>1.0</td>\n",
       "      <td>1.0</td>\n",
       "    </tr>\n",
       "    <tr>\n",
       "      <th>94659</th>\n",
       "      <td>1.0</td>\n",
       "      <td>1.0</td>\n",
       "      <td>1.0</td>\n",
       "      <td>1.0</td>\n",
       "      <td>1.0</td>\n",
       "      <td>1.0</td>\n",
       "      <td>1.0</td>\n",
       "      <td>1.0</td>\n",
       "      <td>1.0</td>\n",
       "      <td>1.0</td>\n",
       "      <td>...</td>\n",
       "      <td>1.0</td>\n",
       "      <td>-1.0</td>\n",
       "      <td>1.0</td>\n",
       "      <td>1.0</td>\n",
       "      <td>1.0</td>\n",
       "      <td>1.0</td>\n",
       "      <td>1.0</td>\n",
       "      <td>-1.0</td>\n",
       "      <td>-1.0</td>\n",
       "      <td>1.0</td>\n",
       "    </tr>\n",
       "    <tr>\n",
       "      <th>95407</th>\n",
       "      <td>1.0</td>\n",
       "      <td>1.0</td>\n",
       "      <td>1.0</td>\n",
       "      <td>1.0</td>\n",
       "      <td>1.0</td>\n",
       "      <td>1.0</td>\n",
       "      <td>1.0</td>\n",
       "      <td>1.0</td>\n",
       "      <td>1.0</td>\n",
       "      <td>1.0</td>\n",
       "      <td>...</td>\n",
       "      <td>0.0</td>\n",
       "      <td>-1.0</td>\n",
       "      <td>1.0</td>\n",
       "      <td>1.0</td>\n",
       "      <td>1.0</td>\n",
       "      <td>1.0</td>\n",
       "      <td>1.0</td>\n",
       "      <td>1.0</td>\n",
       "      <td>1.0</td>\n",
       "      <td>1.0</td>\n",
       "    </tr>\n",
       "    <tr>\n",
       "      <th>99910</th>\n",
       "      <td>1.0</td>\n",
       "      <td>1.0</td>\n",
       "      <td>1.0</td>\n",
       "      <td>1.0</td>\n",
       "      <td>1.0</td>\n",
       "      <td>1.0</td>\n",
       "      <td>1.0</td>\n",
       "      <td>1.0</td>\n",
       "      <td>1.0</td>\n",
       "      <td>0.0</td>\n",
       "      <td>...</td>\n",
       "      <td>0.0</td>\n",
       "      <td>0.0</td>\n",
       "      <td>0.0</td>\n",
       "      <td>0.0</td>\n",
       "      <td>0.0</td>\n",
       "      <td>1.0</td>\n",
       "      <td>1.0</td>\n",
       "      <td>0.0</td>\n",
       "      <td>1.0</td>\n",
       "      <td>0.0</td>\n",
       "    </tr>\n",
       "  </tbody>\n",
       "</table>\n",
       "<p>102 rows × 633 columns</p>\n",
       "</div>"
      ],
      "text/plain": [
       "rollnumber  1    2    3    4    5    6    7    8    9    10   ...  624  625  \\\n",
       "icpsr                                                         ...             \n",
       "1366        1.0  1.0  1.0  1.0  1.0  1.0  1.0  1.0  1.0  1.0  ... -1.0  1.0   \n",
       "4812        1.0  1.0  1.0  1.0  1.0  1.0  1.0 -1.0  0.0  0.0  ...  0.0  1.0   \n",
       "9369        1.0  1.0  1.0  1.0  1.0  1.0  1.0  1.0  1.0  1.0  ...  1.0 -1.0   \n",
       "10808       1.0  1.0  1.0  1.0  1.0 -1.0  1.0 -1.0  1.0  1.0  ...  0.0  0.0   \n",
       "11204       1.0  1.0  1.0  1.0  1.0  1.0  1.0 -1.0  1.0  1.0  ...  1.0  1.0   \n",
       "...         ...  ...  ...  ...  ...  ...  ...  ...  ...  ...  ...  ...  ...   \n",
       "49905       1.0  1.0  1.0  1.0  1.0  1.0  1.0  1.0  1.0  1.0  ...  1.0 -1.0   \n",
       "94240       0.0  0.0  0.0  0.0  0.0  0.0  0.0  0.0  0.0  0.0  ... -1.0  1.0   \n",
       "94659       1.0  1.0  1.0  1.0  1.0  1.0  1.0  1.0  1.0  1.0  ...  1.0 -1.0   \n",
       "95407       1.0  1.0  1.0  1.0  1.0  1.0  1.0  1.0  1.0  1.0  ...  0.0 -1.0   \n",
       "99910       1.0  1.0  1.0  1.0  1.0  1.0  1.0  1.0  1.0  0.0  ...  0.0  0.0   \n",
       "\n",
       "rollnumber  626  627  628  629  630  631  632  633  \n",
       "icpsr                                               \n",
       "1366       -1.0 -1.0 -1.0 -1.0  1.0  1.0  1.0  1.0  \n",
       "4812       -1.0 -1.0  1.0 -1.0  1.0  1.0  1.0  1.0  \n",
       "9369        1.0  1.0  1.0  1.0  1.0  1.0  1.0  1.0  \n",
       "10808       0.0  0.0  0.0 -1.0 -1.0  1.0  1.0  1.0  \n",
       "11204      -1.0 -1.0  1.0 -1.0  1.0  1.0  1.0  1.0  \n",
       "...         ...  ...  ...  ...  ...  ...  ...  ...  \n",
       "49905       1.0  1.0  1.0  1.0  1.0  1.0  1.0  1.0  \n",
       "94240      -1.0 -1.0 -1.0 -1.0 -1.0  1.0  1.0  1.0  \n",
       "94659       1.0  1.0  1.0  1.0  1.0 -1.0 -1.0  1.0  \n",
       "95407       1.0  1.0  1.0  1.0  1.0  1.0  1.0  1.0  \n",
       "99910       0.0  0.0  0.0  1.0  1.0  0.0  1.0  0.0  \n",
       "\n",
       "[102 rows x 633 columns]"
      ]
     },
     "execution_count": 702,
     "metadata": {},
     "output_type": "execute_result"
    }
   ],
   "source": [
    "df = DataFrameDict[107].set_index('icpsr')                  # make icpsr id the index\n",
    "df = df.pivot_table('cast_code', ['icpsr'], 'rollnumber')   # pivot table \n",
    "df = df.loc[df.isnull().mean(axis=1) < .8 ,:] # delete senators with 25% or more absence\n",
    "df = df.fillna(0)    # fill NaN values with 0\n",
    "  #  df = df[df.astype('bool').mean(axis=1)>=0.5]\n",
    "    \n",
    "df"
   ]
  },
  {
   "cell_type": "code",
   "execution_count": 703,
   "metadata": {},
   "outputs": [
    {
     "data": {
      "text/plain": [
       "array([[ True,  True,  True,  True,  True,  True,  True,  True,  True,\n",
       "         True,  True,  True,  True,  True,  True,  True,  True,  True,\n",
       "         True,  True,  True,  True,  True,  True,  True,  True,  True,\n",
       "         True,  True,  True,  True,  True,  True,  True,  True,  True,\n",
       "         True,  True,  True,  True,  True,  True,  True,  True,  True,\n",
       "         True,  True,  True,  True,  True,  True,  True,  True,  True,\n",
       "         True,  True,  True,  True,  True,  True,  True,  True,  True,\n",
       "         True,  True,  True,  True,  True,  True,  True,  True,  True,\n",
       "         True,  True,  True,  True,  True,  True,  True,  True,  True,\n",
       "         True,  True,  True,  True,  True,  True,  True,  True,  True,\n",
       "         True,  True,  True,  True,  True,  True,  True,  True,  True,\n",
       "         True,  True,  True,  True,  True,  True,  True,  True,  True,\n",
       "         True,  True,  True,  True,  True,  True,  True,  True,  True,\n",
       "         True,  True,  True,  True,  True,  True,  True,  True,  True,\n",
       "         True,  True,  True,  True,  True,  True,  True,  True,  True,\n",
       "         True,  True,  True,  True,  True,  True,  True,  True,  True,\n",
       "         True,  True,  True,  True,  True,  True,  True,  True,  True,\n",
       "         True,  True,  True,  True,  True,  True,  True,  True,  True,\n",
       "         True,  True,  True,  True,  True,  True,  True,  True, False,\n",
       "        False, False, False, False, False, False, False, False, False,\n",
       "        False, False, False, False, False, False, False, False, False,\n",
       "        False, False, False, False,  True,  True, False, False, False,\n",
       "        False, False, False, False, False, False, False, False, False,\n",
       "        False, False, False, False, False, False, False, False, False,\n",
       "        False, False, False, False, False, False, False, False, False,\n",
       "        False, False, False, False, False, False, False, False, False,\n",
       "        False, False, False, False, False, False, False, False, False,\n",
       "        False, False, False, False, False,  True, False, False, False,\n",
       "        False, False, False,  True, False, False, False, False, False,\n",
       "        False, False, False, False, False, False, False, False, False,\n",
       "        False, False, False,  True, False, False, False, False, False,\n",
       "         True, False, False, False, False,  True, False, False, False,\n",
       "        False, False, False,  True, False, False, False, False, False,\n",
       "         True, False, False, False, False, False, False, False, False,\n",
       "        False, False, False, False, False, False, False, False, False,\n",
       "        False, False, False, False, False, False,  True, False, False,\n",
       "        False, False, False, False, False, False, False, False, False,\n",
       "        False, False, False, False, False, False, False, False, False,\n",
       "        False, False, False, False, False, False, False, False, False,\n",
       "        False, False, False, False, False, False,  True,  True,  True,\n",
       "        False, False, False, False, False, False, False, False, False,\n",
       "        False, False, False, False, False, False, False, False, False,\n",
       "        False, False, False, False, False, False, False, False, False,\n",
       "        False, False, False, False, False,  True,  True,  True,  True,\n",
       "        False, False, False,  True, False, False, False, False, False,\n",
       "        False, False, False, False, False, False, False, False, False,\n",
       "        False,  True, False, False, False, False, False, False, False,\n",
       "        False, False, False, False, False, False, False, False, False,\n",
       "        False, False, False, False, False, False, False, False, False,\n",
       "        False, False, False, False, False, False, False, False, False,\n",
       "        False, False, False, False, False, False, False, False, False,\n",
       "        False, False, False, False,  True, False, False, False, False,\n",
       "        False, False, False, False, False, False, False, False, False,\n",
       "        False, False, False, False, False, False, False, False, False,\n",
       "         True,  True, False, False, False, False, False, False, False,\n",
       "        False, False, False, False, False, False, False, False, False,\n",
       "        False, False, False, False, False, False, False, False, False,\n",
       "        False, False, False, False, False, False, False, False, False,\n",
       "        False, False, False, False, False, False, False, False, False,\n",
       "         True,  True,  True,  True, False, False, False, False, False,\n",
       "        False, False, False, False, False, False, False, False, False,\n",
       "        False, False, False, False, False, False, False, False, False,\n",
       "        False, False, False, False, False, False, False, False, False,\n",
       "        False, False, False, False, False, False, False, False, False,\n",
       "        False, False, False, False, False, False,  True, False, False,\n",
       "        False, False,  True, False, False, False, False, False, False,\n",
       "        False, False, False, False, False, False, False, False, False,\n",
       "        False, False, False, False, False, False, False, False, False,\n",
       "        False, False, False, False, False, False, False, False, False,\n",
       "        False, False, False, False, False, False, False, False, False,\n",
       "        False, False, False]])"
      ]
     },
     "execution_count": 703,
     "metadata": {},
     "output_type": "execute_result"
    }
   ],
   "source": [
    "#name_dict['bioname'][94240]\n",
    "\n",
    "df[98:99].values==0\n"
   ]
  },
  {
   "cell_type": "code",
   "execution_count": 713,
   "metadata": {},
   "outputs": [
    {
     "data": {
      "application/vnd.plotly.v1+json": {
       "config": {
        "plotlyServerURL": "https://plot.ly"
       },
       "data": [
        {
         "hovertemplate": "<b>%{text}</b><br><br>",
         "marker": {
          "size": 5
         },
         "mode": "markers",
         "name": "Democrat",
         "text": [
          "BYRD, Robert Carlyle",
          "KERRY, John Forbes",
          "ROCKEFELLER, John Davison IV (Jay)",
          "BOXER, Barbara",
          "CARPER, Thomas Richard",
          "DURBIN, Richard Joseph",
          "REID, Harry",
          "TORRICELLI, Robert Guy",
          "BYRD, Robert Carlyle",
          "JOHNSON, Timothy Peter (Tim)",
          "CONRAD, Kent",
          "GRAHAM, Daniel Robert (Bob)",
          "KOHL, Herbert H.",
          "LIEBERMAN, Joseph I.",
          "REED, John F. (Jack)",
          "LINCOLN, Blanche Lambert",
          "STABENOW, Deborah Ann",
          "CANTWELL, Maria E.",
          "MILLER, Zell Bryan",
          "EDWARDS, John",
          "BAYH, Evan",
          "LANDRIEU, Mary L.",
          "CLELAND, Joseph Maxwell (Max)",
          "FEINGOLD, Russell Dana",
          "BINGAMAN, Jesse Francis, Jr. (Jeff)",
          "MURRAY, Patty",
          "WELLSTONE, Paul David",
          "CLINTON, Hillary Rodham",
          "CORZINE, Jon Stevens",
          "NELSON, Earl Benjamin (Ben)",
          "CARNAHAN, Jean",
          "DAYTON, Mark",
          "FEINSTEIN, Dianne",
          "WYDEN, Ronald Lee",
          "INOUYE, Daniel Ken",
          "BAUCUS, Max Sieben",
          "AKAKA, Daniel Kahikina",
          "DODD, Christopher John",
          "HOLLINGS, Ernest Frederick",
          "DASCHLE, Thomas Andrew",
          "BREAUX, John Berlinger",
          "LEAHY, Patrick Joseph",
          "NELSON, Clarence William (Bill)",
          "MIKULSKI, Barbara Ann",
          "LEVIN, Carl",
          "SARBANES, Paul Spyros",
          "BIDEN, Joseph Robinette, Jr.",
          "DORGAN, Byron Leslie",
          "INOUYE, Daniel Ken",
          "SCHUMER, Charles Ellis (Chuck)",
          "HARKIN, Thomas Richard (Tom)",
          "KENNEDY, Edward Moore (Ted)"
         ],
         "type": "scatter",
         "x": [
          13.873824726556311,
          17.314316955113945,
          17.153529165852962,
          18.66412439886262,
          10.905899321030063,
          18.510061706519938,
          17.160389706898684,
          12.311955796686721,
          -13.51965274205856,
          13.80715691667329,
          15.256572549522657,
          14.909254973595557,
          13.96823581915842,
          15.379264961185148,
          19.45627585867915,
          9.054522146262073,
          18.1338729204905,
          16.30748996274023,
          -16.282403922400064,
          10.723850413255207,
          -11.042002462366785,
          9.611338264853016,
          -16.229666021341565,
          16.887689670535174,
          14.104013530134443,
          -16.859257101295064,
          -3.667745399984003,
          17.84588088632927,
          18.901016041187773,
          2.508337761636906,
          13.399082735165427,
          19.092983980040337,
          19.967492626209847,
          15.389047915429245,
          -4.541109988692708,
          6.927686582031373,
          16.774712144390616,
          18.1048538139379,
          16.18660638688973,
          15.257932042926784,
          2.965427516533587,
          18.697098336736705,
          14.700266073253612,
          18.30720770965953,
          18.744923699433265,
          19.576798161001527,
          16.277630987850312,
          15.284524246264489,
          16.59369819700714,
          16.82284765408017,
          17.931731055862734,
          18.48754072870977
         ],
         "y": [
          0.5567612727569246,
          -1.4907425012225721,
          -1.1079532988644705,
          0.7670878818904026,
          -2.851795112758378,
          -0.36329332094001215,
          -2.519007888600111,
          1.9279191399582705,
          -4.192179147546862,
          -2.510042907769951,
          -1.9944023757220721,
          -2.1802255888535305,
          -2.6411852989774136,
          -1.8464735025519377,
          -0.7544586978454174,
          -3.4913177543155083,
          -2.065044104591527,
          -2.3033989691367895,
          2.0511633417157826,
          -2.246487317610125,
          -2.050889686933164,
          -3.26280453962755,
          -1.5661876639201198,
          -1.7173891352626844,
          -2.4484804516110525,
          -3.162872980087922,
          56.49737810483142,
          -0.704224255562137,
          1.6321486159473464,
          -2.5308249406024683,
          -2.71503136890628,
          0.07800658346134236,
          1.0676354037368534,
          -2.474064576664217,
          31.394833696123438,
          -3.293018554020678,
          0.4618633572215675,
          1.667373160761041,
          -1.2601701686280495,
          -2.8348721274182958,
          -3.139186062526079,
          -1.3772155029082849,
          -2.3460877352511633,
          -0.7079498171209951,
          -1.3485715371011888,
          -1.2679711499812358,
          -0.7886378964833227,
          -2.366479422367366,
          2.878305983112939,
          -0.825348427651316,
          -0.6224598554167668,
          1.0476224056831642
         ]
        },
        {
         "hovertemplate": "<b>%{text}</b><br><br>",
         "marker": {
          "size": 5
         },
         "mode": "markers",
         "name": "Republican",
         "text": [
          "LOTT, Chester Trent",
          "HUTCHISON, Kathryn Ann Bailey (Kay)",
          "BENNETT, Robert",
          "DOMENICI, Pete Vichi",
          "HELMS, Jesse",
          "COCHRAN, William Thad",
          "MURKOWSKI, Frank Hughes",
          "THOMPSON, Fred Dalton",
          "SESSIONS, Jefferson Beauregard III (Jeff)",
          "COLLINS, Susan Margaret",
          "HAGEL, Charles Timothy (Chuck)",
          "SMITH, Gordon Harold",
          "ENZI, Michael B.",
          "FITZGERALD, Peter G.",
          "THURMOND, James Strom",
          "VOINOVICH, George Victor",
          "CHAFEE, Lincoln Davenport",
          "SHELBY, Richard C.",
          "CAMPBELL, Ben Nighthorse",
          "BUSH, George Walker",
          "FRIST, William H.",
          "STEVENS, Theodore Fulton (Ted)",
          "BROWNBACK, Sam Dale",
          "ENSIGN, John Eric",
          "NICKLES, Donald Lee",
          "SPECTER, Arlen",
          "ROBERTS, Charles Patrick (Pat)",
          "GREGG, Judd Alan",
          "McCONNELL, Addison Mitchell (Mitch)",
          "CRAIG, Larry Edwin",
          "WARNER, John William",
          "DeWINE, Michael",
          "McCAIN, John Sidney, III",
          "SNOWE, Olympia Jean",
          "SMITH, Robert C.",
          "BUNNING, James Paul David",
          "GRAMM, William Philip (Phil)",
          "KYL, Jon Llewellyn",
          "BOND, Christopher Samuel (Kit)",
          "LUGAR, Richard Green",
          "HATCH, Orrin Grant",
          "THOMAS, Craig Lyle",
          "BURNS, Conrad",
          "ALLARD, A. Wayne",
          "SANTORUM, Richard John (Rick)",
          "ALLEN, George",
          "JEFFORDS, James Merrill",
          "HUTCHINSON, Timothy",
          "CRAPO, Michael Dean",
          "GRASSLEY, Charles Ernest",
          "INHOFE, James Mountain"
         ],
         "type": "scatter",
         "x": [
          -18.552086229591104,
          13.390222461460237,
          -15.592702457999785,
          -13.426867260764627,
          -16.307948309081013,
          -13.568676226158123,
          -15.622416577394954,
          -17.989736976475914,
          -16.647329852137304,
          9.973573174037607,
          -5.522029507509949,
          -16.193282312860106,
          -10.09011423604757,
          -17.69092703791848,
          -17.465114812968217,
          14.85238085315687,
          -3.3680370609531187,
          -0.8282735676582516,
          8.826261556140864,
          -13.126955057902958,
          15.216688469916019,
          -12.670532416768319,
          -16.891389851899824,
          -15.391469346097955,
          -19.312879905125293,
          -3.9153100834793584,
          -17.05620280991268,
          -16.538336695726553,
          -17.869222753180303,
          -17.46100451540456,
          -12.922112435314906,
          -13.50206251641617,
          -9.576738057647459,
          -4.583433046153013,
          -18.316255259023393,
          -18.4430185874986,
          -19.06603207225318,
          -19.686534208375463,
          -16.59678635439423,
          -15.956160023075759,
          -16.34076331134332,
          -18.54488620624076,
          -16.068706277136194,
          -17.941299171275837,
          -17.650276262141475,
          -15.646349094870246,
          -4.93513719627642,
          -14.63223091909372,
          -15.454467030911143,
          -15.68872456404527,
          -17.70543746924412
         ],
         "y": [
          -3.0434958435718205,
          -2.2511374375682904,
          -3.2012936022722656,
          0.012664342722151863,
          17.527144456345884,
          -4.221052422386964,
          -1.755794102233168,
          -3.644470233983378,
          -0.8717302528676082,
          -2.154774537279601,
          -4.128673228467028,
          -3.2262152339858705,
          -3.861930006774733,
          -1.4482082298851138,
          -2.333880161613705,
          -3.009912656909533,
          -1.0531906006663823,
          -2.341306265880393,
          9.556500482947964,
          -4.227538749397519,
          5.105214975569493,
          -2.302807723944267,
          -2.442188192228943,
          0.007593769521250853,
          -0.731247135816081,
          -1.7369111017899335,
          -3.1816645089420645,
          -1.4470508888197628,
          -3.072036186520817,
          -2.0354183540433035,
          -4.231516947981276,
          -3.7526000184248876,
          5.582031493374909,
          -4.153427752222565,
          -1.4400450092619617,
          -2.1666519137148073,
          1.1505894605454066,
          -0.5619645222671332,
          -2.58069391953682,
          -3.6264983407513554,
          -3.8720036209267112,
          -0.1674576570589916,
          -2.691565447769328,
          -3.237592238646651,
          -2.461024949335577,
          -3.385756677838863,
          48.97571697479378,
          -1.5411884491062122,
          -1.256854694057361,
          -4.366822703535583,
          -1.3592167393777408
         ]
        }
       ],
       "layout": {
        "font": {
         "color": "#000000",
         "family": "Courier New, monospace",
         "size": 12
        },
        "height": 500,
        "margin": {
         "b": 10,
         "l": 15,
         "pad": 1,
         "r": 1,
         "t": 50
        },
        "template": {
         "data": {
          "bar": [
           {
            "error_x": {
             "color": "#2a3f5f"
            },
            "error_y": {
             "color": "#2a3f5f"
            },
            "marker": {
             "line": {
              "color": "#E5ECF6",
              "width": 0.5
             }
            },
            "type": "bar"
           }
          ],
          "barpolar": [
           {
            "marker": {
             "line": {
              "color": "#E5ECF6",
              "width": 0.5
             }
            },
            "type": "barpolar"
           }
          ],
          "carpet": [
           {
            "aaxis": {
             "endlinecolor": "#2a3f5f",
             "gridcolor": "white",
             "linecolor": "white",
             "minorgridcolor": "white",
             "startlinecolor": "#2a3f5f"
            },
            "baxis": {
             "endlinecolor": "#2a3f5f",
             "gridcolor": "white",
             "linecolor": "white",
             "minorgridcolor": "white",
             "startlinecolor": "#2a3f5f"
            },
            "type": "carpet"
           }
          ],
          "choropleth": [
           {
            "colorbar": {
             "outlinewidth": 0,
             "ticks": ""
            },
            "type": "choropleth"
           }
          ],
          "contour": [
           {
            "colorbar": {
             "outlinewidth": 0,
             "ticks": ""
            },
            "colorscale": [
             [
              0,
              "#0d0887"
             ],
             [
              0.1111111111111111,
              "#46039f"
             ],
             [
              0.2222222222222222,
              "#7201a8"
             ],
             [
              0.3333333333333333,
              "#9c179e"
             ],
             [
              0.4444444444444444,
              "#bd3786"
             ],
             [
              0.5555555555555556,
              "#d8576b"
             ],
             [
              0.6666666666666666,
              "#ed7953"
             ],
             [
              0.7777777777777778,
              "#fb9f3a"
             ],
             [
              0.8888888888888888,
              "#fdca26"
             ],
             [
              1,
              "#f0f921"
             ]
            ],
            "type": "contour"
           }
          ],
          "contourcarpet": [
           {
            "colorbar": {
             "outlinewidth": 0,
             "ticks": ""
            },
            "type": "contourcarpet"
           }
          ],
          "heatmap": [
           {
            "colorbar": {
             "outlinewidth": 0,
             "ticks": ""
            },
            "colorscale": [
             [
              0,
              "#0d0887"
             ],
             [
              0.1111111111111111,
              "#46039f"
             ],
             [
              0.2222222222222222,
              "#7201a8"
             ],
             [
              0.3333333333333333,
              "#9c179e"
             ],
             [
              0.4444444444444444,
              "#bd3786"
             ],
             [
              0.5555555555555556,
              "#d8576b"
             ],
             [
              0.6666666666666666,
              "#ed7953"
             ],
             [
              0.7777777777777778,
              "#fb9f3a"
             ],
             [
              0.8888888888888888,
              "#fdca26"
             ],
             [
              1,
              "#f0f921"
             ]
            ],
            "type": "heatmap"
           }
          ],
          "heatmapgl": [
           {
            "colorbar": {
             "outlinewidth": 0,
             "ticks": ""
            },
            "colorscale": [
             [
              0,
              "#0d0887"
             ],
             [
              0.1111111111111111,
              "#46039f"
             ],
             [
              0.2222222222222222,
              "#7201a8"
             ],
             [
              0.3333333333333333,
              "#9c179e"
             ],
             [
              0.4444444444444444,
              "#bd3786"
             ],
             [
              0.5555555555555556,
              "#d8576b"
             ],
             [
              0.6666666666666666,
              "#ed7953"
             ],
             [
              0.7777777777777778,
              "#fb9f3a"
             ],
             [
              0.8888888888888888,
              "#fdca26"
             ],
             [
              1,
              "#f0f921"
             ]
            ],
            "type": "heatmapgl"
           }
          ],
          "histogram": [
           {
            "marker": {
             "colorbar": {
              "outlinewidth": 0,
              "ticks": ""
             }
            },
            "type": "histogram"
           }
          ],
          "histogram2d": [
           {
            "colorbar": {
             "outlinewidth": 0,
             "ticks": ""
            },
            "colorscale": [
             [
              0,
              "#0d0887"
             ],
             [
              0.1111111111111111,
              "#46039f"
             ],
             [
              0.2222222222222222,
              "#7201a8"
             ],
             [
              0.3333333333333333,
              "#9c179e"
             ],
             [
              0.4444444444444444,
              "#bd3786"
             ],
             [
              0.5555555555555556,
              "#d8576b"
             ],
             [
              0.6666666666666666,
              "#ed7953"
             ],
             [
              0.7777777777777778,
              "#fb9f3a"
             ],
             [
              0.8888888888888888,
              "#fdca26"
             ],
             [
              1,
              "#f0f921"
             ]
            ],
            "type": "histogram2d"
           }
          ],
          "histogram2dcontour": [
           {
            "colorbar": {
             "outlinewidth": 0,
             "ticks": ""
            },
            "colorscale": [
             [
              0,
              "#0d0887"
             ],
             [
              0.1111111111111111,
              "#46039f"
             ],
             [
              0.2222222222222222,
              "#7201a8"
             ],
             [
              0.3333333333333333,
              "#9c179e"
             ],
             [
              0.4444444444444444,
              "#bd3786"
             ],
             [
              0.5555555555555556,
              "#d8576b"
             ],
             [
              0.6666666666666666,
              "#ed7953"
             ],
             [
              0.7777777777777778,
              "#fb9f3a"
             ],
             [
              0.8888888888888888,
              "#fdca26"
             ],
             [
              1,
              "#f0f921"
             ]
            ],
            "type": "histogram2dcontour"
           }
          ],
          "mesh3d": [
           {
            "colorbar": {
             "outlinewidth": 0,
             "ticks": ""
            },
            "type": "mesh3d"
           }
          ],
          "parcoords": [
           {
            "line": {
             "colorbar": {
              "outlinewidth": 0,
              "ticks": ""
             }
            },
            "type": "parcoords"
           }
          ],
          "pie": [
           {
            "automargin": true,
            "type": "pie"
           }
          ],
          "scatter": [
           {
            "marker": {
             "colorbar": {
              "outlinewidth": 0,
              "ticks": ""
             }
            },
            "type": "scatter"
           }
          ],
          "scatter3d": [
           {
            "line": {
             "colorbar": {
              "outlinewidth": 0,
              "ticks": ""
             }
            },
            "marker": {
             "colorbar": {
              "outlinewidth": 0,
              "ticks": ""
             }
            },
            "type": "scatter3d"
           }
          ],
          "scattercarpet": [
           {
            "marker": {
             "colorbar": {
              "outlinewidth": 0,
              "ticks": ""
             }
            },
            "type": "scattercarpet"
           }
          ],
          "scattergeo": [
           {
            "marker": {
             "colorbar": {
              "outlinewidth": 0,
              "ticks": ""
             }
            },
            "type": "scattergeo"
           }
          ],
          "scattergl": [
           {
            "marker": {
             "colorbar": {
              "outlinewidth": 0,
              "ticks": ""
             }
            },
            "type": "scattergl"
           }
          ],
          "scattermapbox": [
           {
            "marker": {
             "colorbar": {
              "outlinewidth": 0,
              "ticks": ""
             }
            },
            "type": "scattermapbox"
           }
          ],
          "scatterpolar": [
           {
            "marker": {
             "colorbar": {
              "outlinewidth": 0,
              "ticks": ""
             }
            },
            "type": "scatterpolar"
           }
          ],
          "scatterpolargl": [
           {
            "marker": {
             "colorbar": {
              "outlinewidth": 0,
              "ticks": ""
             }
            },
            "type": "scatterpolargl"
           }
          ],
          "scatterternary": [
           {
            "marker": {
             "colorbar": {
              "outlinewidth": 0,
              "ticks": ""
             }
            },
            "type": "scatterternary"
           }
          ],
          "surface": [
           {
            "colorbar": {
             "outlinewidth": 0,
             "ticks": ""
            },
            "colorscale": [
             [
              0,
              "#0d0887"
             ],
             [
              0.1111111111111111,
              "#46039f"
             ],
             [
              0.2222222222222222,
              "#7201a8"
             ],
             [
              0.3333333333333333,
              "#9c179e"
             ],
             [
              0.4444444444444444,
              "#bd3786"
             ],
             [
              0.5555555555555556,
              "#d8576b"
             ],
             [
              0.6666666666666666,
              "#ed7953"
             ],
             [
              0.7777777777777778,
              "#fb9f3a"
             ],
             [
              0.8888888888888888,
              "#fdca26"
             ],
             [
              1,
              "#f0f921"
             ]
            ],
            "type": "surface"
           }
          ],
          "table": [
           {
            "cells": {
             "fill": {
              "color": "#EBF0F8"
             },
             "line": {
              "color": "white"
             }
            },
            "header": {
             "fill": {
              "color": "#C8D4E3"
             },
             "line": {
              "color": "white"
             }
            },
            "type": "table"
           }
          ]
         },
         "layout": {
          "annotationdefaults": {
           "arrowcolor": "#2a3f5f",
           "arrowhead": 0,
           "arrowwidth": 1
          },
          "coloraxis": {
           "colorbar": {
            "outlinewidth": 0,
            "ticks": ""
           }
          },
          "colorscale": {
           "diverging": [
            [
             0,
             "#8e0152"
            ],
            [
             0.1,
             "#c51b7d"
            ],
            [
             0.2,
             "#de77ae"
            ],
            [
             0.3,
             "#f1b6da"
            ],
            [
             0.4,
             "#fde0ef"
            ],
            [
             0.5,
             "#f7f7f7"
            ],
            [
             0.6,
             "#e6f5d0"
            ],
            [
             0.7,
             "#b8e186"
            ],
            [
             0.8,
             "#7fbc41"
            ],
            [
             0.9,
             "#4d9221"
            ],
            [
             1,
             "#276419"
            ]
           ],
           "sequential": [
            [
             0,
             "#0d0887"
            ],
            [
             0.1111111111111111,
             "#46039f"
            ],
            [
             0.2222222222222222,
             "#7201a8"
            ],
            [
             0.3333333333333333,
             "#9c179e"
            ],
            [
             0.4444444444444444,
             "#bd3786"
            ],
            [
             0.5555555555555556,
             "#d8576b"
            ],
            [
             0.6666666666666666,
             "#ed7953"
            ],
            [
             0.7777777777777778,
             "#fb9f3a"
            ],
            [
             0.8888888888888888,
             "#fdca26"
            ],
            [
             1,
             "#f0f921"
            ]
           ],
           "sequentialminus": [
            [
             0,
             "#0d0887"
            ],
            [
             0.1111111111111111,
             "#46039f"
            ],
            [
             0.2222222222222222,
             "#7201a8"
            ],
            [
             0.3333333333333333,
             "#9c179e"
            ],
            [
             0.4444444444444444,
             "#bd3786"
            ],
            [
             0.5555555555555556,
             "#d8576b"
            ],
            [
             0.6666666666666666,
             "#ed7953"
            ],
            [
             0.7777777777777778,
             "#fb9f3a"
            ],
            [
             0.8888888888888888,
             "#fdca26"
            ],
            [
             1,
             "#f0f921"
            ]
           ]
          },
          "colorway": [
           "#636efa",
           "#EF553B",
           "#00cc96",
           "#ab63fa",
           "#FFA15A",
           "#19d3f3",
           "#FF6692",
           "#B6E880",
           "#FF97FF",
           "#FECB52"
          ],
          "font": {
           "color": "#2a3f5f"
          },
          "geo": {
           "bgcolor": "white",
           "lakecolor": "white",
           "landcolor": "#E5ECF6",
           "showlakes": true,
           "showland": true,
           "subunitcolor": "white"
          },
          "hoverlabel": {
           "align": "left"
          },
          "hovermode": "closest",
          "mapbox": {
           "style": "light"
          },
          "paper_bgcolor": "white",
          "plot_bgcolor": "#E5ECF6",
          "polar": {
           "angularaxis": {
            "gridcolor": "white",
            "linecolor": "white",
            "ticks": ""
           },
           "bgcolor": "#E5ECF6",
           "radialaxis": {
            "gridcolor": "white",
            "linecolor": "white",
            "ticks": ""
           }
          },
          "scene": {
           "xaxis": {
            "backgroundcolor": "#E5ECF6",
            "gridcolor": "white",
            "gridwidth": 2,
            "linecolor": "white",
            "showbackground": true,
            "ticks": "",
            "zerolinecolor": "white"
           },
           "yaxis": {
            "backgroundcolor": "#E5ECF6",
            "gridcolor": "white",
            "gridwidth": 2,
            "linecolor": "white",
            "showbackground": true,
            "ticks": "",
            "zerolinecolor": "white"
           },
           "zaxis": {
            "backgroundcolor": "#E5ECF6",
            "gridcolor": "white",
            "gridwidth": 2,
            "linecolor": "white",
            "showbackground": true,
            "ticks": "",
            "zerolinecolor": "white"
           }
          },
          "shapedefaults": {
           "line": {
            "color": "#2a3f5f"
           }
          },
          "ternary": {
           "aaxis": {
            "gridcolor": "white",
            "linecolor": "white",
            "ticks": ""
           },
           "baxis": {
            "gridcolor": "white",
            "linecolor": "white",
            "ticks": ""
           },
           "bgcolor": "#E5ECF6",
           "caxis": {
            "gridcolor": "white",
            "linecolor": "white",
            "ticks": ""
           }
          },
          "title": {
           "x": 0.05
          },
          "xaxis": {
           "automargin": true,
           "gridcolor": "white",
           "linecolor": "white",
           "ticks": "",
           "title": {
            "standoff": 15
           },
           "zerolinecolor": "white",
           "zerolinewidth": 2
          },
          "yaxis": {
           "automargin": true,
           "gridcolor": "white",
           "linecolor": "white",
           "ticks": "",
           "title": {
            "standoff": 15
           },
           "zerolinecolor": "white",
           "zerolinewidth": 2
          }
         }
        },
        "title": {
         "text": "107th Congress (2001-2003)"
        },
        "width": 600,
        "xaxis": {
         "title": {
          "text": "PCA 1"
         }
        },
        "yaxis": {
         "title": {
          "text": "PCA 2"
         }
        }
       }
      },
      "text/html": [
       "<div>\n",
       "        \n",
       "        \n",
       "            <div id=\"6106d0df-2aeb-4ea2-a969-c983a7cc995a\" class=\"plotly-graph-div\" style=\"height:500px; width:600px;\"></div>\n",
       "            <script type=\"text/javascript\">\n",
       "                require([\"plotly\"], function(Plotly) {\n",
       "                    window.PLOTLYENV=window.PLOTLYENV || {};\n",
       "                    \n",
       "                if (document.getElementById(\"6106d0df-2aeb-4ea2-a969-c983a7cc995a\")) {\n",
       "                    Plotly.newPlot(\n",
       "                        '6106d0df-2aeb-4ea2-a969-c983a7cc995a',\n",
       "                        [{\"hovertemplate\": \"<b>%{text}</b><br><br>\", \"marker\": {\"size\": 5}, \"mode\": \"markers\", \"name\": \"Democrat\", \"text\": [\"BYRD, Robert Carlyle\", \"KERRY, John Forbes\", \"ROCKEFELLER, John Davison IV (Jay)\", \"BOXER, Barbara\", \"CARPER, Thomas Richard\", \"DURBIN, Richard Joseph\", \"REID, Harry\", \"TORRICELLI, Robert Guy\", \"BYRD, Robert Carlyle\", \"JOHNSON, Timothy Peter (Tim)\", \"CONRAD, Kent\", \"GRAHAM, Daniel Robert (Bob)\", \"KOHL, Herbert H.\", \"LIEBERMAN, Joseph I.\", \"REED, John F. (Jack)\", \"LINCOLN, Blanche Lambert\", \"STABENOW, Deborah Ann\", \"CANTWELL, Maria E.\", \"MILLER, Zell Bryan\", \"EDWARDS, John\", \"BAYH, Evan\", \"LANDRIEU, Mary L.\", \"CLELAND, Joseph Maxwell (Max)\", \"FEINGOLD, Russell Dana\", \"BINGAMAN, Jesse Francis, Jr. (Jeff)\", \"MURRAY, Patty\", \"WELLSTONE, Paul David\", \"CLINTON, Hillary Rodham\", \"CORZINE, Jon Stevens\", \"NELSON, Earl Benjamin (Ben)\", \"CARNAHAN, Jean\", \"DAYTON, Mark\", \"FEINSTEIN, Dianne\", \"WYDEN, Ronald Lee\", \"INOUYE, Daniel Ken\", \"BAUCUS, Max Sieben\", \"AKAKA, Daniel Kahikina\", \"DODD, Christopher John\", \"HOLLINGS, Ernest Frederick\", \"DASCHLE, Thomas Andrew\", \"BREAUX, John Berlinger\", \"LEAHY, Patrick Joseph\", \"NELSON, Clarence William (Bill)\", \"MIKULSKI, Barbara Ann\", \"LEVIN, Carl\", \"SARBANES, Paul Spyros\", \"BIDEN, Joseph Robinette, Jr.\", \"DORGAN, Byron Leslie\", \"INOUYE, Daniel Ken\", \"SCHUMER, Charles Ellis (Chuck)\", \"HARKIN, Thomas Richard (Tom)\", \"KENNEDY, Edward Moore (Ted)\"], \"type\": \"scatter\", \"x\": [13.873824726556311, 17.314316955113945, 17.153529165852962, 18.66412439886262, 10.905899321030063, 18.510061706519938, 17.160389706898684, 12.311955796686721, -13.51965274205856, 13.80715691667329, 15.256572549522657, 14.909254973595557, 13.96823581915842, 15.379264961185148, 19.45627585867915, 9.054522146262073, 18.1338729204905, 16.30748996274023, -16.282403922400064, 10.723850413255207, -11.042002462366785, 9.611338264853016, -16.229666021341565, 16.887689670535174, 14.104013530134443, -16.859257101295064, -3.667745399984003, 17.84588088632927, 18.901016041187773, 2.508337761636906, 13.399082735165427, 19.092983980040337, 19.967492626209847, 15.389047915429245, -4.541109988692708, 6.927686582031373, 16.774712144390616, 18.1048538139379, 16.18660638688973, 15.257932042926784, 2.965427516533587, 18.697098336736705, 14.700266073253612, 18.30720770965953, 18.744923699433265, 19.576798161001527, 16.277630987850312, 15.284524246264489, 16.59369819700714, 16.82284765408017, 17.931731055862734, 18.48754072870977], \"y\": [0.5567612727569246, -1.4907425012225721, -1.1079532988644705, 0.7670878818904026, -2.851795112758378, -0.36329332094001215, -2.519007888600111, 1.9279191399582705, -4.192179147546862, -2.510042907769951, -1.9944023757220721, -2.1802255888535305, -2.6411852989774136, -1.8464735025519377, -0.7544586978454174, -3.4913177543155083, -2.065044104591527, -2.3033989691367895, 2.0511633417157826, -2.246487317610125, -2.050889686933164, -3.26280453962755, -1.5661876639201198, -1.7173891352626844, -2.4484804516110525, -3.162872980087922, 56.49737810483142, -0.704224255562137, 1.6321486159473464, -2.5308249406024683, -2.71503136890628, 0.07800658346134236, 1.0676354037368534, -2.474064576664217, 31.394833696123438, -3.293018554020678, 0.4618633572215675, 1.667373160761041, -1.2601701686280495, -2.8348721274182958, -3.139186062526079, -1.3772155029082849, -2.3460877352511633, -0.7079498171209951, -1.3485715371011888, -1.2679711499812358, -0.7886378964833227, -2.366479422367366, 2.878305983112939, -0.825348427651316, -0.6224598554167668, 1.0476224056831642]}, {\"hovertemplate\": \"<b>%{text}</b><br><br>\", \"marker\": {\"size\": 5}, \"mode\": \"markers\", \"name\": \"Republican\", \"text\": [\"LOTT, Chester Trent\", \"HUTCHISON, Kathryn Ann Bailey (Kay)\", \"BENNETT, Robert\", \"DOMENICI, Pete Vichi\", \"HELMS, Jesse\", \"COCHRAN, William Thad\", \"MURKOWSKI, Frank Hughes\", \"THOMPSON, Fred Dalton\", \"SESSIONS, Jefferson Beauregard III (Jeff)\", \"COLLINS, Susan Margaret\", \"HAGEL, Charles Timothy (Chuck)\", \"SMITH, Gordon Harold\", \"ENZI, Michael B.\", \"FITZGERALD, Peter G.\", \"THURMOND, James Strom\", \"VOINOVICH, George Victor\", \"CHAFEE, Lincoln Davenport\", \"SHELBY, Richard C.\", \"CAMPBELL, Ben Nighthorse\", \"BUSH, George Walker\", \"FRIST, William H.\", \"STEVENS, Theodore Fulton (Ted)\", \"BROWNBACK, Sam Dale\", \"ENSIGN, John Eric\", \"NICKLES, Donald Lee\", \"SPECTER, Arlen\", \"ROBERTS, Charles Patrick (Pat)\", \"GREGG, Judd Alan\", \"McCONNELL, Addison Mitchell (Mitch)\", \"CRAIG, Larry Edwin\", \"WARNER, John William\", \"DeWINE, Michael\", \"McCAIN, John Sidney, III\", \"SNOWE, Olympia Jean\", \"SMITH, Robert C.\", \"BUNNING, James Paul David\", \"GRAMM, William Philip (Phil)\", \"KYL, Jon Llewellyn\", \"BOND, Christopher Samuel (Kit)\", \"LUGAR, Richard Green\", \"HATCH, Orrin Grant\", \"THOMAS, Craig Lyle\", \"BURNS, Conrad\", \"ALLARD, A. Wayne\", \"SANTORUM, Richard John (Rick)\", \"ALLEN, George\", \"JEFFORDS, James Merrill\", \"HUTCHINSON, Timothy\", \"CRAPO, Michael Dean\", \"GRASSLEY, Charles Ernest\", \"INHOFE, James Mountain\"], \"type\": \"scatter\", \"x\": [-18.552086229591104, 13.390222461460237, -15.592702457999785, -13.426867260764627, -16.307948309081013, -13.568676226158123, -15.622416577394954, -17.989736976475914, -16.647329852137304, 9.973573174037607, -5.522029507509949, -16.193282312860106, -10.09011423604757, -17.69092703791848, -17.465114812968217, 14.85238085315687, -3.3680370609531187, -0.8282735676582516, 8.826261556140864, -13.126955057902958, 15.216688469916019, -12.670532416768319, -16.891389851899824, -15.391469346097955, -19.312879905125293, -3.9153100834793584, -17.05620280991268, -16.538336695726553, -17.869222753180303, -17.46100451540456, -12.922112435314906, -13.50206251641617, -9.576738057647459, -4.583433046153013, -18.316255259023393, -18.4430185874986, -19.06603207225318, -19.686534208375463, -16.59678635439423, -15.956160023075759, -16.34076331134332, -18.54488620624076, -16.068706277136194, -17.941299171275837, -17.650276262141475, -15.646349094870246, -4.93513719627642, -14.63223091909372, -15.454467030911143, -15.68872456404527, -17.70543746924412], \"y\": [-3.0434958435718205, -2.2511374375682904, -3.2012936022722656, 0.012664342722151863, 17.527144456345884, -4.221052422386964, -1.755794102233168, -3.644470233983378, -0.8717302528676082, -2.154774537279601, -4.128673228467028, -3.2262152339858705, -3.861930006774733, -1.4482082298851138, -2.333880161613705, -3.009912656909533, -1.0531906006663823, -2.341306265880393, 9.556500482947964, -4.227538749397519, 5.105214975569493, -2.302807723944267, -2.442188192228943, 0.007593769521250853, -0.731247135816081, -1.7369111017899335, -3.1816645089420645, -1.4470508888197628, -3.072036186520817, -2.0354183540433035, -4.231516947981276, -3.7526000184248876, 5.582031493374909, -4.153427752222565, -1.4400450092619617, -2.1666519137148073, 1.1505894605454066, -0.5619645222671332, -2.58069391953682, -3.6264983407513554, -3.8720036209267112, -0.1674576570589916, -2.691565447769328, -3.237592238646651, -2.461024949335577, -3.385756677838863, 48.97571697479378, -1.5411884491062122, -1.256854694057361, -4.366822703535583, -1.3592167393777408]}],\n",
       "                        {\"font\": {\"color\": \"#000000\", \"family\": \"Courier New, monospace\", \"size\": 12}, \"height\": 500, \"margin\": {\"b\": 10, \"l\": 15, \"pad\": 1, \"r\": 1, \"t\": 50}, \"template\": {\"data\": {\"bar\": [{\"error_x\": {\"color\": \"#2a3f5f\"}, \"error_y\": {\"color\": \"#2a3f5f\"}, \"marker\": {\"line\": {\"color\": \"#E5ECF6\", \"width\": 0.5}}, \"type\": \"bar\"}], \"barpolar\": [{\"marker\": {\"line\": {\"color\": \"#E5ECF6\", \"width\": 0.5}}, \"type\": \"barpolar\"}], \"carpet\": [{\"aaxis\": {\"endlinecolor\": \"#2a3f5f\", \"gridcolor\": \"white\", \"linecolor\": \"white\", \"minorgridcolor\": \"white\", \"startlinecolor\": \"#2a3f5f\"}, \"baxis\": {\"endlinecolor\": \"#2a3f5f\", \"gridcolor\": \"white\", \"linecolor\": \"white\", \"minorgridcolor\": \"white\", \"startlinecolor\": \"#2a3f5f\"}, \"type\": \"carpet\"}], \"choropleth\": [{\"colorbar\": {\"outlinewidth\": 0, \"ticks\": \"\"}, \"type\": \"choropleth\"}], \"contour\": [{\"colorbar\": {\"outlinewidth\": 0, \"ticks\": \"\"}, \"colorscale\": [[0.0, \"#0d0887\"], [0.1111111111111111, \"#46039f\"], [0.2222222222222222, \"#7201a8\"], [0.3333333333333333, \"#9c179e\"], [0.4444444444444444, \"#bd3786\"], [0.5555555555555556, \"#d8576b\"], [0.6666666666666666, \"#ed7953\"], [0.7777777777777778, \"#fb9f3a\"], [0.8888888888888888, \"#fdca26\"], [1.0, \"#f0f921\"]], \"type\": \"contour\"}], \"contourcarpet\": [{\"colorbar\": {\"outlinewidth\": 0, \"ticks\": \"\"}, \"type\": \"contourcarpet\"}], \"heatmap\": [{\"colorbar\": {\"outlinewidth\": 0, \"ticks\": \"\"}, \"colorscale\": [[0.0, \"#0d0887\"], [0.1111111111111111, \"#46039f\"], [0.2222222222222222, \"#7201a8\"], [0.3333333333333333, \"#9c179e\"], [0.4444444444444444, \"#bd3786\"], [0.5555555555555556, \"#d8576b\"], [0.6666666666666666, \"#ed7953\"], [0.7777777777777778, \"#fb9f3a\"], [0.8888888888888888, \"#fdca26\"], [1.0, \"#f0f921\"]], \"type\": \"heatmap\"}], \"heatmapgl\": [{\"colorbar\": {\"outlinewidth\": 0, \"ticks\": \"\"}, \"colorscale\": [[0.0, \"#0d0887\"], [0.1111111111111111, \"#46039f\"], [0.2222222222222222, \"#7201a8\"], [0.3333333333333333, \"#9c179e\"], [0.4444444444444444, \"#bd3786\"], [0.5555555555555556, \"#d8576b\"], [0.6666666666666666, \"#ed7953\"], [0.7777777777777778, \"#fb9f3a\"], [0.8888888888888888, \"#fdca26\"], [1.0, \"#f0f921\"]], \"type\": \"heatmapgl\"}], \"histogram\": [{\"marker\": {\"colorbar\": {\"outlinewidth\": 0, \"ticks\": \"\"}}, \"type\": \"histogram\"}], \"histogram2d\": [{\"colorbar\": {\"outlinewidth\": 0, \"ticks\": \"\"}, \"colorscale\": [[0.0, \"#0d0887\"], [0.1111111111111111, \"#46039f\"], [0.2222222222222222, \"#7201a8\"], [0.3333333333333333, \"#9c179e\"], [0.4444444444444444, \"#bd3786\"], [0.5555555555555556, \"#d8576b\"], [0.6666666666666666, \"#ed7953\"], [0.7777777777777778, \"#fb9f3a\"], [0.8888888888888888, \"#fdca26\"], [1.0, \"#f0f921\"]], \"type\": \"histogram2d\"}], \"histogram2dcontour\": [{\"colorbar\": {\"outlinewidth\": 0, \"ticks\": \"\"}, \"colorscale\": [[0.0, \"#0d0887\"], [0.1111111111111111, \"#46039f\"], [0.2222222222222222, \"#7201a8\"], [0.3333333333333333, \"#9c179e\"], [0.4444444444444444, \"#bd3786\"], [0.5555555555555556, \"#d8576b\"], [0.6666666666666666, \"#ed7953\"], [0.7777777777777778, \"#fb9f3a\"], [0.8888888888888888, \"#fdca26\"], [1.0, \"#f0f921\"]], \"type\": \"histogram2dcontour\"}], \"mesh3d\": [{\"colorbar\": {\"outlinewidth\": 0, \"ticks\": \"\"}, \"type\": \"mesh3d\"}], \"parcoords\": [{\"line\": {\"colorbar\": {\"outlinewidth\": 0, \"ticks\": \"\"}}, \"type\": \"parcoords\"}], \"pie\": [{\"automargin\": true, \"type\": \"pie\"}], \"scatter\": [{\"marker\": {\"colorbar\": {\"outlinewidth\": 0, \"ticks\": \"\"}}, \"type\": \"scatter\"}], \"scatter3d\": [{\"line\": {\"colorbar\": {\"outlinewidth\": 0, \"ticks\": \"\"}}, \"marker\": {\"colorbar\": {\"outlinewidth\": 0, \"ticks\": \"\"}}, \"type\": \"scatter3d\"}], \"scattercarpet\": [{\"marker\": {\"colorbar\": {\"outlinewidth\": 0, \"ticks\": \"\"}}, \"type\": \"scattercarpet\"}], \"scattergeo\": [{\"marker\": {\"colorbar\": {\"outlinewidth\": 0, \"ticks\": \"\"}}, \"type\": \"scattergeo\"}], \"scattergl\": [{\"marker\": {\"colorbar\": {\"outlinewidth\": 0, \"ticks\": \"\"}}, \"type\": \"scattergl\"}], \"scattermapbox\": [{\"marker\": {\"colorbar\": {\"outlinewidth\": 0, \"ticks\": \"\"}}, \"type\": \"scattermapbox\"}], \"scatterpolar\": [{\"marker\": {\"colorbar\": {\"outlinewidth\": 0, \"ticks\": \"\"}}, \"type\": \"scatterpolar\"}], \"scatterpolargl\": [{\"marker\": {\"colorbar\": {\"outlinewidth\": 0, \"ticks\": \"\"}}, \"type\": \"scatterpolargl\"}], \"scatterternary\": [{\"marker\": {\"colorbar\": {\"outlinewidth\": 0, \"ticks\": \"\"}}, \"type\": \"scatterternary\"}], \"surface\": [{\"colorbar\": {\"outlinewidth\": 0, \"ticks\": \"\"}, \"colorscale\": [[0.0, \"#0d0887\"], [0.1111111111111111, \"#46039f\"], [0.2222222222222222, \"#7201a8\"], [0.3333333333333333, \"#9c179e\"], [0.4444444444444444, \"#bd3786\"], [0.5555555555555556, \"#d8576b\"], [0.6666666666666666, \"#ed7953\"], [0.7777777777777778, \"#fb9f3a\"], [0.8888888888888888, \"#fdca26\"], [1.0, \"#f0f921\"]], \"type\": \"surface\"}], \"table\": [{\"cells\": {\"fill\": {\"color\": \"#EBF0F8\"}, \"line\": {\"color\": \"white\"}}, \"header\": {\"fill\": {\"color\": \"#C8D4E3\"}, \"line\": {\"color\": \"white\"}}, \"type\": \"table\"}]}, \"layout\": {\"annotationdefaults\": {\"arrowcolor\": \"#2a3f5f\", \"arrowhead\": 0, \"arrowwidth\": 1}, \"coloraxis\": {\"colorbar\": {\"outlinewidth\": 0, \"ticks\": \"\"}}, \"colorscale\": {\"diverging\": [[0, \"#8e0152\"], [0.1, \"#c51b7d\"], [0.2, \"#de77ae\"], [0.3, \"#f1b6da\"], [0.4, \"#fde0ef\"], [0.5, \"#f7f7f7\"], [0.6, \"#e6f5d0\"], [0.7, \"#b8e186\"], [0.8, \"#7fbc41\"], [0.9, \"#4d9221\"], [1, \"#276419\"]], \"sequential\": [[0.0, \"#0d0887\"], [0.1111111111111111, \"#46039f\"], [0.2222222222222222, \"#7201a8\"], [0.3333333333333333, \"#9c179e\"], [0.4444444444444444, \"#bd3786\"], [0.5555555555555556, \"#d8576b\"], [0.6666666666666666, \"#ed7953\"], [0.7777777777777778, \"#fb9f3a\"], [0.8888888888888888, \"#fdca26\"], [1.0, \"#f0f921\"]], \"sequentialminus\": [[0.0, \"#0d0887\"], [0.1111111111111111, \"#46039f\"], [0.2222222222222222, \"#7201a8\"], [0.3333333333333333, \"#9c179e\"], [0.4444444444444444, \"#bd3786\"], [0.5555555555555556, \"#d8576b\"], [0.6666666666666666, \"#ed7953\"], [0.7777777777777778, \"#fb9f3a\"], [0.8888888888888888, \"#fdca26\"], [1.0, \"#f0f921\"]]}, \"colorway\": [\"#636efa\", \"#EF553B\", \"#00cc96\", \"#ab63fa\", \"#FFA15A\", \"#19d3f3\", \"#FF6692\", \"#B6E880\", \"#FF97FF\", \"#FECB52\"], \"font\": {\"color\": \"#2a3f5f\"}, \"geo\": {\"bgcolor\": \"white\", \"lakecolor\": \"white\", \"landcolor\": \"#E5ECF6\", \"showlakes\": true, \"showland\": true, \"subunitcolor\": \"white\"}, \"hoverlabel\": {\"align\": \"left\"}, \"hovermode\": \"closest\", \"mapbox\": {\"style\": \"light\"}, \"paper_bgcolor\": \"white\", \"plot_bgcolor\": \"#E5ECF6\", \"polar\": {\"angularaxis\": {\"gridcolor\": \"white\", \"linecolor\": \"white\", \"ticks\": \"\"}, \"bgcolor\": \"#E5ECF6\", \"radialaxis\": {\"gridcolor\": \"white\", \"linecolor\": \"white\", \"ticks\": \"\"}}, \"scene\": {\"xaxis\": {\"backgroundcolor\": \"#E5ECF6\", \"gridcolor\": \"white\", \"gridwidth\": 2, \"linecolor\": \"white\", \"showbackground\": true, \"ticks\": \"\", \"zerolinecolor\": \"white\"}, \"yaxis\": {\"backgroundcolor\": \"#E5ECF6\", \"gridcolor\": \"white\", \"gridwidth\": 2, \"linecolor\": \"white\", \"showbackground\": true, \"ticks\": \"\", \"zerolinecolor\": \"white\"}, \"zaxis\": {\"backgroundcolor\": \"#E5ECF6\", \"gridcolor\": \"white\", \"gridwidth\": 2, \"linecolor\": \"white\", \"showbackground\": true, \"ticks\": \"\", \"zerolinecolor\": \"white\"}}, \"shapedefaults\": {\"line\": {\"color\": \"#2a3f5f\"}}, \"ternary\": {\"aaxis\": {\"gridcolor\": \"white\", \"linecolor\": \"white\", \"ticks\": \"\"}, \"baxis\": {\"gridcolor\": \"white\", \"linecolor\": \"white\", \"ticks\": \"\"}, \"bgcolor\": \"#E5ECF6\", \"caxis\": {\"gridcolor\": \"white\", \"linecolor\": \"white\", \"ticks\": \"\"}}, \"title\": {\"x\": 0.05}, \"xaxis\": {\"automargin\": true, \"gridcolor\": \"white\", \"linecolor\": \"white\", \"ticks\": \"\", \"title\": {\"standoff\": 15}, \"zerolinecolor\": \"white\", \"zerolinewidth\": 2}, \"yaxis\": {\"automargin\": true, \"gridcolor\": \"white\", \"linecolor\": \"white\", \"ticks\": \"\", \"title\": {\"standoff\": 15}, \"zerolinecolor\": \"white\", \"zerolinewidth\": 2}}}, \"title\": {\"text\": \"107th Congress (2001-2003)\"}, \"width\": 600, \"xaxis\": {\"title\": {\"text\": \"PCA 1\"}}, \"yaxis\": {\"title\": {\"text\": \"PCA 2\"}}},\n",
       "                        {\"responsive\": true}\n",
       "                    ).then(function(){\n",
       "                            \n",
       "var gd = document.getElementById('6106d0df-2aeb-4ea2-a969-c983a7cc995a');\n",
       "var x = new MutationObserver(function (mutations, observer) {{\n",
       "        var display = window.getComputedStyle(gd).display;\n",
       "        if (!display || display === 'none') {{\n",
       "            console.log([gd, 'removed!']);\n",
       "            Plotly.purge(gd);\n",
       "            observer.disconnect();\n",
       "        }}\n",
       "}});\n",
       "\n",
       "// Listen for the removal of the full notebook cells\n",
       "var notebookContainer = gd.closest('#notebook-container');\n",
       "if (notebookContainer) {{\n",
       "    x.observe(notebookContainer, {childList: true});\n",
       "}}\n",
       "\n",
       "// Listen for the clearing of the current output cell\n",
       "var outputEl = gd.closest('.output');\n",
       "if (outputEl) {{\n",
       "    x.observe(outputEl, {childList: true});\n",
       "}}\n",
       "\n",
       "                        })\n",
       "                };\n",
       "                });\n",
       "            </script>\n",
       "        </div>"
      ]
     },
     "metadata": {},
     "output_type": "display_data"
    }
   ],
   "source": [
    "plot_PCA(2001)\n"
   ]
  },
  {
   "cell_type": "code",
   "execution_count": 672,
   "metadata": {},
   "outputs": [
    {
     "data": {
      "text/plain": [
       "116"
      ]
     },
     "execution_count": 672,
     "metadata": {},
     "output_type": "execute_result"
    }
   ],
   "source": [
    "len(partyArray)"
   ]
  },
  {
   "cell_type": "code",
   "execution_count": null,
   "metadata": {},
   "outputs": [],
   "source": []
  },
  {
   "cell_type": "code",
   "execution_count": 673,
   "metadata": {},
   "outputs": [
    {
     "data": {
      "text/plain": [
       "(1, 546)"
      ]
     },
     "execution_count": 673,
     "metadata": {},
     "output_type": "execute_result"
    }
   ],
   "source": [
    "x.shape"
   ]
  },
  {
   "cell_type": "code",
   "execution_count": null,
   "metadata": {},
   "outputs": [],
   "source": []
  }
 ],
 "metadata": {
  "kernelspec": {
   "display_name": "oceanography",
   "language": "python",
   "name": "oceanography"
  },
  "language_info": {
   "codemirror_mode": {
    "name": "ipython",
    "version": 3
   },
   "file_extension": ".py",
   "mimetype": "text/x-python",
   "name": "python",
   "nbconvert_exporter": "python",
   "pygments_lexer": "ipython3",
   "version": "3.7.3"
  }
 },
 "nbformat": 4,
 "nbformat_minor": 2
}
