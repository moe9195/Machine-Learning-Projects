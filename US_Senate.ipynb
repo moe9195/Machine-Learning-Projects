{
 "cells": [
  {
   "cell_type": "markdown",
   "metadata": {},
   "source": [
    "### Principle Component Analysis of US Senators Based on Voting Patterns\n",
    "&nbsp;\n",
    "\n",
    "We perform principle component analysis (PCA) on US Senate voting patterns to identify clusters in US Senators. We'll use the voting history to compare the polarisation in American politics for the years 1993 to 2016.\n",
    "&nbsp;\n",
    "\n",
    "We use PCA on the voting records to reduce their dimensionality to 2D in order to visualise voting patterns. For more information on PCA, I suggest reading [this great blog post by Matt Brems](https://towardsdatascience.com/a-one-stop-shop-for-principal-component-analysis-5582fb7e0a9c?gi=de80317e8307) on the subject.\n",
    "\n",
    "&nbsp;\n",
    "\n",
    "The voting records are downloaded from [Bradley Robinso](https://data.world/bradrobinson/us-senate-voting-records). \n",
    "\n",
    "We process the data before applying PCA\n",
    "\n",
    "The downloaded data votes are coded as follows:\n",
    "* Yea is 1\n",
    "* Nay is 0\n",
    "* Abstension or missing data is 2\n",
    "\n",
    "We change the coding to:\n",
    "* Yea is 1\n",
    "* Nay is -1\n",
    "* Abstension or missing data is 0\n",
    "\n",
    "\n",
    "Despite the analysis being based only on roll call votes and not policy positions, clear clusters emerge from the voting data. The trend towards more polarization in Congress over the past few decades naturally forms from this analysis. Moreover, the analysis is very successful at highlighting outliers and swing voters.\n"
   ]
  },
  {
   "cell_type": "code",
   "execution_count": 536,
   "metadata": {},
   "outputs": [
    {
     "data": {
      "text/html": [
       "        <script type=\"text/javascript\">\n",
       "        window.PlotlyConfig = {MathJaxConfig: 'local'};\n",
       "        if (window.MathJax) {MathJax.Hub.Config({SVG: {font: \"STIX-Web\"}});}\n",
       "        if (typeof require !== 'undefined') {\n",
       "        require.undef(\"plotly\");\n",
       "        requirejs.config({\n",
       "            paths: {\n",
       "                'plotly': ['https://cdn.plot.ly/plotly-latest.min']\n",
       "            }\n",
       "        });\n",
       "        require(['plotly'], function(Plotly) {\n",
       "            window._Plotly = Plotly;\n",
       "        });\n",
       "        }\n",
       "        </script>\n",
       "        "
      ]
     },
     "metadata": {},
     "output_type": "display_data"
    }
   ],
   "source": [
    "# import relevant libraries\n",
    "import csv, os, re, math\n",
    "import numpy as np\n",
    "import pandas as pd\n",
    "from sklearn.preprocessing import StandardScaler\n",
    "from sklearn.decomposition import PCA\n",
    "import matplotlib.pyplot as plt\n",
    "from plotly.offline import init_notebook_mode, iplot\n",
    "from sklearn.cluster import KMeans\n",
    "from sklearn.metrics import silhouette_score\n",
    "from plotly.graph_objs import *\n",
    "import plotly.express as px\n",
    "import plotly.graph_objects as go\n",
    "from IPython.display import display, HTML\n",
    "init_notebook_mode(connected=True)"
   ]
  },
  {
   "cell_type": "code",
   "execution_count": 645,
   "metadata": {},
   "outputs": [
    {
     "name": "stdout",
     "output_type": "stream",
     "text": [
      "Explained variation per principal component: [0.38696505 0.04123276]\n",
      "PCA holds 42.82% of the information. 57.18% is lost\n",
      "Explained variation per principal component: [0.45013447 0.02918053]\n",
      "PCA holds 47.93% of the information. 52.07% is lost\n",
      "Explained variation per principal component: [0.3767398  0.04056872]\n",
      "PCA holds 41.73% of the information. 58.27% is lost\n",
      "Explained variation per principal component: [0.44172924 0.03081053]\n",
      "PCA holds 47.25% of the information. 52.75% is lost\n",
      "Explained variation per principal component: [0.37300319 0.04212149]\n",
      "PCA holds 41.51% of the information. 58.49% is lost\n",
      "Explained variation per principal component: [0.49671641 0.03544079]\n",
      "PCA holds 53.22% of the information. 46.78% is lost\n",
      "Explained variation per principal component: [0.44569079 0.03373602]\n",
      "PCA holds 47.94% of the information. 52.06% is lost\n",
      "Explained variation per principal component: [0.27928151 0.14012035]\n",
      "PCA holds 41.94% of the information. 58.06% is lost\n",
      "Explained variation per principal component: [0.53390767 0.07793757]\n",
      "PCA holds 61.18% of the information. 38.82% is lost\n",
      "Explained variation per principal component: [0.41009145 0.06489116]\n",
      "PCA holds 47.5% of the information. 52.5% is lost\n",
      "Explained variation per principal component: [0.29115705 0.23246622]\n",
      "PCA holds 52.36% of the information. 47.64% is lost\n",
      "Explained variation per principal component: [0.48010897 0.05869397]\n",
      "PCA holds 53.88% of the information. 46.12% is lost\n"
     ]
    }
   ],
   "source": [
    "# given a list of names, this function returns the list sorted numerically\n",
    "def numericalSort(list):\n",
    "    def key(value):\n",
    "        numbers = re.compile(r'(\\d+)')\n",
    "        parts = numbers.split(value)\n",
    "        parts[1::2] = map(int, parts[1::2])\n",
    "        return parts\n",
    "    return sorted(list, key=key)\n",
    "\n",
    "# path to data files\n",
    "path = './data/data/' \n",
    "# list of filenames in data folder\n",
    "filenames = numericalSort(os.listdir(path))\n",
    "# list of years from 1993 to 2016\n",
    "year = np.arange(1993, 1993+len(os.listdir(path)))\n",
    "# list of congress session numbers\n",
    "session = np.floor((year-1787)/2).astype(np.int8)\n",
    "# dictionary for which congress session at each year\n",
    "year_session_dict = {k: v for k, v in zip(year, session)}\n",
    "# X1 and X2 are the two PCA components, namesArray and partiesArray \n",
    "# contain the names of the senators and their parties respectively\n",
    "X1, X2, namesArray, partiesArray = [], [], [], []\n",
    "idx = 0\n",
    "# loop over the CSV files\n",
    "for i in range(len(filenames)//2):\n",
    "    # each congress meeting is split into two CSV files\n",
    "    # we open both and combine them into one dataframe\n",
    "    # file1 is the first half and file2 is the second half\n",
    "    file1 = filenames[idx]\n",
    "    file2 = filenames[idx+1]\n",
    "    \n",
    "    # read the CSV files and save into pandas dataframe\n",
    "    df1 = pd.read_csv(path+file1, sep=',')\n",
    "    df2 = pd.read_csv(path+file2, sep=',')\n",
    "    if 'name' not in df1.columns:\n",
    "        df1 = pd.read_csv(path+file1, sep=',', header=1)\n",
    "    if 'name' not in df2.columns:\n",
    "        df2 = pd.read_csv(path+file2, sep=',', header=1)    \n",
    "    \n",
    "    # change the index to be the senator names and drop the first column\n",
    "    df1.set_index('name', inplace=True)\n",
    "    df1 = df1.drop(df1.columns[0], axis=1)\n",
    "    df2.set_index('name', inplace=True)\n",
    "    df2 = df2.drop(df2.columns[0], axis=1)\n",
    "    \n",
    "    # merge both dataframes into one dataframe\n",
    "    df = pd.merge(left=df1,right=df2, left_on='name', right_on='name')\n",
    "    df.rename(columns={'party_x':'party'}, inplace=True)\n",
    "    del df['party_y']\n",
    "    \n",
    "    # remove senators with more than 30% absence \n",
    "    df = df.loc[df.replace(2, np.nan).isnull().mean(axis=1) < .3 ,:]\n",
    "    \n",
    "    # list of senator names and party for each congressional meeting\n",
    "    names = df.index.values\n",
    "    parties = df['party'].values\n",
    "    \n",
    "    # changing the voting codes\n",
    "    df = df.replace([True, False], [1, 0])\n",
    "    df = df.replace([0, 1, 2], [-1, 1, 0])\n",
    "    \n",
    "    # remove party column and convert voting data to numpy array\n",
    "    del df['party']\n",
    "    x = df.to_numpy()\n",
    "    \n",
    "    # scale data to have zero mean and unit standard deviation\n",
    "    x = StandardScaler().fit_transform(x)\n",
    "    \n",
    "    # calculate the two principal components\n",
    "    pca = PCA(n_components=2)\n",
    "    principalComponents = pca.fit_transform(x)\n",
    "\n",
    "    print('Explained variation per principal component: {}'.format(pca.explained_variance_ratio_))\n",
    "    print('PCA holds '+str(round(100*np.sum(pca.explained_variance_ratio_),2))+\n",
    "                          '% of the information. '+ str(round(100*(1-\n",
    "                           np.sum(pca.explained_variance_ratio_)),2))+'% is lost')\n",
    "\n",
    "    x1 = principalComponents[:,0]\n",
    "    x2 = principalComponents[:,1]\n",
    "    \n",
    "    # append the X1 and X2 arrays with the principal components of each...\n",
    "    # ...congressional meeting\n",
    "    X1.append(x1)\n",
    "    X2.append(x2)\n",
    "    \n",
    "    # append names and parties array with names and parties of senators...\n",
    "    # ... for each congressional meeting\n",
    "    namesArray.append(names)\n",
    "    partiesArray.append(parties)\n",
    "    idx+=2\n",
    "\n",
    "# change 'ID' with 'I' (both represent independent senators)\n",
    "for idx1, session_year in enumerate(partiesArray):\n",
    "    for idx2, party_name in enumerate(session_year):\n",
    "        if party_name == 'ID':\n",
    "            partiesArray[idx1][idx2] = 'I'"
   ]
  },
  {
   "cell_type": "markdown",
   "metadata": {},
   "source": [
    "Naturally, a large chunk of the information is lost in the process. This is because we are converting from a high dimensional space into a two dimensional space. 114th congress, we are converting from 493 dimensional space to 2 dimensional space while still being able to keep 53.88% percent of the information!\n",
    "<br><br>\n",
    "Next, we plot and visualise the principle components "
   ]
  },
  {
   "cell_type": "code",
   "execution_count": 653,
   "metadata": {},
   "outputs": [],
   "source": [
    "# function to make dataframe from the principle components data...\n",
    "# ...which is used for plotting with plotly. Takes the congress year...\n",
    "# ...as input and outputs the relevant dataframe for that year\n",
    "def make_dataframe(year):\n",
    "    i = (year - 1993)//2\n",
    "    d = {'x1': X1[i], 'x2': X2[i], 'name': namesArray[i], 'party': partiesArray[i]}\n",
    "    \n",
    "    dd = pd.DataFrame(data=d)\n",
    "    dd = dd.sort_values(['party'])\n",
    "    \n",
    "    party_names = np.unique(partiesArray[i])\n",
    "    df = {party:dd.query(\"party == '%s'\" %party)\n",
    "                              for party in party_names}\n",
    "    return df\n",
    "\n",
    "# function that clusters data using k-means clustering...\n",
    "# ...it finds the ideal number of clusters using the...\n",
    "# ...silhouette method\n",
    "def k_means_cluster(X):\n",
    "    best_n = 0\n",
    "    max_silhouette_avg = 0\n",
    "    for n in range(2, 10):\n",
    "        kmeans = KMeans(n_clusters=n, init='k-means++', \n",
    "                        max_iter=300, n_init=10, random_state=0).fit(X)\n",
    "        pred_y = kmeans.fit_predict(X)\n",
    "        silhouette_avg = silhouette_score(X, pred_y)\n",
    "        if silhouette_avg > max_silhouette_avg:\n",
    "            best_n = n\n",
    "            max_silhouette_avg = silhouette_avg\n",
    "\n",
    "    kmeans = KMeans(n_clusters=best_n, init='k-means++',\n",
    "                    max_iter=300, n_init=10, random_state=0).fit(X)\n",
    "    \n",
    "    return kmeans.cluster_centers_\n",
    "\n",
    "\n",
    "# function to plot the principle components using plotly. Takes the...\n",
    "# ... congress year as input and plots the principle components for that year\n",
    "def plot_PCA(year):\n",
    "    idx = (year-1993)//2\n",
    "    X = np.vstack([X1[idx], X2[idx]]).T\n",
    "    clusters = k_means_cluster(X)\n",
    "    if year%2 == 0:\n",
    "        year_title = '(' + str(year-1) + '-' + str(year+1) +')'\n",
    "    else:\n",
    "        year_title = '(' + str(year) + '-' + str(year+2) +')'\n",
    "    \n",
    "    congress_number = year_session_dict[year]\n",
    "    df = make_dataframe(year)\n",
    "    fig = go.Figure()\n",
    "    for party_name, party in df.items():\n",
    "        fig.add_trace(go.Scatter(\n",
    "            x = party['x1'],\n",
    "            y = party['x2'],\n",
    "            name = party_name,\n",
    "            hovertemplate = \n",
    "            \"<b>%{text}</b><br><br>\",\n",
    "            text = party['name'],\n",
    "            marker_size=5))\n",
    "\n",
    "    fig.update_traces(\n",
    "        mode='markers')\n",
    "            \n",
    "    fig.add_trace(go.Scatter(\n",
    "        mode='markers',\n",
    "        hoverinfo='none',\n",
    "        x = clusters[:, 0],\n",
    "        y = clusters[:, 1],\n",
    "        name = 'cluster',\n",
    "        opacity = 0.25,\n",
    "        marker=dict(\n",
    "            color='rgba(0, 0, 0, 0)',\n",
    "            size=100,\n",
    "            line=dict(\n",
    "                color='red',\n",
    "                width=8))))\n",
    "    \n",
    "    fig.update_layout(\n",
    "        width=600,\n",
    "        height=500,\n",
    "        margin=go.layout.Margin(l=15,r=1,b=10,t=50,pad=1),\n",
    "        xaxis={'title':'PCA 1'},\n",
    "        yaxis={'title':'PCA 2'},\n",
    "        title=str(year_session_dict[year]\n",
    "                 ) +'th Congress ' + year_title,\n",
    "        font=dict(\n",
    "            family=\"Courier New, monospace\",\n",
    "            size=12,\n",
    "            color=\"#000000\"\n",
    "         )\n",
    "    )\n",
    "    fig.show()    "
   ]
  },
  {
   "cell_type": "code",
   "execution_count": 654,
   "metadata": {},
   "outputs": [
    {
     "data": {
      "application/vnd.plotly.v1+json": {
       "config": {
        "plotlyServerURL": "https://plot.ly"
       },
       "data": [
        {
         "hovertemplate": "<b>%{text}</b><br><br>",
         "marker": {
          "size": 5
         },
         "mode": "markers",
         "name": "D",
         "text": [
          "Daniel Akaka",
          "Joseph Lieberman",
          "Carl Levin",
          "Patrick Leahy",
          "Frank Lautenberg",
          "Herb Kohl",
          "John Kerry",
          "Harlan Mathews",
          "J. Kerrey",
          "J. Johnston",
          "Paul Wellstone",
          "Ernest Hollings",
          "Howell Heflin",
          "Tom Harkin",
          "Bob Graham",
          "Edward Kennedy",
          "John Glenn",
          "Howard Metzenbaum",
          "George Mitchell",
          "Paul Simon",
          "Richard Shelby",
          "Jim Sasser",
          "Paul Sarbanes",
          "John Rockefeller",
          "Charles Robb",
          "Barbara Mikulski",
          "Donald Riegle",
          "David Pryor",
          "Claiborne Pell",
          "Sam Nunn",
          "Patty Murray",
          "Daniel Moynihan",
          "Carol Moseley-Braun",
          "Harry Reid",
          "Wendell Ford",
          "Daniel Inouye",
          "Russell Feingold",
          "Max Baucus",
          "Joseph Biden",
          "Jeff Bingaman",
          "David Boren",
          "Barbara Boxer",
          "Bill Bradley",
          "John Breaux",
          "Richard Bryan",
          "Dale Bumpers",
          "Robert Byrd",
          "Ben Campbell",
          "Dianne Feinstein",
          "Kent Conrad",
          "Thomas Daschle",
          "Dennis DeConcini",
          "Harris Wofford",
          "Christopher Dodd",
          "Byron Dorgan",
          "J. Exon"
         ],
         "type": "scatter",
         "x": [
          -17.321048627243012,
          -10.892683355841173,
          -17.549713027468968,
          -17.428170292659182,
          -14.009140302268762,
          -12.389086544847657,
          -14.455526080150877,
          -13.631975778142994,
          -13.560066715740383,
          -9.749257344273918,
          -18.097713208800926,
          -10.223969244447149,
          -4.3803385288756695,
          -17.42227474765527,
          -13.380688483213893,
          -3.5932419938679505,
          -15.602538512374977,
          -17.40204272402229,
          -18.079267880818318,
          -18.355785271617037,
          5.0378310326464195,
          -12.64307957695076,
          -18.017545900434648,
          -15.947445886911975,
          -13.18462520598597,
          -15.947150745926026,
          -16.429401543231766,
          -13.973608016124194,
          -17.871342944895858,
          -6.600274812620983,
          -16.9965001426556,
          -17.337731028507722,
          -17.24555675068381,
          -13.926365656976234,
          -13.086347262921525,
          -2.8526470178966385,
          -15.148031775289612,
          -12.742550985309618,
          -15.77732241335343,
          -12.437645985880211,
          -10.697083471992137,
          -17.49282861969628,
          -14.470465602425659,
          -10.609077314040961,
          -12.957675050879363,
          -14.95647483736614,
          -12.005279041379138,
          -10.41495053653095,
          -15.11285353450716,
          -12.040274662088917,
          -16.038706421629314,
          -12.746359659637383,
          -15.738687631861367,
          -15.61971492061251,
          -12.707031642227621,
          -8.326077857420378
         ],
         "y": [
          -1.5502508706158862,
          -0.9222056031650125,
          -0.6318601619651977,
          0.8545147746135718,
          1.7391516466866934,
          4.492338912881567,
          0.8311025560578057,
          0.458978498967214,
          -2.570727918563016,
          -1.7529939015749925,
          4.521795288972789,
          1.8920324658431402,
          1.4978804026958914,
          0.6726891269931372,
          -0.28678174833355025,
          3.8273830714122536,
          -0.3261343563514489,
          3.6774812376158716,
          -0.452416985882456,
          0.14158593277655115,
          -2.3474791383963356,
          1.8660896462588854,
          -0.4361371822970703,
          -1.0412665307279765,
          -1.815121998320645,
          -0.745741068677724,
          1.0403886248643721,
          2.4773060901560937,
          0.06310885193390638,
          -1.729233163970654,
          -0.7117023913013792,
          -0.3167689890655264,
          0.13716635661829044,
          1.3639341120623505,
          -0.6227593270396166,
          0.17880290940450275,
          10.757469606216723,
          1.7408594159249096,
          -0.12811554578513262,
          -0.7241837105075263,
          -0.697423054915239,
          1.307154283098702,
          3.48696093824616,
          0.4107189494296864,
          1.1628230968467637,
          0.8514840338106481,
          3.3482202907381216,
          0.20920860319854775,
          -0.07138891771606438,
          4.7964445730441065,
          -0.5054847050796033,
          1.5549174572232787,
          0.7007275321018493,
          -1.0971258413119072,
          3.3408455319529486,
          -0.2308524755951205
         ]
        },
        {
         "hovertemplate": "<b>%{text}</b><br><br>",
         "marker": {
          "size": 5
         },
         "mode": "markers",
         "name": "R",
         "text": [
          "Dirk Kempthorne",
          "Larry Pressler",
          "Dave Durenberger",
          "Judd Gregg",
          "Chuck Grassley",
          "Phil Gramm",
          "Christopher Bond",
          "William Roth",
          "Slade Gorton",
          "Robert Bennett",
          "Lauch Faircloth",
          "Alan Simpson",
          "Bob Smith",
          "Arlen Specter",
          "Ted Stevens",
          "Strom Thurmond",
          "Malcolm Wallop",
          "John Warner",
          "Hank Brown",
          "Bob Packwood",
          "Don Nickles",
          "Nancy Kassebaum",
          "James Jeffords",
          "John Danforth",
          "Alfonse D'Amato",
          "Larry Craig",
          "Paul Coverdell",
          "Bob Dole",
          "William Cohen",
          "Trent Lott",
          "Richard Lugar",
          "Connie Mack",
          "Thad Cochran",
          "John McCain",
          "Pete Domenici",
          "Dan Coats",
          "John Chafee",
          "Jesse Helms",
          "Conrad Burns",
          "Frank Murkowski",
          "Mark Hatfield",
          "Orrin Hatch",
          "Mitch McConnell"
         ],
         "type": "scatter",
         "x": [
          19.45672768204979,
          21.931802931606608,
          6.072561774377182,
          20.55888373503182,
          20.173265516382827,
          22.718614829631704,
          16.523298436967334,
          16.16394573354207,
          16.02036209626788,
          20.394546162651018,
          26.463306932656792,
          18.72811607739799,
          26.544624371818813,
          6.851967112403541,
          14.990899221694988,
          20.941790118657497,
          26.069344310096135,
          15.466690889652574,
          23.931283695873493,
          10.187108713771357,
          24.033648257559612,
          6.109833904157495,
          -5.949071069281739,
          12.84035973914316,
          17.08106809658406,
          24.201889682979193,
          21.368163915895586,
          22.51404901080758,
          9.5209766025098,
          22.994024132830237,
          17.490203558796967,
          21.404401696069154,
          18.365046114838858,
          21.567799280923232,
          15.896327564356135,
          19.56958541122906,
          3.5851016215469005,
          26.031841362280623,
          18.91842919609607,
          19.76850889289963,
          1.9952200041958719,
          21.696298145188507,
          21.392566624398683
         ],
         "y": [
          -2.8792500240187904,
          1.8796497964316239,
          -7.014556575234212,
          7.96362942883987,
          -0.5017498193956657,
          0.4622109811733959,
          -6.822548879878035,
          8.089854832544507,
          -6.541933811991167,
          -5.424489890312889,
          15.45873461563048,
          -5.963583432732228,
          16.869096149260084,
          -6.342458218055224,
          -6.961151757971662,
          -4.546267914784382,
          18.22240282590032,
          -4.306130588722058,
          12.757772293022343,
          -8.622734010322294,
          4.5686876639992455,
          -6.038774907353256,
          -5.38108324483414,
          -7.020833295603659,
          -4.750631308470096,
          1.2545463274227246,
          -2.461944405409388,
          -3.487598895501974,
          -7.648918457691022,
          0.08268107475961696,
          -5.200267651329631,
          -2.4757122096887665,
          -6.977995933657915,
          3.6995212287725394,
          -6.741001384016627,
          -2.4310981467564665,
          -7.556671328906464,
          20.495353423271865,
          -4.16168992133523,
          -2.6281850964845415,
          -5.758307927181479,
          -4.616877834477044,
          -4.227103000400527
         ]
        },
        {
         "hoverinfo": "none",
         "marker": {
          "color": "rgba(0, 0, 0, 0)",
          "line": {
           "color": "red",
           "width": 8
          },
          "size": 100
         },
         "mode": "markers",
         "name": "cluster",
         "opacity": 0.25,
         "type": "scatter",
         "x": [
          -13.635219896258286,
          17.75749567884801
         ],
         "y": [
          0.7259608058044721,
          -0.9454373284895441
         ]
        }
       ],
       "layout": {
        "font": {
         "color": "#000000",
         "family": "Courier New, monospace",
         "size": 12
        },
        "height": 500,
        "margin": {
         "b": 10,
         "l": 15,
         "pad": 1,
         "r": 1,
         "t": 50
        },
        "template": {
         "data": {
          "bar": [
           {
            "error_x": {
             "color": "#2a3f5f"
            },
            "error_y": {
             "color": "#2a3f5f"
            },
            "marker": {
             "line": {
              "color": "#E5ECF6",
              "width": 0.5
             }
            },
            "type": "bar"
           }
          ],
          "barpolar": [
           {
            "marker": {
             "line": {
              "color": "#E5ECF6",
              "width": 0.5
             }
            },
            "type": "barpolar"
           }
          ],
          "carpet": [
           {
            "aaxis": {
             "endlinecolor": "#2a3f5f",
             "gridcolor": "white",
             "linecolor": "white",
             "minorgridcolor": "white",
             "startlinecolor": "#2a3f5f"
            },
            "baxis": {
             "endlinecolor": "#2a3f5f",
             "gridcolor": "white",
             "linecolor": "white",
             "minorgridcolor": "white",
             "startlinecolor": "#2a3f5f"
            },
            "type": "carpet"
           }
          ],
          "choropleth": [
           {
            "colorbar": {
             "outlinewidth": 0,
             "ticks": ""
            },
            "type": "choropleth"
           }
          ],
          "contour": [
           {
            "colorbar": {
             "outlinewidth": 0,
             "ticks": ""
            },
            "colorscale": [
             [
              0,
              "#0d0887"
             ],
             [
              0.1111111111111111,
              "#46039f"
             ],
             [
              0.2222222222222222,
              "#7201a8"
             ],
             [
              0.3333333333333333,
              "#9c179e"
             ],
             [
              0.4444444444444444,
              "#bd3786"
             ],
             [
              0.5555555555555556,
              "#d8576b"
             ],
             [
              0.6666666666666666,
              "#ed7953"
             ],
             [
              0.7777777777777778,
              "#fb9f3a"
             ],
             [
              0.8888888888888888,
              "#fdca26"
             ],
             [
              1,
              "#f0f921"
             ]
            ],
            "type": "contour"
           }
          ],
          "contourcarpet": [
           {
            "colorbar": {
             "outlinewidth": 0,
             "ticks": ""
            },
            "type": "contourcarpet"
           }
          ],
          "heatmap": [
           {
            "colorbar": {
             "outlinewidth": 0,
             "ticks": ""
            },
            "colorscale": [
             [
              0,
              "#0d0887"
             ],
             [
              0.1111111111111111,
              "#46039f"
             ],
             [
              0.2222222222222222,
              "#7201a8"
             ],
             [
              0.3333333333333333,
              "#9c179e"
             ],
             [
              0.4444444444444444,
              "#bd3786"
             ],
             [
              0.5555555555555556,
              "#d8576b"
             ],
             [
              0.6666666666666666,
              "#ed7953"
             ],
             [
              0.7777777777777778,
              "#fb9f3a"
             ],
             [
              0.8888888888888888,
              "#fdca26"
             ],
             [
              1,
              "#f0f921"
             ]
            ],
            "type": "heatmap"
           }
          ],
          "heatmapgl": [
           {
            "colorbar": {
             "outlinewidth": 0,
             "ticks": ""
            },
            "colorscale": [
             [
              0,
              "#0d0887"
             ],
             [
              0.1111111111111111,
              "#46039f"
             ],
             [
              0.2222222222222222,
              "#7201a8"
             ],
             [
              0.3333333333333333,
              "#9c179e"
             ],
             [
              0.4444444444444444,
              "#bd3786"
             ],
             [
              0.5555555555555556,
              "#d8576b"
             ],
             [
              0.6666666666666666,
              "#ed7953"
             ],
             [
              0.7777777777777778,
              "#fb9f3a"
             ],
             [
              0.8888888888888888,
              "#fdca26"
             ],
             [
              1,
              "#f0f921"
             ]
            ],
            "type": "heatmapgl"
           }
          ],
          "histogram": [
           {
            "marker": {
             "colorbar": {
              "outlinewidth": 0,
              "ticks": ""
             }
            },
            "type": "histogram"
           }
          ],
          "histogram2d": [
           {
            "colorbar": {
             "outlinewidth": 0,
             "ticks": ""
            },
            "colorscale": [
             [
              0,
              "#0d0887"
             ],
             [
              0.1111111111111111,
              "#46039f"
             ],
             [
              0.2222222222222222,
              "#7201a8"
             ],
             [
              0.3333333333333333,
              "#9c179e"
             ],
             [
              0.4444444444444444,
              "#bd3786"
             ],
             [
              0.5555555555555556,
              "#d8576b"
             ],
             [
              0.6666666666666666,
              "#ed7953"
             ],
             [
              0.7777777777777778,
              "#fb9f3a"
             ],
             [
              0.8888888888888888,
              "#fdca26"
             ],
             [
              1,
              "#f0f921"
             ]
            ],
            "type": "histogram2d"
           }
          ],
          "histogram2dcontour": [
           {
            "colorbar": {
             "outlinewidth": 0,
             "ticks": ""
            },
            "colorscale": [
             [
              0,
              "#0d0887"
             ],
             [
              0.1111111111111111,
              "#46039f"
             ],
             [
              0.2222222222222222,
              "#7201a8"
             ],
             [
              0.3333333333333333,
              "#9c179e"
             ],
             [
              0.4444444444444444,
              "#bd3786"
             ],
             [
              0.5555555555555556,
              "#d8576b"
             ],
             [
              0.6666666666666666,
              "#ed7953"
             ],
             [
              0.7777777777777778,
              "#fb9f3a"
             ],
             [
              0.8888888888888888,
              "#fdca26"
             ],
             [
              1,
              "#f0f921"
             ]
            ],
            "type": "histogram2dcontour"
           }
          ],
          "mesh3d": [
           {
            "colorbar": {
             "outlinewidth": 0,
             "ticks": ""
            },
            "type": "mesh3d"
           }
          ],
          "parcoords": [
           {
            "line": {
             "colorbar": {
              "outlinewidth": 0,
              "ticks": ""
             }
            },
            "type": "parcoords"
           }
          ],
          "pie": [
           {
            "automargin": true,
            "type": "pie"
           }
          ],
          "scatter": [
           {
            "marker": {
             "colorbar": {
              "outlinewidth": 0,
              "ticks": ""
             }
            },
            "type": "scatter"
           }
          ],
          "scatter3d": [
           {
            "line": {
             "colorbar": {
              "outlinewidth": 0,
              "ticks": ""
             }
            },
            "marker": {
             "colorbar": {
              "outlinewidth": 0,
              "ticks": ""
             }
            },
            "type": "scatter3d"
           }
          ],
          "scattercarpet": [
           {
            "marker": {
             "colorbar": {
              "outlinewidth": 0,
              "ticks": ""
             }
            },
            "type": "scattercarpet"
           }
          ],
          "scattergeo": [
           {
            "marker": {
             "colorbar": {
              "outlinewidth": 0,
              "ticks": ""
             }
            },
            "type": "scattergeo"
           }
          ],
          "scattergl": [
           {
            "marker": {
             "colorbar": {
              "outlinewidth": 0,
              "ticks": ""
             }
            },
            "type": "scattergl"
           }
          ],
          "scattermapbox": [
           {
            "marker": {
             "colorbar": {
              "outlinewidth": 0,
              "ticks": ""
             }
            },
            "type": "scattermapbox"
           }
          ],
          "scatterpolar": [
           {
            "marker": {
             "colorbar": {
              "outlinewidth": 0,
              "ticks": ""
             }
            },
            "type": "scatterpolar"
           }
          ],
          "scatterpolargl": [
           {
            "marker": {
             "colorbar": {
              "outlinewidth": 0,
              "ticks": ""
             }
            },
            "type": "scatterpolargl"
           }
          ],
          "scatterternary": [
           {
            "marker": {
             "colorbar": {
              "outlinewidth": 0,
              "ticks": ""
             }
            },
            "type": "scatterternary"
           }
          ],
          "surface": [
           {
            "colorbar": {
             "outlinewidth": 0,
             "ticks": ""
            },
            "colorscale": [
             [
              0,
              "#0d0887"
             ],
             [
              0.1111111111111111,
              "#46039f"
             ],
             [
              0.2222222222222222,
              "#7201a8"
             ],
             [
              0.3333333333333333,
              "#9c179e"
             ],
             [
              0.4444444444444444,
              "#bd3786"
             ],
             [
              0.5555555555555556,
              "#d8576b"
             ],
             [
              0.6666666666666666,
              "#ed7953"
             ],
             [
              0.7777777777777778,
              "#fb9f3a"
             ],
             [
              0.8888888888888888,
              "#fdca26"
             ],
             [
              1,
              "#f0f921"
             ]
            ],
            "type": "surface"
           }
          ],
          "table": [
           {
            "cells": {
             "fill": {
              "color": "#EBF0F8"
             },
             "line": {
              "color": "white"
             }
            },
            "header": {
             "fill": {
              "color": "#C8D4E3"
             },
             "line": {
              "color": "white"
             }
            },
            "type": "table"
           }
          ]
         },
         "layout": {
          "annotationdefaults": {
           "arrowcolor": "#2a3f5f",
           "arrowhead": 0,
           "arrowwidth": 1
          },
          "coloraxis": {
           "colorbar": {
            "outlinewidth": 0,
            "ticks": ""
           }
          },
          "colorscale": {
           "diverging": [
            [
             0,
             "#8e0152"
            ],
            [
             0.1,
             "#c51b7d"
            ],
            [
             0.2,
             "#de77ae"
            ],
            [
             0.3,
             "#f1b6da"
            ],
            [
             0.4,
             "#fde0ef"
            ],
            [
             0.5,
             "#f7f7f7"
            ],
            [
             0.6,
             "#e6f5d0"
            ],
            [
             0.7,
             "#b8e186"
            ],
            [
             0.8,
             "#7fbc41"
            ],
            [
             0.9,
             "#4d9221"
            ],
            [
             1,
             "#276419"
            ]
           ],
           "sequential": [
            [
             0,
             "#0d0887"
            ],
            [
             0.1111111111111111,
             "#46039f"
            ],
            [
             0.2222222222222222,
             "#7201a8"
            ],
            [
             0.3333333333333333,
             "#9c179e"
            ],
            [
             0.4444444444444444,
             "#bd3786"
            ],
            [
             0.5555555555555556,
             "#d8576b"
            ],
            [
             0.6666666666666666,
             "#ed7953"
            ],
            [
             0.7777777777777778,
             "#fb9f3a"
            ],
            [
             0.8888888888888888,
             "#fdca26"
            ],
            [
             1,
             "#f0f921"
            ]
           ],
           "sequentialminus": [
            [
             0,
             "#0d0887"
            ],
            [
             0.1111111111111111,
             "#46039f"
            ],
            [
             0.2222222222222222,
             "#7201a8"
            ],
            [
             0.3333333333333333,
             "#9c179e"
            ],
            [
             0.4444444444444444,
             "#bd3786"
            ],
            [
             0.5555555555555556,
             "#d8576b"
            ],
            [
             0.6666666666666666,
             "#ed7953"
            ],
            [
             0.7777777777777778,
             "#fb9f3a"
            ],
            [
             0.8888888888888888,
             "#fdca26"
            ],
            [
             1,
             "#f0f921"
            ]
           ]
          },
          "colorway": [
           "#636efa",
           "#EF553B",
           "#00cc96",
           "#ab63fa",
           "#FFA15A",
           "#19d3f3",
           "#FF6692",
           "#B6E880",
           "#FF97FF",
           "#FECB52"
          ],
          "font": {
           "color": "#2a3f5f"
          },
          "geo": {
           "bgcolor": "white",
           "lakecolor": "white",
           "landcolor": "#E5ECF6",
           "showlakes": true,
           "showland": true,
           "subunitcolor": "white"
          },
          "hoverlabel": {
           "align": "left"
          },
          "hovermode": "closest",
          "mapbox": {
           "style": "light"
          },
          "paper_bgcolor": "white",
          "plot_bgcolor": "#E5ECF6",
          "polar": {
           "angularaxis": {
            "gridcolor": "white",
            "linecolor": "white",
            "ticks": ""
           },
           "bgcolor": "#E5ECF6",
           "radialaxis": {
            "gridcolor": "white",
            "linecolor": "white",
            "ticks": ""
           }
          },
          "scene": {
           "xaxis": {
            "backgroundcolor": "#E5ECF6",
            "gridcolor": "white",
            "gridwidth": 2,
            "linecolor": "white",
            "showbackground": true,
            "ticks": "",
            "zerolinecolor": "white"
           },
           "yaxis": {
            "backgroundcolor": "#E5ECF6",
            "gridcolor": "white",
            "gridwidth": 2,
            "linecolor": "white",
            "showbackground": true,
            "ticks": "",
            "zerolinecolor": "white"
           },
           "zaxis": {
            "backgroundcolor": "#E5ECF6",
            "gridcolor": "white",
            "gridwidth": 2,
            "linecolor": "white",
            "showbackground": true,
            "ticks": "",
            "zerolinecolor": "white"
           }
          },
          "shapedefaults": {
           "line": {
            "color": "#2a3f5f"
           }
          },
          "ternary": {
           "aaxis": {
            "gridcolor": "white",
            "linecolor": "white",
            "ticks": ""
           },
           "baxis": {
            "gridcolor": "white",
            "linecolor": "white",
            "ticks": ""
           },
           "bgcolor": "#E5ECF6",
           "caxis": {
            "gridcolor": "white",
            "linecolor": "white",
            "ticks": ""
           }
          },
          "title": {
           "x": 0.05
          },
          "xaxis": {
           "automargin": true,
           "gridcolor": "white",
           "linecolor": "white",
           "ticks": "",
           "title": {
            "standoff": 15
           },
           "zerolinecolor": "white",
           "zerolinewidth": 2
          },
          "yaxis": {
           "automargin": true,
           "gridcolor": "white",
           "linecolor": "white",
           "ticks": "",
           "title": {
            "standoff": 15
           },
           "zerolinecolor": "white",
           "zerolinewidth": 2
          }
         }
        },
        "title": {
         "text": "103th Congress (1993-1995)"
        },
        "width": 600,
        "xaxis": {
         "title": {
          "text": "PCA 1"
         }
        },
        "yaxis": {
         "title": {
          "text": "PCA 2"
         }
        }
       }
      },
      "text/html": [
       "<div>\n",
       "        \n",
       "        \n",
       "            <div id=\"d5565535-b7f7-4b15-91e9-69d3517caddb\" class=\"plotly-graph-div\" style=\"height:500px; width:600px;\"></div>\n",
       "            <script type=\"text/javascript\">\n",
       "                require([\"plotly\"], function(Plotly) {\n",
       "                    window.PLOTLYENV=window.PLOTLYENV || {};\n",
       "                    \n",
       "                if (document.getElementById(\"d5565535-b7f7-4b15-91e9-69d3517caddb\")) {\n",
       "                    Plotly.newPlot(\n",
       "                        'd5565535-b7f7-4b15-91e9-69d3517caddb',\n",
       "                        [{\"hovertemplate\": \"<b>%{text}</b><br><br>\", \"marker\": {\"size\": 5}, \"mode\": \"markers\", \"name\": \"D\", \"text\": [\"Daniel Akaka\", \"Joseph Lieberman\", \"Carl Levin\", \"Patrick Leahy\", \"Frank Lautenberg\", \"Herb Kohl\", \"John Kerry\", \"Harlan Mathews\", \"J. Kerrey\", \"J. Johnston\", \"Paul Wellstone\", \"Ernest Hollings\", \"Howell Heflin\", \"Tom Harkin\", \"Bob Graham\", \"Edward Kennedy\", \"John Glenn\", \"Howard Metzenbaum\", \"George Mitchell\", \"Paul Simon\", \"Richard Shelby\", \"Jim Sasser\", \"Paul Sarbanes\", \"John Rockefeller\", \"Charles Robb\", \"Barbara Mikulski\", \"Donald Riegle\", \"David Pryor\", \"Claiborne Pell\", \"Sam Nunn\", \"Patty Murray\", \"Daniel Moynihan\", \"Carol Moseley-Braun\", \"Harry Reid\", \"Wendell Ford\", \"Daniel Inouye\", \"Russell Feingold\", \"Max Baucus\", \"Joseph Biden\", \"Jeff Bingaman\", \"David Boren\", \"Barbara Boxer\", \"Bill Bradley\", \"John Breaux\", \"Richard Bryan\", \"Dale Bumpers\", \"Robert Byrd\", \"Ben Campbell\", \"Dianne Feinstein\", \"Kent Conrad\", \"Thomas Daschle\", \"Dennis DeConcini\", \"Harris Wofford\", \"Christopher Dodd\", \"Byron Dorgan\", \"J. Exon\"], \"type\": \"scatter\", \"x\": [-17.321048627243012, -10.892683355841173, -17.549713027468968, -17.428170292659182, -14.009140302268762, -12.389086544847657, -14.455526080150877, -13.631975778142994, -13.560066715740383, -9.749257344273918, -18.097713208800926, -10.223969244447149, -4.3803385288756695, -17.42227474765527, -13.380688483213893, -3.5932419938679505, -15.602538512374977, -17.40204272402229, -18.079267880818318, -18.355785271617037, 5.0378310326464195, -12.64307957695076, -18.017545900434648, -15.947445886911975, -13.18462520598597, -15.947150745926026, -16.429401543231766, -13.973608016124194, -17.871342944895858, -6.600274812620983, -16.9965001426556, -17.337731028507722, -17.24555675068381, -13.926365656976234, -13.086347262921525, -2.8526470178966385, -15.148031775289612, -12.742550985309618, -15.77732241335343, -12.437645985880211, -10.697083471992137, -17.49282861969628, -14.470465602425659, -10.609077314040961, -12.957675050879363, -14.95647483736614, -12.005279041379138, -10.41495053653095, -15.11285353450716, -12.040274662088917, -16.038706421629314, -12.746359659637383, -15.738687631861367, -15.61971492061251, -12.707031642227621, -8.326077857420378], \"y\": [-1.5502508706158862, -0.9222056031650125, -0.6318601619651977, 0.8545147746135718, 1.7391516466866934, 4.492338912881567, 0.8311025560578057, 0.458978498967214, -2.570727918563016, -1.7529939015749925, 4.521795288972789, 1.8920324658431402, 1.4978804026958914, 0.6726891269931372, -0.28678174833355025, 3.8273830714122536, -0.3261343563514489, 3.6774812376158716, -0.452416985882456, 0.14158593277655115, -2.3474791383963356, 1.8660896462588854, -0.4361371822970703, -1.0412665307279765, -1.815121998320645, -0.745741068677724, 1.0403886248643721, 2.4773060901560937, 0.06310885193390638, -1.729233163970654, -0.7117023913013792, -0.3167689890655264, 0.13716635661829044, 1.3639341120623505, -0.6227593270396166, 0.17880290940450275, 10.757469606216723, 1.7408594159249096, -0.12811554578513262, -0.7241837105075263, -0.697423054915239, 1.307154283098702, 3.48696093824616, 0.4107189494296864, 1.1628230968467637, 0.8514840338106481, 3.3482202907381216, 0.20920860319854775, -0.07138891771606438, 4.7964445730441065, -0.5054847050796033, 1.5549174572232787, 0.7007275321018493, -1.0971258413119072, 3.3408455319529486, -0.2308524755951205]}, {\"hovertemplate\": \"<b>%{text}</b><br><br>\", \"marker\": {\"size\": 5}, \"mode\": \"markers\", \"name\": \"R\", \"text\": [\"Dirk Kempthorne\", \"Larry Pressler\", \"Dave Durenberger\", \"Judd Gregg\", \"Chuck Grassley\", \"Phil Gramm\", \"Christopher Bond\", \"William Roth\", \"Slade Gorton\", \"Robert Bennett\", \"Lauch Faircloth\", \"Alan Simpson\", \"Bob Smith\", \"Arlen Specter\", \"Ted Stevens\", \"Strom Thurmond\", \"Malcolm Wallop\", \"John Warner\", \"Hank Brown\", \"Bob Packwood\", \"Don Nickles\", \"Nancy Kassebaum\", \"James Jeffords\", \"John Danforth\", \"Alfonse D'Amato\", \"Larry Craig\", \"Paul Coverdell\", \"Bob Dole\", \"William Cohen\", \"Trent Lott\", \"Richard Lugar\", \"Connie Mack\", \"Thad Cochran\", \"John McCain\", \"Pete Domenici\", \"Dan Coats\", \"John Chafee\", \"Jesse Helms\", \"Conrad Burns\", \"Frank Murkowski\", \"Mark Hatfield\", \"Orrin Hatch\", \"Mitch McConnell\"], \"type\": \"scatter\", \"x\": [19.45672768204979, 21.931802931606608, 6.072561774377182, 20.55888373503182, 20.173265516382827, 22.718614829631704, 16.523298436967334, 16.16394573354207, 16.02036209626788, 20.394546162651018, 26.463306932656792, 18.72811607739799, 26.544624371818813, 6.851967112403541, 14.990899221694988, 20.941790118657497, 26.069344310096135, 15.466690889652574, 23.931283695873493, 10.187108713771357, 24.033648257559612, 6.109833904157495, -5.949071069281739, 12.84035973914316, 17.08106809658406, 24.201889682979193, 21.368163915895586, 22.51404901080758, 9.5209766025098, 22.994024132830237, 17.490203558796967, 21.404401696069154, 18.365046114838858, 21.567799280923232, 15.896327564356135, 19.56958541122906, 3.5851016215469005, 26.031841362280623, 18.91842919609607, 19.76850889289963, 1.9952200041958719, 21.696298145188507, 21.392566624398683], \"y\": [-2.8792500240187904, 1.8796497964316239, -7.014556575234212, 7.96362942883987, -0.5017498193956657, 0.4622109811733959, -6.822548879878035, 8.089854832544507, -6.541933811991167, -5.424489890312889, 15.45873461563048, -5.963583432732228, 16.869096149260084, -6.342458218055224, -6.961151757971662, -4.546267914784382, 18.22240282590032, -4.306130588722058, 12.757772293022343, -8.622734010322294, 4.5686876639992455, -6.038774907353256, -5.38108324483414, -7.020833295603659, -4.750631308470096, 1.2545463274227246, -2.461944405409388, -3.487598895501974, -7.648918457691022, 0.08268107475961696, -5.200267651329631, -2.4757122096887665, -6.977995933657915, 3.6995212287725394, -6.741001384016627, -2.4310981467564665, -7.556671328906464, 20.495353423271865, -4.16168992133523, -2.6281850964845415, -5.758307927181479, -4.616877834477044, -4.227103000400527]}, {\"hoverinfo\": \"none\", \"marker\": {\"color\": \"rgba(0, 0, 0, 0)\", \"line\": {\"color\": \"red\", \"width\": 8}, \"size\": 100}, \"mode\": \"markers\", \"name\": \"cluster\", \"opacity\": 0.25, \"type\": \"scatter\", \"x\": [-13.635219896258286, 17.75749567884801], \"y\": [0.7259608058044721, -0.9454373284895441]}],\n",
       "                        {\"font\": {\"color\": \"#000000\", \"family\": \"Courier New, monospace\", \"size\": 12}, \"height\": 500, \"margin\": {\"b\": 10, \"l\": 15, \"pad\": 1, \"r\": 1, \"t\": 50}, \"template\": {\"data\": {\"bar\": [{\"error_x\": {\"color\": \"#2a3f5f\"}, \"error_y\": {\"color\": \"#2a3f5f\"}, \"marker\": {\"line\": {\"color\": \"#E5ECF6\", \"width\": 0.5}}, \"type\": \"bar\"}], \"barpolar\": [{\"marker\": {\"line\": {\"color\": \"#E5ECF6\", \"width\": 0.5}}, \"type\": \"barpolar\"}], \"carpet\": [{\"aaxis\": {\"endlinecolor\": \"#2a3f5f\", \"gridcolor\": \"white\", \"linecolor\": \"white\", \"minorgridcolor\": \"white\", \"startlinecolor\": \"#2a3f5f\"}, \"baxis\": {\"endlinecolor\": \"#2a3f5f\", \"gridcolor\": \"white\", \"linecolor\": \"white\", \"minorgridcolor\": \"white\", \"startlinecolor\": \"#2a3f5f\"}, \"type\": \"carpet\"}], \"choropleth\": [{\"colorbar\": {\"outlinewidth\": 0, \"ticks\": \"\"}, \"type\": \"choropleth\"}], \"contour\": [{\"colorbar\": {\"outlinewidth\": 0, \"ticks\": \"\"}, \"colorscale\": [[0.0, \"#0d0887\"], [0.1111111111111111, \"#46039f\"], [0.2222222222222222, \"#7201a8\"], [0.3333333333333333, \"#9c179e\"], [0.4444444444444444, \"#bd3786\"], [0.5555555555555556, \"#d8576b\"], [0.6666666666666666, \"#ed7953\"], [0.7777777777777778, \"#fb9f3a\"], [0.8888888888888888, \"#fdca26\"], [1.0, \"#f0f921\"]], \"type\": \"contour\"}], \"contourcarpet\": [{\"colorbar\": {\"outlinewidth\": 0, \"ticks\": \"\"}, \"type\": \"contourcarpet\"}], \"heatmap\": [{\"colorbar\": {\"outlinewidth\": 0, \"ticks\": \"\"}, \"colorscale\": [[0.0, \"#0d0887\"], [0.1111111111111111, \"#46039f\"], [0.2222222222222222, \"#7201a8\"], [0.3333333333333333, \"#9c179e\"], [0.4444444444444444, \"#bd3786\"], [0.5555555555555556, \"#d8576b\"], [0.6666666666666666, \"#ed7953\"], [0.7777777777777778, \"#fb9f3a\"], [0.8888888888888888, \"#fdca26\"], [1.0, \"#f0f921\"]], \"type\": \"heatmap\"}], \"heatmapgl\": [{\"colorbar\": {\"outlinewidth\": 0, \"ticks\": \"\"}, \"colorscale\": [[0.0, \"#0d0887\"], [0.1111111111111111, \"#46039f\"], [0.2222222222222222, \"#7201a8\"], [0.3333333333333333, \"#9c179e\"], [0.4444444444444444, \"#bd3786\"], [0.5555555555555556, \"#d8576b\"], [0.6666666666666666, \"#ed7953\"], [0.7777777777777778, \"#fb9f3a\"], [0.8888888888888888, \"#fdca26\"], [1.0, \"#f0f921\"]], \"type\": \"heatmapgl\"}], \"histogram\": [{\"marker\": {\"colorbar\": {\"outlinewidth\": 0, \"ticks\": \"\"}}, \"type\": \"histogram\"}], \"histogram2d\": [{\"colorbar\": {\"outlinewidth\": 0, \"ticks\": \"\"}, \"colorscale\": [[0.0, \"#0d0887\"], [0.1111111111111111, \"#46039f\"], [0.2222222222222222, \"#7201a8\"], [0.3333333333333333, \"#9c179e\"], [0.4444444444444444, \"#bd3786\"], [0.5555555555555556, \"#d8576b\"], [0.6666666666666666, \"#ed7953\"], [0.7777777777777778, \"#fb9f3a\"], [0.8888888888888888, \"#fdca26\"], [1.0, \"#f0f921\"]], \"type\": \"histogram2d\"}], \"histogram2dcontour\": [{\"colorbar\": {\"outlinewidth\": 0, \"ticks\": \"\"}, \"colorscale\": [[0.0, \"#0d0887\"], [0.1111111111111111, \"#46039f\"], [0.2222222222222222, \"#7201a8\"], [0.3333333333333333, \"#9c179e\"], [0.4444444444444444, \"#bd3786\"], [0.5555555555555556, \"#d8576b\"], [0.6666666666666666, \"#ed7953\"], [0.7777777777777778, \"#fb9f3a\"], [0.8888888888888888, \"#fdca26\"], [1.0, \"#f0f921\"]], \"type\": \"histogram2dcontour\"}], \"mesh3d\": [{\"colorbar\": {\"outlinewidth\": 0, \"ticks\": \"\"}, \"type\": \"mesh3d\"}], \"parcoords\": [{\"line\": {\"colorbar\": {\"outlinewidth\": 0, \"ticks\": \"\"}}, \"type\": \"parcoords\"}], \"pie\": [{\"automargin\": true, \"type\": \"pie\"}], \"scatter\": [{\"marker\": {\"colorbar\": {\"outlinewidth\": 0, \"ticks\": \"\"}}, \"type\": \"scatter\"}], \"scatter3d\": [{\"line\": {\"colorbar\": {\"outlinewidth\": 0, \"ticks\": \"\"}}, \"marker\": {\"colorbar\": {\"outlinewidth\": 0, \"ticks\": \"\"}}, \"type\": \"scatter3d\"}], \"scattercarpet\": [{\"marker\": {\"colorbar\": {\"outlinewidth\": 0, \"ticks\": \"\"}}, \"type\": \"scattercarpet\"}], \"scattergeo\": [{\"marker\": {\"colorbar\": {\"outlinewidth\": 0, \"ticks\": \"\"}}, \"type\": \"scattergeo\"}], \"scattergl\": [{\"marker\": {\"colorbar\": {\"outlinewidth\": 0, \"ticks\": \"\"}}, \"type\": \"scattergl\"}], \"scattermapbox\": [{\"marker\": {\"colorbar\": {\"outlinewidth\": 0, \"ticks\": \"\"}}, \"type\": \"scattermapbox\"}], \"scatterpolar\": [{\"marker\": {\"colorbar\": {\"outlinewidth\": 0, \"ticks\": \"\"}}, \"type\": \"scatterpolar\"}], \"scatterpolargl\": [{\"marker\": {\"colorbar\": {\"outlinewidth\": 0, \"ticks\": \"\"}}, \"type\": \"scatterpolargl\"}], \"scatterternary\": [{\"marker\": {\"colorbar\": {\"outlinewidth\": 0, \"ticks\": \"\"}}, \"type\": \"scatterternary\"}], \"surface\": [{\"colorbar\": {\"outlinewidth\": 0, \"ticks\": \"\"}, \"colorscale\": [[0.0, \"#0d0887\"], [0.1111111111111111, \"#46039f\"], [0.2222222222222222, \"#7201a8\"], [0.3333333333333333, \"#9c179e\"], [0.4444444444444444, \"#bd3786\"], [0.5555555555555556, \"#d8576b\"], [0.6666666666666666, \"#ed7953\"], [0.7777777777777778, \"#fb9f3a\"], [0.8888888888888888, \"#fdca26\"], [1.0, \"#f0f921\"]], \"type\": \"surface\"}], \"table\": [{\"cells\": {\"fill\": {\"color\": \"#EBF0F8\"}, \"line\": {\"color\": \"white\"}}, \"header\": {\"fill\": {\"color\": \"#C8D4E3\"}, \"line\": {\"color\": \"white\"}}, \"type\": \"table\"}]}, \"layout\": {\"annotationdefaults\": {\"arrowcolor\": \"#2a3f5f\", \"arrowhead\": 0, \"arrowwidth\": 1}, \"coloraxis\": {\"colorbar\": {\"outlinewidth\": 0, \"ticks\": \"\"}}, \"colorscale\": {\"diverging\": [[0, \"#8e0152\"], [0.1, \"#c51b7d\"], [0.2, \"#de77ae\"], [0.3, \"#f1b6da\"], [0.4, \"#fde0ef\"], [0.5, \"#f7f7f7\"], [0.6, \"#e6f5d0\"], [0.7, \"#b8e186\"], [0.8, \"#7fbc41\"], [0.9, \"#4d9221\"], [1, \"#276419\"]], \"sequential\": [[0.0, \"#0d0887\"], [0.1111111111111111, \"#46039f\"], [0.2222222222222222, \"#7201a8\"], [0.3333333333333333, \"#9c179e\"], [0.4444444444444444, \"#bd3786\"], [0.5555555555555556, \"#d8576b\"], [0.6666666666666666, \"#ed7953\"], [0.7777777777777778, \"#fb9f3a\"], [0.8888888888888888, \"#fdca26\"], [1.0, \"#f0f921\"]], \"sequentialminus\": [[0.0, \"#0d0887\"], [0.1111111111111111, \"#46039f\"], [0.2222222222222222, \"#7201a8\"], [0.3333333333333333, \"#9c179e\"], [0.4444444444444444, \"#bd3786\"], [0.5555555555555556, \"#d8576b\"], [0.6666666666666666, \"#ed7953\"], [0.7777777777777778, \"#fb9f3a\"], [0.8888888888888888, \"#fdca26\"], [1.0, \"#f0f921\"]]}, \"colorway\": [\"#636efa\", \"#EF553B\", \"#00cc96\", \"#ab63fa\", \"#FFA15A\", \"#19d3f3\", \"#FF6692\", \"#B6E880\", \"#FF97FF\", \"#FECB52\"], \"font\": {\"color\": \"#2a3f5f\"}, \"geo\": {\"bgcolor\": \"white\", \"lakecolor\": \"white\", \"landcolor\": \"#E5ECF6\", \"showlakes\": true, \"showland\": true, \"subunitcolor\": \"white\"}, \"hoverlabel\": {\"align\": \"left\"}, \"hovermode\": \"closest\", \"mapbox\": {\"style\": \"light\"}, \"paper_bgcolor\": \"white\", \"plot_bgcolor\": \"#E5ECF6\", \"polar\": {\"angularaxis\": {\"gridcolor\": \"white\", \"linecolor\": \"white\", \"ticks\": \"\"}, \"bgcolor\": \"#E5ECF6\", \"radialaxis\": {\"gridcolor\": \"white\", \"linecolor\": \"white\", \"ticks\": \"\"}}, \"scene\": {\"xaxis\": {\"backgroundcolor\": \"#E5ECF6\", \"gridcolor\": \"white\", \"gridwidth\": 2, \"linecolor\": \"white\", \"showbackground\": true, \"ticks\": \"\", \"zerolinecolor\": \"white\"}, \"yaxis\": {\"backgroundcolor\": \"#E5ECF6\", \"gridcolor\": \"white\", \"gridwidth\": 2, \"linecolor\": \"white\", \"showbackground\": true, \"ticks\": \"\", \"zerolinecolor\": \"white\"}, \"zaxis\": {\"backgroundcolor\": \"#E5ECF6\", \"gridcolor\": \"white\", \"gridwidth\": 2, \"linecolor\": \"white\", \"showbackground\": true, \"ticks\": \"\", \"zerolinecolor\": \"white\"}}, \"shapedefaults\": {\"line\": {\"color\": \"#2a3f5f\"}}, \"ternary\": {\"aaxis\": {\"gridcolor\": \"white\", \"linecolor\": \"white\", \"ticks\": \"\"}, \"baxis\": {\"gridcolor\": \"white\", \"linecolor\": \"white\", \"ticks\": \"\"}, \"bgcolor\": \"#E5ECF6\", \"caxis\": {\"gridcolor\": \"white\", \"linecolor\": \"white\", \"ticks\": \"\"}}, \"title\": {\"x\": 0.05}, \"xaxis\": {\"automargin\": true, \"gridcolor\": \"white\", \"linecolor\": \"white\", \"ticks\": \"\", \"title\": {\"standoff\": 15}, \"zerolinecolor\": \"white\", \"zerolinewidth\": 2}, \"yaxis\": {\"automargin\": true, \"gridcolor\": \"white\", \"linecolor\": \"white\", \"ticks\": \"\", \"title\": {\"standoff\": 15}, \"zerolinecolor\": \"white\", \"zerolinewidth\": 2}}}, \"title\": {\"text\": \"103th Congress (1993-1995)\"}, \"width\": 600, \"xaxis\": {\"title\": {\"text\": \"PCA 1\"}}, \"yaxis\": {\"title\": {\"text\": \"PCA 2\"}}},\n",
       "                        {\"responsive\": true}\n",
       "                    ).then(function(){\n",
       "                            \n",
       "var gd = document.getElementById('d5565535-b7f7-4b15-91e9-69d3517caddb');\n",
       "var x = new MutationObserver(function (mutations, observer) {{\n",
       "        var display = window.getComputedStyle(gd).display;\n",
       "        if (!display || display === 'none') {{\n",
       "            console.log([gd, 'removed!']);\n",
       "            Plotly.purge(gd);\n",
       "            observer.disconnect();\n",
       "        }}\n",
       "}});\n",
       "\n",
       "// Listen for the removal of the full notebook cells\n",
       "var notebookContainer = gd.closest('#notebook-container');\n",
       "if (notebookContainer) {{\n",
       "    x.observe(notebookContainer, {childList: true});\n",
       "}}\n",
       "\n",
       "// Listen for the clearing of the current output cell\n",
       "var outputEl = gd.closest('.output');\n",
       "if (outputEl) {{\n",
       "    x.observe(outputEl, {childList: true});\n",
       "}}\n",
       "\n",
       "                        })\n",
       "                };\n",
       "                });\n",
       "            </script>\n",
       "        </div>"
      ]
     },
     "metadata": {},
     "output_type": "display_data"
    }
   ],
   "source": [
    "plot_PCA(1993)"
   ]
  },
  {
   "cell_type": "markdown",
   "metadata": {},
   "source": [
    "### 103th Congerss (1993-1995)\n",
    "\n",
    "The 103th Senate voting topology clearly seperates senators by their party, with the democrats forming a close knit cluster, while the republicans are more spread out. \n",
    "\n",
    "Two notable exceptions are Senator Shelby and Senator Jeffords. Senator Shelby voted more often along the Republican line and similarily, Senator Jeffords voted more often along the Democratic line. Unsurprisingly, both of the senators ended up eventually leaving their party, with Shelby joining the Republican party midway during President Clinton's presidency, and Jeffords leaving the Republican party to become an independent and caucus with the Democrats in 2001."
   ]
  },
  {
   "cell_type": "code",
   "execution_count": 656,
   "metadata": {},
   "outputs": [
    {
     "data": {
      "application/vnd.plotly.v1+json": {
       "config": {
        "plotlyServerURL": "https://plot.ly"
       },
       "data": [
        {
         "hovertemplate": "<b>%{text}</b><br><br>",
         "marker": {
          "size": 5
         },
         "mode": "markers",
         "name": "D",
         "text": [
          "Daniel Akaka",
          "Russ Feingold",
          "Dianne Feinstein",
          "Tom Harkin",
          "Sheldon Whitehouse",
          "Daniel Inouye",
          "Edward Kennedy",
          "John Kerry",
          "Amy Klobuchar",
          "Herb Kohl",
          "Mary Landrieu",
          "Frank Lautenberg",
          "Patrick Leahy",
          "Carl Levin",
          "Blanche Lincoln",
          "Richard Durbin",
          "Claire McCaskill",
          "Barbara Mikulski",
          "Patty Murray",
          "Bill Nelson",
          "E. Nelson",
          "Barack Obama",
          "Mark Pryor",
          "John Reed",
          "Harry Reid",
          "Jay Rockefeller",
          "Ken Salazar",
          "Charles Schumer",
          "Debbie Stabenow",
          "Jon Tester",
          "James Webb",
          "Robert Menendez",
          "Byron Dorgan",
          "Ron Wyden",
          "Evan Bayh",
          "Christopher Dodd",
          "Robert Byrd",
          "Maria Cantwell",
          "Sherrod Brown",
          "Benjamin Cardin",
          "Barbara Boxer",
          "Kent Conrad",
          "Thomas Carper",
          "Joseph Biden",
          "Max Baucus",
          "Bob Casey",
          "Jeff Bingaman",
          "Hillary Clinton"
         ],
         "type": "scatter",
         "x": [
          -16.020385388492656,
          -5.721421514426428,
          -15.176435243732314,
          -9.416615699215395,
          -16.55431003820412,
          -3.4343357723040824,
          -10.123833360961346,
          -14.91390216826994,
          -15.747606323249896,
          -15.533009546952078,
          -1.236338514959585,
          -14.896746036570025,
          -16.419348114638815,
          -16.690512718997024,
          -11.861887281937499,
          -15.66448290634813,
          -5.417643888213114,
          -15.181729856857254,
          -10.004014577549055,
          -14.370617804159325,
          -8.972643060422694,
          -7.986361527510859,
          -10.08011082931948,
          -15.442188416210271,
          -13.92115722924736,
          -6.8248992907171475,
          -13.470474719730404,
          -16.679022982290004,
          -12.974720241631301,
          -6.959861126155064,
          -13.571219880619534,
          -8.00396914541865,
          -8.50916646061297,
          -15.70338634029885,
          -8.443232386912278,
          -5.427937173673452,
          -3.3150029465026813,
          -15.08884768088453,
          -16.175161545670914,
          -16.297126511746708,
          -9.210565116651297,
          -10.750236975296186,
          -12.953569943266677,
          -5.668109237477042,
          -5.3418398136956595,
          -14.801154594433672,
          -14.333840461734884,
          -3.5060626902394603
         ],
         "y": [
          -4.395697869498901,
          17.7625647374504,
          -4.0883738666297464,
          11.178822791999037,
          -5.776220224518574,
          18.049124650631025,
          0.3671110038968915,
          -3.3695000667435258,
          -5.114486991302091,
          -4.625334186303306,
          16.11702495066088,
          -1.0540743353287843,
          -5.325473933218118,
          -5.180459622672183,
          -1.5015052823582167,
          -2.3240544241173073,
          10.832579838423074,
          -5.7892042976728355,
          8.855144347157761,
          -5.505405135517542,
          -6.273140668389259,
          0.4620954996133616,
          0.7806567518593249,
          -2.5832180124694024,
          -5.964565973507405,
          10.268915689031045,
          -4.543006033660812,
          -5.441404253936287,
          4.560640442856461,
          12.906041842132286,
          -4.046611923397424,
          16.293840214514105,
          9.880660698088924,
          -4.228062182382185,
          -4.742543023067157,
          20.399330973217168,
          18.17089182206082,
          -3.315845970070482,
          -4.886615811404738,
          -4.780067131404493,
          12.913125383962218,
          4.509844707260523,
          -6.477379494318335,
          14.529758794024932,
          16.20418949678917,
          -3.130600493205581,
          0.046941034410263455,
          16.208470393249442
         ]
        },
        {
         "hovertemplate": "<b>%{text}</b><br><br>",
         "marker": {
          "size": 5
         },
         "mode": "markers",
         "name": "I",
         "text": [
          "Joe Lieberman",
          "Bernard Sanders"
         ],
         "type": "scatter",
         "x": [
          -11.985501457368139,
          -15.791891455729749
         ],
         "y": [
          -6.078556821433617,
          -2.752333230516763
         ]
        },
        {
         "hovertemplate": "<b>%{text}</b><br><br>",
         "marker": {
          "size": 5
         },
         "mode": "markers",
         "name": "R",
         "text": [
          "Robert Bennett",
          "Christopher Bond",
          "Pat Roberts",
          "Elizabeth Dole",
          "Jeff Sessions",
          "Richard Shelby",
          "Gordon Smith",
          "Olympia Snowe",
          "Arlen Specter",
          "Ted Stevens",
          "John Sununu",
          "A. Allard",
          "John Thune",
          "David Vitter",
          "George Voinovich",
          "John Warner",
          "Lamar Alexander",
          "Samuel Brownback",
          "Jim Bunning",
          "Mitch McConnell",
          "Lisa Murkowski",
          "John Ensign",
          "Michael Enzi",
          "James DeMint",
          "Mike Crapo",
          "Lindsey Graham",
          "Charles Grassley",
          "Judd Gregg",
          "Chuck Hagel",
          "Larry Craig",
          "Orrin Hatch",
          "Kay Hutchison",
          "John Cornyn",
          "Bob Corker",
          "Johnny Isakson",
          "Susan Collins",
          "Norm Coleman",
          "Thad Cochran",
          "Jon Kyl",
          "Tom Coburn",
          "Saxby Chambliss",
          "Richard Lugar",
          "Mel Martinez",
          "Pete Domenici",
          "Richard Burr",
          "Jim Inhofe"
         ],
         "type": "scatter",
         "x": [
          7.5219458345559,
          7.314235742906382,
          6.943759266672417,
          7.791239717990517,
          10.97141199102958,
          17.233692153271978,
          6.334503903601466,
          -2.062496864214712,
          2.425534587572912,
          2.7706396170234058,
          13.78231936210213,
          21.893590645229942,
          17.642052457748232,
          20.26714597819434,
          8.248786323292322,
          10.131148880548537,
          14.454038866457,
          8.409658258139716,
          19.068633251442332,
          10.683328604542098,
          3.7677942291213538,
          12.640774534313461,
          21.64242623465529,
          23.743556310175435,
          17.328433865563454,
          9.904754464885002,
          17.53813693873108,
          17.938989971858238,
          13.626061559184832,
          18.47465028145322,
          8.121603206949775,
          14.416405121494902,
          18.103358603269353,
          8.692928579803704,
          9.943432609490122,
          1.9066303188607048,
          8.415933851968454,
          15.463565626442259,
          13.533140622537713,
          16.484460464799856,
          10.444631883193455,
          12.687227351312595,
          12.001393003260432,
          12.470276023709152,
          20.70141245386952,
          20.75729130849577
         ],
         "y": [
          -10.21268669620407,
          -14.160588955899618,
          -14.76484891181308,
          -8.972832504773562,
          -15.935022762783516,
          6.333134366700208,
          8.465412738466705,
          1.1376206510646316,
          -3.0919171246339805,
          -12.920168940045816,
          -1.4113773469789042,
          6.924770482376796,
          5.174680956689087,
          7.30433730212137,
          3.3328553306451916,
          1.5836650715590497,
          3.081528215431837,
          -15.291529719539415,
          2.2797801644820646,
          -12.668573666806166,
          -12.52387309547414,
          -16.911090058960195,
          6.81416751758607,
          3.5455844889368997,
          3.205665861765828,
          -13.754564520849796,
          6.657620839237396,
          0.3633556475481559,
          6.24249276772885,
          6.390854818013324,
          -15.39748642433365,
          0.6224112963758014,
          2.5918875528980863,
          -12.370385290308723,
          -14.317603308489588,
          2.7315830973645263,
          6.057711530829949,
          9.52225210347397,
          -16.58973903750297,
          -12.487951420121986,
          -14.5930426541264,
          5.5494896171884065,
          0.1707151940357567,
          6.414853007750656,
          6.024141719562515,
          1.8486752955683772
         ]
        },
        {
         "hoverinfo": "none",
         "marker": {
          "color": "rgba(0, 0, 0, 0)",
          "line": {
           "color": "red",
           "width": 8
          },
          "size": 100
         },
         "mode": "markers",
         "name": "cluster",
         "opacity": 0.25,
         "type": "scatter",
         "x": [
          15.93711655105124,
          -13.618261482683133,
          -5.652420744055905,
          8.798070789751524
         ],
         "y": [
          4.426564097692056,
          -3.183680890516674,
          13.72365116004452,
          -13.164661394037037
         ]
        }
       ],
       "layout": {
        "font": {
         "color": "#000000",
         "family": "Courier New, monospace",
         "size": 12
        },
        "height": 500,
        "margin": {
         "b": 10,
         "l": 15,
         "pad": 1,
         "r": 1,
         "t": 50
        },
        "template": {
         "data": {
          "bar": [
           {
            "error_x": {
             "color": "#2a3f5f"
            },
            "error_y": {
             "color": "#2a3f5f"
            },
            "marker": {
             "line": {
              "color": "#E5ECF6",
              "width": 0.5
             }
            },
            "type": "bar"
           }
          ],
          "barpolar": [
           {
            "marker": {
             "line": {
              "color": "#E5ECF6",
              "width": 0.5
             }
            },
            "type": "barpolar"
           }
          ],
          "carpet": [
           {
            "aaxis": {
             "endlinecolor": "#2a3f5f",
             "gridcolor": "white",
             "linecolor": "white",
             "minorgridcolor": "white",
             "startlinecolor": "#2a3f5f"
            },
            "baxis": {
             "endlinecolor": "#2a3f5f",
             "gridcolor": "white",
             "linecolor": "white",
             "minorgridcolor": "white",
             "startlinecolor": "#2a3f5f"
            },
            "type": "carpet"
           }
          ],
          "choropleth": [
           {
            "colorbar": {
             "outlinewidth": 0,
             "ticks": ""
            },
            "type": "choropleth"
           }
          ],
          "contour": [
           {
            "colorbar": {
             "outlinewidth": 0,
             "ticks": ""
            },
            "colorscale": [
             [
              0,
              "#0d0887"
             ],
             [
              0.1111111111111111,
              "#46039f"
             ],
             [
              0.2222222222222222,
              "#7201a8"
             ],
             [
              0.3333333333333333,
              "#9c179e"
             ],
             [
              0.4444444444444444,
              "#bd3786"
             ],
             [
              0.5555555555555556,
              "#d8576b"
             ],
             [
              0.6666666666666666,
              "#ed7953"
             ],
             [
              0.7777777777777778,
              "#fb9f3a"
             ],
             [
              0.8888888888888888,
              "#fdca26"
             ],
             [
              1,
              "#f0f921"
             ]
            ],
            "type": "contour"
           }
          ],
          "contourcarpet": [
           {
            "colorbar": {
             "outlinewidth": 0,
             "ticks": ""
            },
            "type": "contourcarpet"
           }
          ],
          "heatmap": [
           {
            "colorbar": {
             "outlinewidth": 0,
             "ticks": ""
            },
            "colorscale": [
             [
              0,
              "#0d0887"
             ],
             [
              0.1111111111111111,
              "#46039f"
             ],
             [
              0.2222222222222222,
              "#7201a8"
             ],
             [
              0.3333333333333333,
              "#9c179e"
             ],
             [
              0.4444444444444444,
              "#bd3786"
             ],
             [
              0.5555555555555556,
              "#d8576b"
             ],
             [
              0.6666666666666666,
              "#ed7953"
             ],
             [
              0.7777777777777778,
              "#fb9f3a"
             ],
             [
              0.8888888888888888,
              "#fdca26"
             ],
             [
              1,
              "#f0f921"
             ]
            ],
            "type": "heatmap"
           }
          ],
          "heatmapgl": [
           {
            "colorbar": {
             "outlinewidth": 0,
             "ticks": ""
            },
            "colorscale": [
             [
              0,
              "#0d0887"
             ],
             [
              0.1111111111111111,
              "#46039f"
             ],
             [
              0.2222222222222222,
              "#7201a8"
             ],
             [
              0.3333333333333333,
              "#9c179e"
             ],
             [
              0.4444444444444444,
              "#bd3786"
             ],
             [
              0.5555555555555556,
              "#d8576b"
             ],
             [
              0.6666666666666666,
              "#ed7953"
             ],
             [
              0.7777777777777778,
              "#fb9f3a"
             ],
             [
              0.8888888888888888,
              "#fdca26"
             ],
             [
              1,
              "#f0f921"
             ]
            ],
            "type": "heatmapgl"
           }
          ],
          "histogram": [
           {
            "marker": {
             "colorbar": {
              "outlinewidth": 0,
              "ticks": ""
             }
            },
            "type": "histogram"
           }
          ],
          "histogram2d": [
           {
            "colorbar": {
             "outlinewidth": 0,
             "ticks": ""
            },
            "colorscale": [
             [
              0,
              "#0d0887"
             ],
             [
              0.1111111111111111,
              "#46039f"
             ],
             [
              0.2222222222222222,
              "#7201a8"
             ],
             [
              0.3333333333333333,
              "#9c179e"
             ],
             [
              0.4444444444444444,
              "#bd3786"
             ],
             [
              0.5555555555555556,
              "#d8576b"
             ],
             [
              0.6666666666666666,
              "#ed7953"
             ],
             [
              0.7777777777777778,
              "#fb9f3a"
             ],
             [
              0.8888888888888888,
              "#fdca26"
             ],
             [
              1,
              "#f0f921"
             ]
            ],
            "type": "histogram2d"
           }
          ],
          "histogram2dcontour": [
           {
            "colorbar": {
             "outlinewidth": 0,
             "ticks": ""
            },
            "colorscale": [
             [
              0,
              "#0d0887"
             ],
             [
              0.1111111111111111,
              "#46039f"
             ],
             [
              0.2222222222222222,
              "#7201a8"
             ],
             [
              0.3333333333333333,
              "#9c179e"
             ],
             [
              0.4444444444444444,
              "#bd3786"
             ],
             [
              0.5555555555555556,
              "#d8576b"
             ],
             [
              0.6666666666666666,
              "#ed7953"
             ],
             [
              0.7777777777777778,
              "#fb9f3a"
             ],
             [
              0.8888888888888888,
              "#fdca26"
             ],
             [
              1,
              "#f0f921"
             ]
            ],
            "type": "histogram2dcontour"
           }
          ],
          "mesh3d": [
           {
            "colorbar": {
             "outlinewidth": 0,
             "ticks": ""
            },
            "type": "mesh3d"
           }
          ],
          "parcoords": [
           {
            "line": {
             "colorbar": {
              "outlinewidth": 0,
              "ticks": ""
             }
            },
            "type": "parcoords"
           }
          ],
          "pie": [
           {
            "automargin": true,
            "type": "pie"
           }
          ],
          "scatter": [
           {
            "marker": {
             "colorbar": {
              "outlinewidth": 0,
              "ticks": ""
             }
            },
            "type": "scatter"
           }
          ],
          "scatter3d": [
           {
            "line": {
             "colorbar": {
              "outlinewidth": 0,
              "ticks": ""
             }
            },
            "marker": {
             "colorbar": {
              "outlinewidth": 0,
              "ticks": ""
             }
            },
            "type": "scatter3d"
           }
          ],
          "scattercarpet": [
           {
            "marker": {
             "colorbar": {
              "outlinewidth": 0,
              "ticks": ""
             }
            },
            "type": "scattercarpet"
           }
          ],
          "scattergeo": [
           {
            "marker": {
             "colorbar": {
              "outlinewidth": 0,
              "ticks": ""
             }
            },
            "type": "scattergeo"
           }
          ],
          "scattergl": [
           {
            "marker": {
             "colorbar": {
              "outlinewidth": 0,
              "ticks": ""
             }
            },
            "type": "scattergl"
           }
          ],
          "scattermapbox": [
           {
            "marker": {
             "colorbar": {
              "outlinewidth": 0,
              "ticks": ""
             }
            },
            "type": "scattermapbox"
           }
          ],
          "scatterpolar": [
           {
            "marker": {
             "colorbar": {
              "outlinewidth": 0,
              "ticks": ""
             }
            },
            "type": "scatterpolar"
           }
          ],
          "scatterpolargl": [
           {
            "marker": {
             "colorbar": {
              "outlinewidth": 0,
              "ticks": ""
             }
            },
            "type": "scatterpolargl"
           }
          ],
          "scatterternary": [
           {
            "marker": {
             "colorbar": {
              "outlinewidth": 0,
              "ticks": ""
             }
            },
            "type": "scatterternary"
           }
          ],
          "surface": [
           {
            "colorbar": {
             "outlinewidth": 0,
             "ticks": ""
            },
            "colorscale": [
             [
              0,
              "#0d0887"
             ],
             [
              0.1111111111111111,
              "#46039f"
             ],
             [
              0.2222222222222222,
              "#7201a8"
             ],
             [
              0.3333333333333333,
              "#9c179e"
             ],
             [
              0.4444444444444444,
              "#bd3786"
             ],
             [
              0.5555555555555556,
              "#d8576b"
             ],
             [
              0.6666666666666666,
              "#ed7953"
             ],
             [
              0.7777777777777778,
              "#fb9f3a"
             ],
             [
              0.8888888888888888,
              "#fdca26"
             ],
             [
              1,
              "#f0f921"
             ]
            ],
            "type": "surface"
           }
          ],
          "table": [
           {
            "cells": {
             "fill": {
              "color": "#EBF0F8"
             },
             "line": {
              "color": "white"
             }
            },
            "header": {
             "fill": {
              "color": "#C8D4E3"
             },
             "line": {
              "color": "white"
             }
            },
            "type": "table"
           }
          ]
         },
         "layout": {
          "annotationdefaults": {
           "arrowcolor": "#2a3f5f",
           "arrowhead": 0,
           "arrowwidth": 1
          },
          "coloraxis": {
           "colorbar": {
            "outlinewidth": 0,
            "ticks": ""
           }
          },
          "colorscale": {
           "diverging": [
            [
             0,
             "#8e0152"
            ],
            [
             0.1,
             "#c51b7d"
            ],
            [
             0.2,
             "#de77ae"
            ],
            [
             0.3,
             "#f1b6da"
            ],
            [
             0.4,
             "#fde0ef"
            ],
            [
             0.5,
             "#f7f7f7"
            ],
            [
             0.6,
             "#e6f5d0"
            ],
            [
             0.7,
             "#b8e186"
            ],
            [
             0.8,
             "#7fbc41"
            ],
            [
             0.9,
             "#4d9221"
            ],
            [
             1,
             "#276419"
            ]
           ],
           "sequential": [
            [
             0,
             "#0d0887"
            ],
            [
             0.1111111111111111,
             "#46039f"
            ],
            [
             0.2222222222222222,
             "#7201a8"
            ],
            [
             0.3333333333333333,
             "#9c179e"
            ],
            [
             0.4444444444444444,
             "#bd3786"
            ],
            [
             0.5555555555555556,
             "#d8576b"
            ],
            [
             0.6666666666666666,
             "#ed7953"
            ],
            [
             0.7777777777777778,
             "#fb9f3a"
            ],
            [
             0.8888888888888888,
             "#fdca26"
            ],
            [
             1,
             "#f0f921"
            ]
           ],
           "sequentialminus": [
            [
             0,
             "#0d0887"
            ],
            [
             0.1111111111111111,
             "#46039f"
            ],
            [
             0.2222222222222222,
             "#7201a8"
            ],
            [
             0.3333333333333333,
             "#9c179e"
            ],
            [
             0.4444444444444444,
             "#bd3786"
            ],
            [
             0.5555555555555556,
             "#d8576b"
            ],
            [
             0.6666666666666666,
             "#ed7953"
            ],
            [
             0.7777777777777778,
             "#fb9f3a"
            ],
            [
             0.8888888888888888,
             "#fdca26"
            ],
            [
             1,
             "#f0f921"
            ]
           ]
          },
          "colorway": [
           "#636efa",
           "#EF553B",
           "#00cc96",
           "#ab63fa",
           "#FFA15A",
           "#19d3f3",
           "#FF6692",
           "#B6E880",
           "#FF97FF",
           "#FECB52"
          ],
          "font": {
           "color": "#2a3f5f"
          },
          "geo": {
           "bgcolor": "white",
           "lakecolor": "white",
           "landcolor": "#E5ECF6",
           "showlakes": true,
           "showland": true,
           "subunitcolor": "white"
          },
          "hoverlabel": {
           "align": "left"
          },
          "hovermode": "closest",
          "mapbox": {
           "style": "light"
          },
          "paper_bgcolor": "white",
          "plot_bgcolor": "#E5ECF6",
          "polar": {
           "angularaxis": {
            "gridcolor": "white",
            "linecolor": "white",
            "ticks": ""
           },
           "bgcolor": "#E5ECF6",
           "radialaxis": {
            "gridcolor": "white",
            "linecolor": "white",
            "ticks": ""
           }
          },
          "scene": {
           "xaxis": {
            "backgroundcolor": "#E5ECF6",
            "gridcolor": "white",
            "gridwidth": 2,
            "linecolor": "white",
            "showbackground": true,
            "ticks": "",
            "zerolinecolor": "white"
           },
           "yaxis": {
            "backgroundcolor": "#E5ECF6",
            "gridcolor": "white",
            "gridwidth": 2,
            "linecolor": "white",
            "showbackground": true,
            "ticks": "",
            "zerolinecolor": "white"
           },
           "zaxis": {
            "backgroundcolor": "#E5ECF6",
            "gridcolor": "white",
            "gridwidth": 2,
            "linecolor": "white",
            "showbackground": true,
            "ticks": "",
            "zerolinecolor": "white"
           }
          },
          "shapedefaults": {
           "line": {
            "color": "#2a3f5f"
           }
          },
          "ternary": {
           "aaxis": {
            "gridcolor": "white",
            "linecolor": "white",
            "ticks": ""
           },
           "baxis": {
            "gridcolor": "white",
            "linecolor": "white",
            "ticks": ""
           },
           "bgcolor": "#E5ECF6",
           "caxis": {
            "gridcolor": "white",
            "linecolor": "white",
            "ticks": ""
           }
          },
          "title": {
           "x": 0.05
          },
          "xaxis": {
           "automargin": true,
           "gridcolor": "white",
           "linecolor": "white",
           "ticks": "",
           "title": {
            "standoff": 15
           },
           "zerolinecolor": "white",
           "zerolinewidth": 2
          },
          "yaxis": {
           "automargin": true,
           "gridcolor": "white",
           "linecolor": "white",
           "ticks": "",
           "title": {
            "standoff": 15
           },
           "zerolinecolor": "white",
           "zerolinewidth": 2
          }
         }
        },
        "title": {
         "text": "110th Congress (2007-2009)"
        },
        "width": 600,
        "xaxis": {
         "title": {
          "text": "PCA 1"
         }
        },
        "yaxis": {
         "title": {
          "text": "PCA 2"
         }
        }
       }
      },
      "text/html": [
       "<div>\n",
       "        \n",
       "        \n",
       "            <div id=\"0c043045-5508-4055-a5c0-a842ca00853d\" class=\"plotly-graph-div\" style=\"height:500px; width:600px;\"></div>\n",
       "            <script type=\"text/javascript\">\n",
       "                require([\"plotly\"], function(Plotly) {\n",
       "                    window.PLOTLYENV=window.PLOTLYENV || {};\n",
       "                    \n",
       "                if (document.getElementById(\"0c043045-5508-4055-a5c0-a842ca00853d\")) {\n",
       "                    Plotly.newPlot(\n",
       "                        '0c043045-5508-4055-a5c0-a842ca00853d',\n",
       "                        [{\"hovertemplate\": \"<b>%{text}</b><br><br>\", \"marker\": {\"size\": 5}, \"mode\": \"markers\", \"name\": \"D\", \"text\": [\"Daniel Akaka\", \"Russ Feingold\", \"Dianne Feinstein\", \"Tom Harkin\", \"Sheldon Whitehouse\", \"Daniel Inouye\", \"Edward Kennedy\", \"John Kerry\", \"Amy Klobuchar\", \"Herb Kohl\", \"Mary Landrieu\", \"Frank Lautenberg\", \"Patrick Leahy\", \"Carl Levin\", \"Blanche Lincoln\", \"Richard Durbin\", \"Claire McCaskill\", \"Barbara Mikulski\", \"Patty Murray\", \"Bill Nelson\", \"E. Nelson\", \"Barack Obama\", \"Mark Pryor\", \"John Reed\", \"Harry Reid\", \"Jay Rockefeller\", \"Ken Salazar\", \"Charles Schumer\", \"Debbie Stabenow\", \"Jon Tester\", \"James Webb\", \"Robert Menendez\", \"Byron Dorgan\", \"Ron Wyden\", \"Evan Bayh\", \"Christopher Dodd\", \"Robert Byrd\", \"Maria Cantwell\", \"Sherrod Brown\", \"Benjamin Cardin\", \"Barbara Boxer\", \"Kent Conrad\", \"Thomas Carper\", \"Joseph Biden\", \"Max Baucus\", \"Bob Casey\", \"Jeff Bingaman\", \"Hillary Clinton\"], \"type\": \"scatter\", \"x\": [-16.020385388492656, -5.721421514426428, -15.176435243732314, -9.416615699215395, -16.55431003820412, -3.4343357723040824, -10.123833360961346, -14.91390216826994, -15.747606323249896, -15.533009546952078, -1.236338514959585, -14.896746036570025, -16.419348114638815, -16.690512718997024, -11.861887281937499, -15.66448290634813, -5.417643888213114, -15.181729856857254, -10.004014577549055, -14.370617804159325, -8.972643060422694, -7.986361527510859, -10.08011082931948, -15.442188416210271, -13.92115722924736, -6.8248992907171475, -13.470474719730404, -16.679022982290004, -12.974720241631301, -6.959861126155064, -13.571219880619534, -8.00396914541865, -8.50916646061297, -15.70338634029885, -8.443232386912278, -5.427937173673452, -3.3150029465026813, -15.08884768088453, -16.175161545670914, -16.297126511746708, -9.210565116651297, -10.750236975296186, -12.953569943266677, -5.668109237477042, -5.3418398136956595, -14.801154594433672, -14.333840461734884, -3.5060626902394603], \"y\": [-4.395697869498901, 17.7625647374504, -4.0883738666297464, 11.178822791999037, -5.776220224518574, 18.049124650631025, 0.3671110038968915, -3.3695000667435258, -5.114486991302091, -4.625334186303306, 16.11702495066088, -1.0540743353287843, -5.325473933218118, -5.180459622672183, -1.5015052823582167, -2.3240544241173073, 10.832579838423074, -5.7892042976728355, 8.855144347157761, -5.505405135517542, -6.273140668389259, 0.4620954996133616, 0.7806567518593249, -2.5832180124694024, -5.964565973507405, 10.268915689031045, -4.543006033660812, -5.441404253936287, 4.560640442856461, 12.906041842132286, -4.046611923397424, 16.293840214514105, 9.880660698088924, -4.228062182382185, -4.742543023067157, 20.399330973217168, 18.17089182206082, -3.315845970070482, -4.886615811404738, -4.780067131404493, 12.913125383962218, 4.509844707260523, -6.477379494318335, 14.529758794024932, 16.20418949678917, -3.130600493205581, 0.046941034410263455, 16.208470393249442]}, {\"hovertemplate\": \"<b>%{text}</b><br><br>\", \"marker\": {\"size\": 5}, \"mode\": \"markers\", \"name\": \"I\", \"text\": [\"Joe Lieberman\", \"Bernard Sanders\"], \"type\": \"scatter\", \"x\": [-11.985501457368139, -15.791891455729749], \"y\": [-6.078556821433617, -2.752333230516763]}, {\"hovertemplate\": \"<b>%{text}</b><br><br>\", \"marker\": {\"size\": 5}, \"mode\": \"markers\", \"name\": \"R\", \"text\": [\"Robert Bennett\", \"Christopher Bond\", \"Pat Roberts\", \"Elizabeth Dole\", \"Jeff Sessions\", \"Richard Shelby\", \"Gordon Smith\", \"Olympia Snowe\", \"Arlen Specter\", \"Ted Stevens\", \"John Sununu\", \"A. Allard\", \"John Thune\", \"David Vitter\", \"George Voinovich\", \"John Warner\", \"Lamar Alexander\", \"Samuel Brownback\", \"Jim Bunning\", \"Mitch McConnell\", \"Lisa Murkowski\", \"John Ensign\", \"Michael Enzi\", \"James DeMint\", \"Mike Crapo\", \"Lindsey Graham\", \"Charles Grassley\", \"Judd Gregg\", \"Chuck Hagel\", \"Larry Craig\", \"Orrin Hatch\", \"Kay Hutchison\", \"John Cornyn\", \"Bob Corker\", \"Johnny Isakson\", \"Susan Collins\", \"Norm Coleman\", \"Thad Cochran\", \"Jon Kyl\", \"Tom Coburn\", \"Saxby Chambliss\", \"Richard Lugar\", \"Mel Martinez\", \"Pete Domenici\", \"Richard Burr\", \"Jim Inhofe\"], \"type\": \"scatter\", \"x\": [7.5219458345559, 7.314235742906382, 6.943759266672417, 7.791239717990517, 10.97141199102958, 17.233692153271978, 6.334503903601466, -2.062496864214712, 2.425534587572912, 2.7706396170234058, 13.78231936210213, 21.893590645229942, 17.642052457748232, 20.26714597819434, 8.248786323292322, 10.131148880548537, 14.454038866457, 8.409658258139716, 19.068633251442332, 10.683328604542098, 3.7677942291213538, 12.640774534313461, 21.64242623465529, 23.743556310175435, 17.328433865563454, 9.904754464885002, 17.53813693873108, 17.938989971858238, 13.626061559184832, 18.47465028145322, 8.121603206949775, 14.416405121494902, 18.103358603269353, 8.692928579803704, 9.943432609490122, 1.9066303188607048, 8.415933851968454, 15.463565626442259, 13.533140622537713, 16.484460464799856, 10.444631883193455, 12.687227351312595, 12.001393003260432, 12.470276023709152, 20.70141245386952, 20.75729130849577], \"y\": [-10.21268669620407, -14.160588955899618, -14.76484891181308, -8.972832504773562, -15.935022762783516, 6.333134366700208, 8.465412738466705, 1.1376206510646316, -3.0919171246339805, -12.920168940045816, -1.4113773469789042, 6.924770482376796, 5.174680956689087, 7.30433730212137, 3.3328553306451916, 1.5836650715590497, 3.081528215431837, -15.291529719539415, 2.2797801644820646, -12.668573666806166, -12.52387309547414, -16.911090058960195, 6.81416751758607, 3.5455844889368997, 3.205665861765828, -13.754564520849796, 6.657620839237396, 0.3633556475481559, 6.24249276772885, 6.390854818013324, -15.39748642433365, 0.6224112963758014, 2.5918875528980863, -12.370385290308723, -14.317603308489588, 2.7315830973645263, 6.057711530829949, 9.52225210347397, -16.58973903750297, -12.487951420121986, -14.5930426541264, 5.5494896171884065, 0.1707151940357567, 6.414853007750656, 6.024141719562515, 1.8486752955683772]}, {\"hoverinfo\": \"none\", \"marker\": {\"color\": \"rgba(0, 0, 0, 0)\", \"line\": {\"color\": \"red\", \"width\": 8}, \"size\": 100}, \"mode\": \"markers\", \"name\": \"cluster\", \"opacity\": 0.25, \"type\": \"scatter\", \"x\": [15.93711655105124, -13.618261482683133, -5.652420744055905, 8.798070789751524], \"y\": [4.426564097692056, -3.183680890516674, 13.72365116004452, -13.164661394037037]}],\n",
       "                        {\"font\": {\"color\": \"#000000\", \"family\": \"Courier New, monospace\", \"size\": 12}, \"height\": 500, \"margin\": {\"b\": 10, \"l\": 15, \"pad\": 1, \"r\": 1, \"t\": 50}, \"template\": {\"data\": {\"bar\": [{\"error_x\": {\"color\": \"#2a3f5f\"}, \"error_y\": {\"color\": \"#2a3f5f\"}, \"marker\": {\"line\": {\"color\": \"#E5ECF6\", \"width\": 0.5}}, \"type\": \"bar\"}], \"barpolar\": [{\"marker\": {\"line\": {\"color\": \"#E5ECF6\", \"width\": 0.5}}, \"type\": \"barpolar\"}], \"carpet\": [{\"aaxis\": {\"endlinecolor\": \"#2a3f5f\", \"gridcolor\": \"white\", \"linecolor\": \"white\", \"minorgridcolor\": \"white\", \"startlinecolor\": \"#2a3f5f\"}, \"baxis\": {\"endlinecolor\": \"#2a3f5f\", \"gridcolor\": \"white\", \"linecolor\": \"white\", \"minorgridcolor\": \"white\", \"startlinecolor\": \"#2a3f5f\"}, \"type\": \"carpet\"}], \"choropleth\": [{\"colorbar\": {\"outlinewidth\": 0, \"ticks\": \"\"}, \"type\": \"choropleth\"}], \"contour\": [{\"colorbar\": {\"outlinewidth\": 0, \"ticks\": \"\"}, \"colorscale\": [[0.0, \"#0d0887\"], [0.1111111111111111, \"#46039f\"], [0.2222222222222222, \"#7201a8\"], [0.3333333333333333, \"#9c179e\"], [0.4444444444444444, \"#bd3786\"], [0.5555555555555556, \"#d8576b\"], [0.6666666666666666, \"#ed7953\"], [0.7777777777777778, \"#fb9f3a\"], [0.8888888888888888, \"#fdca26\"], [1.0, \"#f0f921\"]], \"type\": \"contour\"}], \"contourcarpet\": [{\"colorbar\": {\"outlinewidth\": 0, \"ticks\": \"\"}, \"type\": \"contourcarpet\"}], \"heatmap\": [{\"colorbar\": {\"outlinewidth\": 0, \"ticks\": \"\"}, \"colorscale\": [[0.0, \"#0d0887\"], [0.1111111111111111, \"#46039f\"], [0.2222222222222222, \"#7201a8\"], [0.3333333333333333, \"#9c179e\"], [0.4444444444444444, \"#bd3786\"], [0.5555555555555556, \"#d8576b\"], [0.6666666666666666, \"#ed7953\"], [0.7777777777777778, \"#fb9f3a\"], [0.8888888888888888, \"#fdca26\"], [1.0, \"#f0f921\"]], \"type\": \"heatmap\"}], \"heatmapgl\": [{\"colorbar\": {\"outlinewidth\": 0, \"ticks\": \"\"}, \"colorscale\": [[0.0, \"#0d0887\"], [0.1111111111111111, \"#46039f\"], [0.2222222222222222, \"#7201a8\"], [0.3333333333333333, \"#9c179e\"], [0.4444444444444444, \"#bd3786\"], [0.5555555555555556, \"#d8576b\"], [0.6666666666666666, \"#ed7953\"], [0.7777777777777778, \"#fb9f3a\"], [0.8888888888888888, \"#fdca26\"], [1.0, \"#f0f921\"]], \"type\": \"heatmapgl\"}], \"histogram\": [{\"marker\": {\"colorbar\": {\"outlinewidth\": 0, \"ticks\": \"\"}}, \"type\": \"histogram\"}], \"histogram2d\": [{\"colorbar\": {\"outlinewidth\": 0, \"ticks\": \"\"}, \"colorscale\": [[0.0, \"#0d0887\"], [0.1111111111111111, \"#46039f\"], [0.2222222222222222, \"#7201a8\"], [0.3333333333333333, \"#9c179e\"], [0.4444444444444444, \"#bd3786\"], [0.5555555555555556, \"#d8576b\"], [0.6666666666666666, \"#ed7953\"], [0.7777777777777778, \"#fb9f3a\"], [0.8888888888888888, \"#fdca26\"], [1.0, \"#f0f921\"]], \"type\": \"histogram2d\"}], \"histogram2dcontour\": [{\"colorbar\": {\"outlinewidth\": 0, \"ticks\": \"\"}, \"colorscale\": [[0.0, \"#0d0887\"], [0.1111111111111111, \"#46039f\"], [0.2222222222222222, \"#7201a8\"], [0.3333333333333333, \"#9c179e\"], [0.4444444444444444, \"#bd3786\"], [0.5555555555555556, \"#d8576b\"], [0.6666666666666666, \"#ed7953\"], [0.7777777777777778, \"#fb9f3a\"], [0.8888888888888888, \"#fdca26\"], [1.0, \"#f0f921\"]], \"type\": \"histogram2dcontour\"}], \"mesh3d\": [{\"colorbar\": {\"outlinewidth\": 0, \"ticks\": \"\"}, \"type\": \"mesh3d\"}], \"parcoords\": [{\"line\": {\"colorbar\": {\"outlinewidth\": 0, \"ticks\": \"\"}}, \"type\": \"parcoords\"}], \"pie\": [{\"automargin\": true, \"type\": \"pie\"}], \"scatter\": [{\"marker\": {\"colorbar\": {\"outlinewidth\": 0, \"ticks\": \"\"}}, \"type\": \"scatter\"}], \"scatter3d\": [{\"line\": {\"colorbar\": {\"outlinewidth\": 0, \"ticks\": \"\"}}, \"marker\": {\"colorbar\": {\"outlinewidth\": 0, \"ticks\": \"\"}}, \"type\": \"scatter3d\"}], \"scattercarpet\": [{\"marker\": {\"colorbar\": {\"outlinewidth\": 0, \"ticks\": \"\"}}, \"type\": \"scattercarpet\"}], \"scattergeo\": [{\"marker\": {\"colorbar\": {\"outlinewidth\": 0, \"ticks\": \"\"}}, \"type\": \"scattergeo\"}], \"scattergl\": [{\"marker\": {\"colorbar\": {\"outlinewidth\": 0, \"ticks\": \"\"}}, \"type\": \"scattergl\"}], \"scattermapbox\": [{\"marker\": {\"colorbar\": {\"outlinewidth\": 0, \"ticks\": \"\"}}, \"type\": \"scattermapbox\"}], \"scatterpolar\": [{\"marker\": {\"colorbar\": {\"outlinewidth\": 0, \"ticks\": \"\"}}, \"type\": \"scatterpolar\"}], \"scatterpolargl\": [{\"marker\": {\"colorbar\": {\"outlinewidth\": 0, \"ticks\": \"\"}}, \"type\": \"scatterpolargl\"}], \"scatterternary\": [{\"marker\": {\"colorbar\": {\"outlinewidth\": 0, \"ticks\": \"\"}}, \"type\": \"scatterternary\"}], \"surface\": [{\"colorbar\": {\"outlinewidth\": 0, \"ticks\": \"\"}, \"colorscale\": [[0.0, \"#0d0887\"], [0.1111111111111111, \"#46039f\"], [0.2222222222222222, \"#7201a8\"], [0.3333333333333333, \"#9c179e\"], [0.4444444444444444, \"#bd3786\"], [0.5555555555555556, \"#d8576b\"], [0.6666666666666666, \"#ed7953\"], [0.7777777777777778, \"#fb9f3a\"], [0.8888888888888888, \"#fdca26\"], [1.0, \"#f0f921\"]], \"type\": \"surface\"}], \"table\": [{\"cells\": {\"fill\": {\"color\": \"#EBF0F8\"}, \"line\": {\"color\": \"white\"}}, \"header\": {\"fill\": {\"color\": \"#C8D4E3\"}, \"line\": {\"color\": \"white\"}}, \"type\": \"table\"}]}, \"layout\": {\"annotationdefaults\": {\"arrowcolor\": \"#2a3f5f\", \"arrowhead\": 0, \"arrowwidth\": 1}, \"coloraxis\": {\"colorbar\": {\"outlinewidth\": 0, \"ticks\": \"\"}}, \"colorscale\": {\"diverging\": [[0, \"#8e0152\"], [0.1, \"#c51b7d\"], [0.2, \"#de77ae\"], [0.3, \"#f1b6da\"], [0.4, \"#fde0ef\"], [0.5, \"#f7f7f7\"], [0.6, \"#e6f5d0\"], [0.7, \"#b8e186\"], [0.8, \"#7fbc41\"], [0.9, \"#4d9221\"], [1, \"#276419\"]], \"sequential\": [[0.0, \"#0d0887\"], [0.1111111111111111, \"#46039f\"], [0.2222222222222222, \"#7201a8\"], [0.3333333333333333, \"#9c179e\"], [0.4444444444444444, \"#bd3786\"], [0.5555555555555556, \"#d8576b\"], [0.6666666666666666, \"#ed7953\"], [0.7777777777777778, \"#fb9f3a\"], [0.8888888888888888, \"#fdca26\"], [1.0, \"#f0f921\"]], \"sequentialminus\": [[0.0, \"#0d0887\"], [0.1111111111111111, \"#46039f\"], [0.2222222222222222, \"#7201a8\"], [0.3333333333333333, \"#9c179e\"], [0.4444444444444444, \"#bd3786\"], [0.5555555555555556, \"#d8576b\"], [0.6666666666666666, \"#ed7953\"], [0.7777777777777778, \"#fb9f3a\"], [0.8888888888888888, \"#fdca26\"], [1.0, \"#f0f921\"]]}, \"colorway\": [\"#636efa\", \"#EF553B\", \"#00cc96\", \"#ab63fa\", \"#FFA15A\", \"#19d3f3\", \"#FF6692\", \"#B6E880\", \"#FF97FF\", \"#FECB52\"], \"font\": {\"color\": \"#2a3f5f\"}, \"geo\": {\"bgcolor\": \"white\", \"lakecolor\": \"white\", \"landcolor\": \"#E5ECF6\", \"showlakes\": true, \"showland\": true, \"subunitcolor\": \"white\"}, \"hoverlabel\": {\"align\": \"left\"}, \"hovermode\": \"closest\", \"mapbox\": {\"style\": \"light\"}, \"paper_bgcolor\": \"white\", \"plot_bgcolor\": \"#E5ECF6\", \"polar\": {\"angularaxis\": {\"gridcolor\": \"white\", \"linecolor\": \"white\", \"ticks\": \"\"}, \"bgcolor\": \"#E5ECF6\", \"radialaxis\": {\"gridcolor\": \"white\", \"linecolor\": \"white\", \"ticks\": \"\"}}, \"scene\": {\"xaxis\": {\"backgroundcolor\": \"#E5ECF6\", \"gridcolor\": \"white\", \"gridwidth\": 2, \"linecolor\": \"white\", \"showbackground\": true, \"ticks\": \"\", \"zerolinecolor\": \"white\"}, \"yaxis\": {\"backgroundcolor\": \"#E5ECF6\", \"gridcolor\": \"white\", \"gridwidth\": 2, \"linecolor\": \"white\", \"showbackground\": true, \"ticks\": \"\", \"zerolinecolor\": \"white\"}, \"zaxis\": {\"backgroundcolor\": \"#E5ECF6\", \"gridcolor\": \"white\", \"gridwidth\": 2, \"linecolor\": \"white\", \"showbackground\": true, \"ticks\": \"\", \"zerolinecolor\": \"white\"}}, \"shapedefaults\": {\"line\": {\"color\": \"#2a3f5f\"}}, \"ternary\": {\"aaxis\": {\"gridcolor\": \"white\", \"linecolor\": \"white\", \"ticks\": \"\"}, \"baxis\": {\"gridcolor\": \"white\", \"linecolor\": \"white\", \"ticks\": \"\"}, \"bgcolor\": \"#E5ECF6\", \"caxis\": {\"gridcolor\": \"white\", \"linecolor\": \"white\", \"ticks\": \"\"}}, \"title\": {\"x\": 0.05}, \"xaxis\": {\"automargin\": true, \"gridcolor\": \"white\", \"linecolor\": \"white\", \"ticks\": \"\", \"title\": {\"standoff\": 15}, \"zerolinecolor\": \"white\", \"zerolinewidth\": 2}, \"yaxis\": {\"automargin\": true, \"gridcolor\": \"white\", \"linecolor\": \"white\", \"ticks\": \"\", \"title\": {\"standoff\": 15}, \"zerolinecolor\": \"white\", \"zerolinewidth\": 2}}}, \"title\": {\"text\": \"110th Congress (2007-2009)\"}, \"width\": 600, \"xaxis\": {\"title\": {\"text\": \"PCA 1\"}}, \"yaxis\": {\"title\": {\"text\": \"PCA 2\"}}},\n",
       "                        {\"responsive\": true}\n",
       "                    ).then(function(){\n",
       "                            \n",
       "var gd = document.getElementById('0c043045-5508-4055-a5c0-a842ca00853d');\n",
       "var x = new MutationObserver(function (mutations, observer) {{\n",
       "        var display = window.getComputedStyle(gd).display;\n",
       "        if (!display || display === 'none') {{\n",
       "            console.log([gd, 'removed!']);\n",
       "            Plotly.purge(gd);\n",
       "            observer.disconnect();\n",
       "        }}\n",
       "}});\n",
       "\n",
       "// Listen for the removal of the full notebook cells\n",
       "var notebookContainer = gd.closest('#notebook-container');\n",
       "if (notebookContainer) {{\n",
       "    x.observe(notebookContainer, {childList: true});\n",
       "}}\n",
       "\n",
       "// Listen for the clearing of the current output cell\n",
       "var outputEl = gd.closest('.output');\n",
       "if (outputEl) {{\n",
       "    x.observe(outputEl, {childList: true});\n",
       "}}\n",
       "\n",
       "                        })\n",
       "                };\n",
       "                });\n",
       "            </script>\n",
       "        </div>"
      ]
     },
     "metadata": {},
     "output_type": "display_data"
    }
   ],
   "source": [
    "plot_PCA(2008)"
   ]
  },
  {
   "cell_type": "markdown",
   "metadata": {},
   "source": [
    "### 110th Congress (2007-2009)\n",
    "\n",
    "The 110th Senate voting topology seperates senators by their party; however, unlike the 103th Senate, each party is further divided into two voting blocks, indicating an inner split in each party's idealogy. The Democratic clusters are also more dense than their Republican counterpart, with very few Democrats escaping party lines. \n",
    "\n",
    "On the Republican side, multiple Senators diverge from party lines, with the ones most likely to vote across the aisle being Senator Snowe and Senator Collins."
   ]
  },
  {
   "cell_type": "code",
   "execution_count": 657,
   "metadata": {},
   "outputs": [
    {
     "data": {
      "application/vnd.plotly.v1+json": {
       "config": {
        "plotlyServerURL": "https://plot.ly"
       },
       "data": [
        {
         "hovertemplate": "<b>%{text}</b><br><br>",
         "marker": {
          "size": 5
         },
         "mode": "markers",
         "name": "D",
         "text": [
          "Timothy Kaine",
          "Kirsten Gillibrand",
          "Martin Heinrich",
          "Heidi Heitkamp",
          "Mazie Hirono",
          "Amy Klobuchar",
          "Patrick Leahy",
          "Joe Manchin",
          "Edward Markey",
          "Claire McCaskill",
          "Robert Menendez",
          "Jeff Merkley",
          "Barbara Mikulski",
          "Christopher Murphy",
          "Patty Murray",
          "Bill Nelson",
          "Gary Peters",
          "John Reed",
          "Harry Reid",
          "Brian Schatz",
          "Charles Schumer",
          "Jeanne Shaheen",
          "Debbie Stabenow",
          "Jon Tester",
          "Tom Udall",
          "Mark Warner",
          "Elizabeth Warren",
          "Sheldon Whitehouse",
          "Al Franken",
          "Dianne Feinstein",
          "Ron Wyden",
          "Ben Cardin",
          "Tammy Baldwin",
          "Richard Durbin",
          "Thomas Carper",
          "Joe Donnelly",
          "Bob Casey",
          "Michael Bennet",
          "Maria Cantwell",
          "Christopher Coons",
          "Barbara Boxer",
          "Richard Blumenthal",
          "Sherrod  Brown",
          "Cory Booker"
         ],
         "type": "scatter",
         "x": [
          14.387620586997592,
          18.88293791519081,
          17.21882631984309,
          7.438865490340972,
          18.37239207745983,
          15.72597649660342,
          18.170581193057437,
          4.564989114750931,
          19.05503760166733,
          11.363568964109357,
          17.495677223612493,
          18.873951161411263,
          16.511142029522528,
          17.436254601514047,
          16.59666833595453,
          14.208685965952887,
          16.613596580798053,
          18.041599660215695,
          15.664552713296452,
          17.591894237323828,
          18.236113428563847,
          15.886694466986876,
          16.349329343609636,
          13.8229744849758,
          17.83855273752965,
          12.382825298642341,
          19.355669460836392,
          17.344752394319904,
          17.652609164994804,
          14.505974247787076,
          17.50619725703055,
          17.92674652028934,
          17.77558440259164,
          17.78389341555593,
          13.879384079653178,
          7.605989065757354,
          15.407572502405523,
          13.846798664215514,
          16.947860346155906,
          16.106068980762164,
          16.193127778778216,
          17.263778125641142,
          18.123659503848046,
          18.45832186507897
         ],
         "y": [
          -2.939709544593847,
          3.873775341386604,
          -0.8848672566418918,
          -5.272215215044751,
          0.581811352875658,
          -2.7502512505263503,
          1.693578023024188,
          -2.8174433057581205,
          6.314309878154319,
          -2.8306759675626965,
          1.4505980015191582,
          6.241988046435957,
          -0.04481165372598764,
          -0.28811626945983915,
          -1.5916572488791942,
          -2.234379698837305,
          -1.9023909588420678,
          -0.14334190361316476,
          2.8771727426756857,
          -0.7754598266422902,
          0.7069026523925446,
          -3.6767456991251724,
          -1.9207198863398662,
          -1.8125429159618232,
          0.24080636930957341,
          -2.6300954640529772,
          6.097536940435118,
          -1.5052398205784334,
          1.0227029669802024,
          -4.594414097356598,
          3.6659692422440493,
          -0.11773906063137246,
          -0.3245535118352231,
          0.04612484842884031,
          -1.9308746651531221,
          -5.363464900333331,
          -1.5236713558985844,
          -4.1815473129640885,
          -1.3078699192981567,
          -1.5517590420689706,
          7.169335303616131,
          -1.2821002837349664,
          1.7707330236798637,
          2.9435701930205522
         ]
        },
        {
         "hovertemplate": "<b>%{text}</b><br><br>",
         "marker": {
          "size": 5
         },
         "mode": "markers",
         "name": "I",
         "text": [
          "Angus King",
          "Bernie Sanders"
         ],
         "type": "scatter",
         "x": [
          13.076659629160245,
          14.038620731382226
         ],
         "y": [
          -4.608945900991489,
          20.520375644211224
         ]
        },
        {
         "hovertemplate": "<b>%{text}</b><br><br>",
         "marker": {
          "size": 5
         },
         "mode": "markers",
         "name": "R",
         "text": [
          "James  Risch",
          "Rob Portman",
          "David Perdue",
          "Rand Paul",
          "Mike Rounds",
          "Pat Roberts",
          "Richard Burr",
          "Mike Enzi",
          "John Boozman",
          "Jefferson Sessions",
          "Richard Shelby",
          "Roy Blunt",
          "Dan Sullivan",
          "John Thune",
          "Thomas Tillis",
          "Pat Toomey",
          "David Vitter",
          "John Barrasso",
          "Kelly Ayotte",
          "Ben Sasse",
          "Timothy Scott",
          "Lisa Murkowski",
          "Joni Ernst",
          "Deb Fischer",
          "Jeff Flake",
          "Cory Gardner",
          "Lindsey Graham",
          "Chuck Grassley",
          "Orrin Hatch",
          "Steve Daines",
          "Mike Crapo",
          "Dean Heller",
          "Tom Cotton",
          "John Hoeven",
          "Jim Inhofe",
          "Johnny Isakson",
          "Ron Johnson",
          "Roger Wicker",
          "Mark Kirk",
          "John Cornyn",
          "James Lankford",
          "Bob Corker",
          "Mike Lee",
          "Susan Collins",
          "John McCain",
          "Thad Cochran",
          "Mitch McConnell",
          "Dan Coats",
          "Bill Cassidy",
          "Jerry Moran",
          "Shelley Capito",
          "Lamar Alexander"
         ],
         "type": "scatter",
         "x": [
          -17.965747461046732,
          -10.446005081673423,
          -16.36024491989591,
          -12.288638358885441,
          -13.771118052629692,
          -15.844366000152101,
          -13.4274385514848,
          -14.764948955785819,
          -16.193157014002487,
          -16.64615449151748,
          -16.4296409815426,
          -15.669620289263769,
          -14.451249854300805,
          -14.87340874305578,
          -14.522174557846757,
          -15.755958481548046,
          -15.955905435314833,
          -16.04950108605987,
          -6.7123588320083964,
          -17.7826330005927,
          -16.6617272273829,
          -8.938720644682725,
          -15.972865073846176,
          -16.320754809987086,
          -14.153014277237817,
          -12.808316090595435,
          -8.632037075387332,
          -15.079571149910981,
          -13.002835190246145,
          -15.445672259297362,
          -17.430606192450224,
          -11.236413565320566,
          -17.315021882867324,
          -14.318521056936419,
          -16.76274223175208,
          -14.73133663217063,
          -14.376707185870993,
          -15.172390698208913,
          -6.0058348475970655,
          -14.769464975227454,
          -16.312588108297017,
          -13.269809746483228,
          -14.411547124569209,
          -3.0473565906656597,
          -13.658034117423233,
          -13.012176934968515,
          -12.627122757772709,
          -15.410231523874526,
          -15.09899739559979,
          -15.688432511503922,
          -12.035393136372813,
          -9.914063003061045
         ],
         "y": [
          6.32593490796863,
          -4.22774081347276,
          3.669822779014508,
          17.02041786168624,
          -5.691543948550015,
          -3.2943418095909305,
          -4.592011072643437,
          -0.9105090435663141,
          -1.14807577234841,
          5.910677880521255,
          6.546964611746691,
          -0.9613278170811638,
          0.5315305596189382,
          -3.6841975640715696,
          -4.246975759765961,
          1.9105549574180931,
          6.651896183015679,
          -2.3403353533816866,
          -6.216186823265677,
          12.72563802848802,
          3.789128986664506,
          -2.8099911267827102,
          -2.255147079491256,
          -1.3653192886319645,
          3.645891424277587,
          -2.508095491318127,
          0.5210409213877292,
          -2.814382839767298,
          -5.96930783961885,
          3.2651654393506777,
          6.055618280331576,
          3.464468931715003,
          3.9845089042237536,
          -4.408522620147119,
          0.28320143564839595,
          -4.735473923447046,
          -3.5590931914270008,
          -4.457792664473965,
          -5.421663295466825,
          -4.056371589715644,
          4.3481660606833215,
          -1.1139741395511458,
          24.73053865929176,
          -7.0844123212194345,
          -3.738566356425028,
          -6.319979046774443,
          -3.611331784320446,
          -2.509685184431927,
          -3.366247419791664,
          2.1574039686904825,
          -5.3845640012129845,
          -7.145090433927984
         ]
        },
        {
         "hoverinfo": "none",
         "marker": {
          "color": "rgba(0, 0, 0, 0)",
          "line": {
           "color": "red",
           "width": 8
          },
          "size": 100
         },
         "mode": "markers",
         "name": "cluster",
         "opacity": 0.25,
         "type": "scatter",
         "x": [
          -14.029434157041825,
          15.85936035143858
         ],
         "y": [
          -0.08480166603726838,
          0.09586275291169534
         ]
        }
       ],
       "layout": {
        "font": {
         "color": "#000000",
         "family": "Courier New, monospace",
         "size": 12
        },
        "height": 500,
        "margin": {
         "b": 10,
         "l": 15,
         "pad": 1,
         "r": 1,
         "t": 50
        },
        "template": {
         "data": {
          "bar": [
           {
            "error_x": {
             "color": "#2a3f5f"
            },
            "error_y": {
             "color": "#2a3f5f"
            },
            "marker": {
             "line": {
              "color": "#E5ECF6",
              "width": 0.5
             }
            },
            "type": "bar"
           }
          ],
          "barpolar": [
           {
            "marker": {
             "line": {
              "color": "#E5ECF6",
              "width": 0.5
             }
            },
            "type": "barpolar"
           }
          ],
          "carpet": [
           {
            "aaxis": {
             "endlinecolor": "#2a3f5f",
             "gridcolor": "white",
             "linecolor": "white",
             "minorgridcolor": "white",
             "startlinecolor": "#2a3f5f"
            },
            "baxis": {
             "endlinecolor": "#2a3f5f",
             "gridcolor": "white",
             "linecolor": "white",
             "minorgridcolor": "white",
             "startlinecolor": "#2a3f5f"
            },
            "type": "carpet"
           }
          ],
          "choropleth": [
           {
            "colorbar": {
             "outlinewidth": 0,
             "ticks": ""
            },
            "type": "choropleth"
           }
          ],
          "contour": [
           {
            "colorbar": {
             "outlinewidth": 0,
             "ticks": ""
            },
            "colorscale": [
             [
              0,
              "#0d0887"
             ],
             [
              0.1111111111111111,
              "#46039f"
             ],
             [
              0.2222222222222222,
              "#7201a8"
             ],
             [
              0.3333333333333333,
              "#9c179e"
             ],
             [
              0.4444444444444444,
              "#bd3786"
             ],
             [
              0.5555555555555556,
              "#d8576b"
             ],
             [
              0.6666666666666666,
              "#ed7953"
             ],
             [
              0.7777777777777778,
              "#fb9f3a"
             ],
             [
              0.8888888888888888,
              "#fdca26"
             ],
             [
              1,
              "#f0f921"
             ]
            ],
            "type": "contour"
           }
          ],
          "contourcarpet": [
           {
            "colorbar": {
             "outlinewidth": 0,
             "ticks": ""
            },
            "type": "contourcarpet"
           }
          ],
          "heatmap": [
           {
            "colorbar": {
             "outlinewidth": 0,
             "ticks": ""
            },
            "colorscale": [
             [
              0,
              "#0d0887"
             ],
             [
              0.1111111111111111,
              "#46039f"
             ],
             [
              0.2222222222222222,
              "#7201a8"
             ],
             [
              0.3333333333333333,
              "#9c179e"
             ],
             [
              0.4444444444444444,
              "#bd3786"
             ],
             [
              0.5555555555555556,
              "#d8576b"
             ],
             [
              0.6666666666666666,
              "#ed7953"
             ],
             [
              0.7777777777777778,
              "#fb9f3a"
             ],
             [
              0.8888888888888888,
              "#fdca26"
             ],
             [
              1,
              "#f0f921"
             ]
            ],
            "type": "heatmap"
           }
          ],
          "heatmapgl": [
           {
            "colorbar": {
             "outlinewidth": 0,
             "ticks": ""
            },
            "colorscale": [
             [
              0,
              "#0d0887"
             ],
             [
              0.1111111111111111,
              "#46039f"
             ],
             [
              0.2222222222222222,
              "#7201a8"
             ],
             [
              0.3333333333333333,
              "#9c179e"
             ],
             [
              0.4444444444444444,
              "#bd3786"
             ],
             [
              0.5555555555555556,
              "#d8576b"
             ],
             [
              0.6666666666666666,
              "#ed7953"
             ],
             [
              0.7777777777777778,
              "#fb9f3a"
             ],
             [
              0.8888888888888888,
              "#fdca26"
             ],
             [
              1,
              "#f0f921"
             ]
            ],
            "type": "heatmapgl"
           }
          ],
          "histogram": [
           {
            "marker": {
             "colorbar": {
              "outlinewidth": 0,
              "ticks": ""
             }
            },
            "type": "histogram"
           }
          ],
          "histogram2d": [
           {
            "colorbar": {
             "outlinewidth": 0,
             "ticks": ""
            },
            "colorscale": [
             [
              0,
              "#0d0887"
             ],
             [
              0.1111111111111111,
              "#46039f"
             ],
             [
              0.2222222222222222,
              "#7201a8"
             ],
             [
              0.3333333333333333,
              "#9c179e"
             ],
             [
              0.4444444444444444,
              "#bd3786"
             ],
             [
              0.5555555555555556,
              "#d8576b"
             ],
             [
              0.6666666666666666,
              "#ed7953"
             ],
             [
              0.7777777777777778,
              "#fb9f3a"
             ],
             [
              0.8888888888888888,
              "#fdca26"
             ],
             [
              1,
              "#f0f921"
             ]
            ],
            "type": "histogram2d"
           }
          ],
          "histogram2dcontour": [
           {
            "colorbar": {
             "outlinewidth": 0,
             "ticks": ""
            },
            "colorscale": [
             [
              0,
              "#0d0887"
             ],
             [
              0.1111111111111111,
              "#46039f"
             ],
             [
              0.2222222222222222,
              "#7201a8"
             ],
             [
              0.3333333333333333,
              "#9c179e"
             ],
             [
              0.4444444444444444,
              "#bd3786"
             ],
             [
              0.5555555555555556,
              "#d8576b"
             ],
             [
              0.6666666666666666,
              "#ed7953"
             ],
             [
              0.7777777777777778,
              "#fb9f3a"
             ],
             [
              0.8888888888888888,
              "#fdca26"
             ],
             [
              1,
              "#f0f921"
             ]
            ],
            "type": "histogram2dcontour"
           }
          ],
          "mesh3d": [
           {
            "colorbar": {
             "outlinewidth": 0,
             "ticks": ""
            },
            "type": "mesh3d"
           }
          ],
          "parcoords": [
           {
            "line": {
             "colorbar": {
              "outlinewidth": 0,
              "ticks": ""
             }
            },
            "type": "parcoords"
           }
          ],
          "pie": [
           {
            "automargin": true,
            "type": "pie"
           }
          ],
          "scatter": [
           {
            "marker": {
             "colorbar": {
              "outlinewidth": 0,
              "ticks": ""
             }
            },
            "type": "scatter"
           }
          ],
          "scatter3d": [
           {
            "line": {
             "colorbar": {
              "outlinewidth": 0,
              "ticks": ""
             }
            },
            "marker": {
             "colorbar": {
              "outlinewidth": 0,
              "ticks": ""
             }
            },
            "type": "scatter3d"
           }
          ],
          "scattercarpet": [
           {
            "marker": {
             "colorbar": {
              "outlinewidth": 0,
              "ticks": ""
             }
            },
            "type": "scattercarpet"
           }
          ],
          "scattergeo": [
           {
            "marker": {
             "colorbar": {
              "outlinewidth": 0,
              "ticks": ""
             }
            },
            "type": "scattergeo"
           }
          ],
          "scattergl": [
           {
            "marker": {
             "colorbar": {
              "outlinewidth": 0,
              "ticks": ""
             }
            },
            "type": "scattergl"
           }
          ],
          "scattermapbox": [
           {
            "marker": {
             "colorbar": {
              "outlinewidth": 0,
              "ticks": ""
             }
            },
            "type": "scattermapbox"
           }
          ],
          "scatterpolar": [
           {
            "marker": {
             "colorbar": {
              "outlinewidth": 0,
              "ticks": ""
             }
            },
            "type": "scatterpolar"
           }
          ],
          "scatterpolargl": [
           {
            "marker": {
             "colorbar": {
              "outlinewidth": 0,
              "ticks": ""
             }
            },
            "type": "scatterpolargl"
           }
          ],
          "scatterternary": [
           {
            "marker": {
             "colorbar": {
              "outlinewidth": 0,
              "ticks": ""
             }
            },
            "type": "scatterternary"
           }
          ],
          "surface": [
           {
            "colorbar": {
             "outlinewidth": 0,
             "ticks": ""
            },
            "colorscale": [
             [
              0,
              "#0d0887"
             ],
             [
              0.1111111111111111,
              "#46039f"
             ],
             [
              0.2222222222222222,
              "#7201a8"
             ],
             [
              0.3333333333333333,
              "#9c179e"
             ],
             [
              0.4444444444444444,
              "#bd3786"
             ],
             [
              0.5555555555555556,
              "#d8576b"
             ],
             [
              0.6666666666666666,
              "#ed7953"
             ],
             [
              0.7777777777777778,
              "#fb9f3a"
             ],
             [
              0.8888888888888888,
              "#fdca26"
             ],
             [
              1,
              "#f0f921"
             ]
            ],
            "type": "surface"
           }
          ],
          "table": [
           {
            "cells": {
             "fill": {
              "color": "#EBF0F8"
             },
             "line": {
              "color": "white"
             }
            },
            "header": {
             "fill": {
              "color": "#C8D4E3"
             },
             "line": {
              "color": "white"
             }
            },
            "type": "table"
           }
          ]
         },
         "layout": {
          "annotationdefaults": {
           "arrowcolor": "#2a3f5f",
           "arrowhead": 0,
           "arrowwidth": 1
          },
          "coloraxis": {
           "colorbar": {
            "outlinewidth": 0,
            "ticks": ""
           }
          },
          "colorscale": {
           "diverging": [
            [
             0,
             "#8e0152"
            ],
            [
             0.1,
             "#c51b7d"
            ],
            [
             0.2,
             "#de77ae"
            ],
            [
             0.3,
             "#f1b6da"
            ],
            [
             0.4,
             "#fde0ef"
            ],
            [
             0.5,
             "#f7f7f7"
            ],
            [
             0.6,
             "#e6f5d0"
            ],
            [
             0.7,
             "#b8e186"
            ],
            [
             0.8,
             "#7fbc41"
            ],
            [
             0.9,
             "#4d9221"
            ],
            [
             1,
             "#276419"
            ]
           ],
           "sequential": [
            [
             0,
             "#0d0887"
            ],
            [
             0.1111111111111111,
             "#46039f"
            ],
            [
             0.2222222222222222,
             "#7201a8"
            ],
            [
             0.3333333333333333,
             "#9c179e"
            ],
            [
             0.4444444444444444,
             "#bd3786"
            ],
            [
             0.5555555555555556,
             "#d8576b"
            ],
            [
             0.6666666666666666,
             "#ed7953"
            ],
            [
             0.7777777777777778,
             "#fb9f3a"
            ],
            [
             0.8888888888888888,
             "#fdca26"
            ],
            [
             1,
             "#f0f921"
            ]
           ],
           "sequentialminus": [
            [
             0,
             "#0d0887"
            ],
            [
             0.1111111111111111,
             "#46039f"
            ],
            [
             0.2222222222222222,
             "#7201a8"
            ],
            [
             0.3333333333333333,
             "#9c179e"
            ],
            [
             0.4444444444444444,
             "#bd3786"
            ],
            [
             0.5555555555555556,
             "#d8576b"
            ],
            [
             0.6666666666666666,
             "#ed7953"
            ],
            [
             0.7777777777777778,
             "#fb9f3a"
            ],
            [
             0.8888888888888888,
             "#fdca26"
            ],
            [
             1,
             "#f0f921"
            ]
           ]
          },
          "colorway": [
           "#636efa",
           "#EF553B",
           "#00cc96",
           "#ab63fa",
           "#FFA15A",
           "#19d3f3",
           "#FF6692",
           "#B6E880",
           "#FF97FF",
           "#FECB52"
          ],
          "font": {
           "color": "#2a3f5f"
          },
          "geo": {
           "bgcolor": "white",
           "lakecolor": "white",
           "landcolor": "#E5ECF6",
           "showlakes": true,
           "showland": true,
           "subunitcolor": "white"
          },
          "hoverlabel": {
           "align": "left"
          },
          "hovermode": "closest",
          "mapbox": {
           "style": "light"
          },
          "paper_bgcolor": "white",
          "plot_bgcolor": "#E5ECF6",
          "polar": {
           "angularaxis": {
            "gridcolor": "white",
            "linecolor": "white",
            "ticks": ""
           },
           "bgcolor": "#E5ECF6",
           "radialaxis": {
            "gridcolor": "white",
            "linecolor": "white",
            "ticks": ""
           }
          },
          "scene": {
           "xaxis": {
            "backgroundcolor": "#E5ECF6",
            "gridcolor": "white",
            "gridwidth": 2,
            "linecolor": "white",
            "showbackground": true,
            "ticks": "",
            "zerolinecolor": "white"
           },
           "yaxis": {
            "backgroundcolor": "#E5ECF6",
            "gridcolor": "white",
            "gridwidth": 2,
            "linecolor": "white",
            "showbackground": true,
            "ticks": "",
            "zerolinecolor": "white"
           },
           "zaxis": {
            "backgroundcolor": "#E5ECF6",
            "gridcolor": "white",
            "gridwidth": 2,
            "linecolor": "white",
            "showbackground": true,
            "ticks": "",
            "zerolinecolor": "white"
           }
          },
          "shapedefaults": {
           "line": {
            "color": "#2a3f5f"
           }
          },
          "ternary": {
           "aaxis": {
            "gridcolor": "white",
            "linecolor": "white",
            "ticks": ""
           },
           "baxis": {
            "gridcolor": "white",
            "linecolor": "white",
            "ticks": ""
           },
           "bgcolor": "#E5ECF6",
           "caxis": {
            "gridcolor": "white",
            "linecolor": "white",
            "ticks": ""
           }
          },
          "title": {
           "x": 0.05
          },
          "xaxis": {
           "automargin": true,
           "gridcolor": "white",
           "linecolor": "white",
           "ticks": "",
           "title": {
            "standoff": 15
           },
           "zerolinecolor": "white",
           "zerolinewidth": 2
          },
          "yaxis": {
           "automargin": true,
           "gridcolor": "white",
           "linecolor": "white",
           "ticks": "",
           "title": {
            "standoff": 15
           },
           "zerolinecolor": "white",
           "zerolinewidth": 2
          }
         }
        },
        "title": {
         "text": "114th Congress (2015-2017)"
        },
        "width": 600,
        "xaxis": {
         "title": {
          "text": "PCA 1"
         }
        },
        "yaxis": {
         "title": {
          "text": "PCA 2"
         }
        }
       }
      },
      "text/html": [
       "<div>\n",
       "        \n",
       "        \n",
       "            <div id=\"c88cddda-cd16-48df-91f9-e9440d820a5c\" class=\"plotly-graph-div\" style=\"height:500px; width:600px;\"></div>\n",
       "            <script type=\"text/javascript\">\n",
       "                require([\"plotly\"], function(Plotly) {\n",
       "                    window.PLOTLYENV=window.PLOTLYENV || {};\n",
       "                    \n",
       "                if (document.getElementById(\"c88cddda-cd16-48df-91f9-e9440d820a5c\")) {\n",
       "                    Plotly.newPlot(\n",
       "                        'c88cddda-cd16-48df-91f9-e9440d820a5c',\n",
       "                        [{\"hovertemplate\": \"<b>%{text}</b><br><br>\", \"marker\": {\"size\": 5}, \"mode\": \"markers\", \"name\": \"D\", \"text\": [\"Timothy Kaine\", \"Kirsten Gillibrand\", \"Martin Heinrich\", \"Heidi Heitkamp\", \"Mazie Hirono\", \"Amy Klobuchar\", \"Patrick Leahy\", \"Joe Manchin\", \"Edward Markey\", \"Claire McCaskill\", \"Robert Menendez\", \"Jeff Merkley\", \"Barbara Mikulski\", \"Christopher Murphy\", \"Patty Murray\", \"Bill Nelson\", \"Gary Peters\", \"John Reed\", \"Harry Reid\", \"Brian Schatz\", \"Charles Schumer\", \"Jeanne Shaheen\", \"Debbie Stabenow\", \"Jon Tester\", \"Tom Udall\", \"Mark Warner\", \"Elizabeth Warren\", \"Sheldon Whitehouse\", \"Al Franken\", \"Dianne Feinstein\", \"Ron Wyden\", \"Ben Cardin\", \"Tammy Baldwin\", \"Richard Durbin\", \"Thomas Carper\", \"Joe Donnelly\", \"Bob Casey\", \"Michael Bennet\", \"Maria Cantwell\", \"Christopher Coons\", \"Barbara Boxer\", \"Richard Blumenthal\", \"Sherrod  Brown\", \"Cory Booker\"], \"type\": \"scatter\", \"x\": [14.387620586997592, 18.88293791519081, 17.21882631984309, 7.438865490340972, 18.37239207745983, 15.72597649660342, 18.170581193057437, 4.564989114750931, 19.05503760166733, 11.363568964109357, 17.495677223612493, 18.873951161411263, 16.511142029522528, 17.436254601514047, 16.59666833595453, 14.208685965952887, 16.613596580798053, 18.041599660215695, 15.664552713296452, 17.591894237323828, 18.236113428563847, 15.886694466986876, 16.349329343609636, 13.8229744849758, 17.83855273752965, 12.382825298642341, 19.355669460836392, 17.344752394319904, 17.652609164994804, 14.505974247787076, 17.50619725703055, 17.92674652028934, 17.77558440259164, 17.78389341555593, 13.879384079653178, 7.605989065757354, 15.407572502405523, 13.846798664215514, 16.947860346155906, 16.106068980762164, 16.193127778778216, 17.263778125641142, 18.123659503848046, 18.45832186507897], \"y\": [-2.939709544593847, 3.873775341386604, -0.8848672566418918, -5.272215215044751, 0.581811352875658, -2.7502512505263503, 1.693578023024188, -2.8174433057581205, 6.314309878154319, -2.8306759675626965, 1.4505980015191582, 6.241988046435957, -0.04481165372598764, -0.28811626945983915, -1.5916572488791942, -2.234379698837305, -1.9023909588420678, -0.14334190361316476, 2.8771727426756857, -0.7754598266422902, 0.7069026523925446, -3.6767456991251724, -1.9207198863398662, -1.8125429159618232, 0.24080636930957341, -2.6300954640529772, 6.097536940435118, -1.5052398205784334, 1.0227029669802024, -4.594414097356598, 3.6659692422440493, -0.11773906063137246, -0.3245535118352231, 0.04612484842884031, -1.9308746651531221, -5.363464900333331, -1.5236713558985844, -4.1815473129640885, -1.3078699192981567, -1.5517590420689706, 7.169335303616131, -1.2821002837349664, 1.7707330236798637, 2.9435701930205522]}, {\"hovertemplate\": \"<b>%{text}</b><br><br>\", \"marker\": {\"size\": 5}, \"mode\": \"markers\", \"name\": \"I\", \"text\": [\"Angus King\", \"Bernie Sanders\"], \"type\": \"scatter\", \"x\": [13.076659629160245, 14.038620731382226], \"y\": [-4.608945900991489, 20.520375644211224]}, {\"hovertemplate\": \"<b>%{text}</b><br><br>\", \"marker\": {\"size\": 5}, \"mode\": \"markers\", \"name\": \"R\", \"text\": [\"James  Risch\", \"Rob Portman\", \"David Perdue\", \"Rand Paul\", \"Mike Rounds\", \"Pat Roberts\", \"Richard Burr\", \"Mike Enzi\", \"John Boozman\", \"Jefferson Sessions\", \"Richard Shelby\", \"Roy Blunt\", \"Dan Sullivan\", \"John Thune\", \"Thomas Tillis\", \"Pat Toomey\", \"David Vitter\", \"John Barrasso\", \"Kelly Ayotte\", \"Ben Sasse\", \"Timothy Scott\", \"Lisa Murkowski\", \"Joni Ernst\", \"Deb Fischer\", \"Jeff Flake\", \"Cory Gardner\", \"Lindsey Graham\", \"Chuck Grassley\", \"Orrin Hatch\", \"Steve Daines\", \"Mike Crapo\", \"Dean Heller\", \"Tom Cotton\", \"John Hoeven\", \"Jim Inhofe\", \"Johnny Isakson\", \"Ron Johnson\", \"Roger Wicker\", \"Mark Kirk\", \"John Cornyn\", \"James Lankford\", \"Bob Corker\", \"Mike Lee\", \"Susan Collins\", \"John McCain\", \"Thad Cochran\", \"Mitch McConnell\", \"Dan Coats\", \"Bill Cassidy\", \"Jerry Moran\", \"Shelley Capito\", \"Lamar Alexander\"], \"type\": \"scatter\", \"x\": [-17.965747461046732, -10.446005081673423, -16.36024491989591, -12.288638358885441, -13.771118052629692, -15.844366000152101, -13.4274385514848, -14.764948955785819, -16.193157014002487, -16.64615449151748, -16.4296409815426, -15.669620289263769, -14.451249854300805, -14.87340874305578, -14.522174557846757, -15.755958481548046, -15.955905435314833, -16.04950108605987, -6.7123588320083964, -17.7826330005927, -16.6617272273829, -8.938720644682725, -15.972865073846176, -16.320754809987086, -14.153014277237817, -12.808316090595435, -8.632037075387332, -15.079571149910981, -13.002835190246145, -15.445672259297362, -17.430606192450224, -11.236413565320566, -17.315021882867324, -14.318521056936419, -16.76274223175208, -14.73133663217063, -14.376707185870993, -15.172390698208913, -6.0058348475970655, -14.769464975227454, -16.312588108297017, -13.269809746483228, -14.411547124569209, -3.0473565906656597, -13.658034117423233, -13.012176934968515, -12.627122757772709, -15.410231523874526, -15.09899739559979, -15.688432511503922, -12.035393136372813, -9.914063003061045], \"y\": [6.32593490796863, -4.22774081347276, 3.669822779014508, 17.02041786168624, -5.691543948550015, -3.2943418095909305, -4.592011072643437, -0.9105090435663141, -1.14807577234841, 5.910677880521255, 6.546964611746691, -0.9613278170811638, 0.5315305596189382, -3.6841975640715696, -4.246975759765961, 1.9105549574180931, 6.651896183015679, -2.3403353533816866, -6.216186823265677, 12.72563802848802, 3.789128986664506, -2.8099911267827102, -2.255147079491256, -1.3653192886319645, 3.645891424277587, -2.508095491318127, 0.5210409213877292, -2.814382839767298, -5.96930783961885, 3.2651654393506777, 6.055618280331576, 3.464468931715003, 3.9845089042237536, -4.408522620147119, 0.28320143564839595, -4.735473923447046, -3.5590931914270008, -4.457792664473965, -5.421663295466825, -4.056371589715644, 4.3481660606833215, -1.1139741395511458, 24.73053865929176, -7.0844123212194345, -3.738566356425028, -6.319979046774443, -3.611331784320446, -2.509685184431927, -3.366247419791664, 2.1574039686904825, -5.3845640012129845, -7.145090433927984]}, {\"hoverinfo\": \"none\", \"marker\": {\"color\": \"rgba(0, 0, 0, 0)\", \"line\": {\"color\": \"red\", \"width\": 8}, \"size\": 100}, \"mode\": \"markers\", \"name\": \"cluster\", \"opacity\": 0.25, \"type\": \"scatter\", \"x\": [-14.029434157041825, 15.85936035143858], \"y\": [-0.08480166603726838, 0.09586275291169534]}],\n",
       "                        {\"font\": {\"color\": \"#000000\", \"family\": \"Courier New, monospace\", \"size\": 12}, \"height\": 500, \"margin\": {\"b\": 10, \"l\": 15, \"pad\": 1, \"r\": 1, \"t\": 50}, \"template\": {\"data\": {\"bar\": [{\"error_x\": {\"color\": \"#2a3f5f\"}, \"error_y\": {\"color\": \"#2a3f5f\"}, \"marker\": {\"line\": {\"color\": \"#E5ECF6\", \"width\": 0.5}}, \"type\": \"bar\"}], \"barpolar\": [{\"marker\": {\"line\": {\"color\": \"#E5ECF6\", \"width\": 0.5}}, \"type\": \"barpolar\"}], \"carpet\": [{\"aaxis\": {\"endlinecolor\": \"#2a3f5f\", \"gridcolor\": \"white\", \"linecolor\": \"white\", \"minorgridcolor\": \"white\", \"startlinecolor\": \"#2a3f5f\"}, \"baxis\": {\"endlinecolor\": \"#2a3f5f\", \"gridcolor\": \"white\", \"linecolor\": \"white\", \"minorgridcolor\": \"white\", \"startlinecolor\": \"#2a3f5f\"}, \"type\": \"carpet\"}], \"choropleth\": [{\"colorbar\": {\"outlinewidth\": 0, \"ticks\": \"\"}, \"type\": \"choropleth\"}], \"contour\": [{\"colorbar\": {\"outlinewidth\": 0, \"ticks\": \"\"}, \"colorscale\": [[0.0, \"#0d0887\"], [0.1111111111111111, \"#46039f\"], [0.2222222222222222, \"#7201a8\"], [0.3333333333333333, \"#9c179e\"], [0.4444444444444444, \"#bd3786\"], [0.5555555555555556, \"#d8576b\"], [0.6666666666666666, \"#ed7953\"], [0.7777777777777778, \"#fb9f3a\"], [0.8888888888888888, \"#fdca26\"], [1.0, \"#f0f921\"]], \"type\": \"contour\"}], \"contourcarpet\": [{\"colorbar\": {\"outlinewidth\": 0, \"ticks\": \"\"}, \"type\": \"contourcarpet\"}], \"heatmap\": [{\"colorbar\": {\"outlinewidth\": 0, \"ticks\": \"\"}, \"colorscale\": [[0.0, \"#0d0887\"], [0.1111111111111111, \"#46039f\"], [0.2222222222222222, \"#7201a8\"], [0.3333333333333333, \"#9c179e\"], [0.4444444444444444, \"#bd3786\"], [0.5555555555555556, \"#d8576b\"], [0.6666666666666666, \"#ed7953\"], [0.7777777777777778, \"#fb9f3a\"], [0.8888888888888888, \"#fdca26\"], [1.0, \"#f0f921\"]], \"type\": \"heatmap\"}], \"heatmapgl\": [{\"colorbar\": {\"outlinewidth\": 0, \"ticks\": \"\"}, \"colorscale\": [[0.0, \"#0d0887\"], [0.1111111111111111, \"#46039f\"], [0.2222222222222222, \"#7201a8\"], [0.3333333333333333, \"#9c179e\"], [0.4444444444444444, \"#bd3786\"], [0.5555555555555556, \"#d8576b\"], [0.6666666666666666, \"#ed7953\"], [0.7777777777777778, \"#fb9f3a\"], [0.8888888888888888, \"#fdca26\"], [1.0, \"#f0f921\"]], \"type\": \"heatmapgl\"}], \"histogram\": [{\"marker\": {\"colorbar\": {\"outlinewidth\": 0, \"ticks\": \"\"}}, \"type\": \"histogram\"}], \"histogram2d\": [{\"colorbar\": {\"outlinewidth\": 0, \"ticks\": \"\"}, \"colorscale\": [[0.0, \"#0d0887\"], [0.1111111111111111, \"#46039f\"], [0.2222222222222222, \"#7201a8\"], [0.3333333333333333, \"#9c179e\"], [0.4444444444444444, \"#bd3786\"], [0.5555555555555556, \"#d8576b\"], [0.6666666666666666, \"#ed7953\"], [0.7777777777777778, \"#fb9f3a\"], [0.8888888888888888, \"#fdca26\"], [1.0, \"#f0f921\"]], \"type\": \"histogram2d\"}], \"histogram2dcontour\": [{\"colorbar\": {\"outlinewidth\": 0, \"ticks\": \"\"}, \"colorscale\": [[0.0, \"#0d0887\"], [0.1111111111111111, \"#46039f\"], [0.2222222222222222, \"#7201a8\"], [0.3333333333333333, \"#9c179e\"], [0.4444444444444444, \"#bd3786\"], [0.5555555555555556, \"#d8576b\"], [0.6666666666666666, \"#ed7953\"], [0.7777777777777778, \"#fb9f3a\"], [0.8888888888888888, \"#fdca26\"], [1.0, \"#f0f921\"]], \"type\": \"histogram2dcontour\"}], \"mesh3d\": [{\"colorbar\": {\"outlinewidth\": 0, \"ticks\": \"\"}, \"type\": \"mesh3d\"}], \"parcoords\": [{\"line\": {\"colorbar\": {\"outlinewidth\": 0, \"ticks\": \"\"}}, \"type\": \"parcoords\"}], \"pie\": [{\"automargin\": true, \"type\": \"pie\"}], \"scatter\": [{\"marker\": {\"colorbar\": {\"outlinewidth\": 0, \"ticks\": \"\"}}, \"type\": \"scatter\"}], \"scatter3d\": [{\"line\": {\"colorbar\": {\"outlinewidth\": 0, \"ticks\": \"\"}}, \"marker\": {\"colorbar\": {\"outlinewidth\": 0, \"ticks\": \"\"}}, \"type\": \"scatter3d\"}], \"scattercarpet\": [{\"marker\": {\"colorbar\": {\"outlinewidth\": 0, \"ticks\": \"\"}}, \"type\": \"scattercarpet\"}], \"scattergeo\": [{\"marker\": {\"colorbar\": {\"outlinewidth\": 0, \"ticks\": \"\"}}, \"type\": \"scattergeo\"}], \"scattergl\": [{\"marker\": {\"colorbar\": {\"outlinewidth\": 0, \"ticks\": \"\"}}, \"type\": \"scattergl\"}], \"scattermapbox\": [{\"marker\": {\"colorbar\": {\"outlinewidth\": 0, \"ticks\": \"\"}}, \"type\": \"scattermapbox\"}], \"scatterpolar\": [{\"marker\": {\"colorbar\": {\"outlinewidth\": 0, \"ticks\": \"\"}}, \"type\": \"scatterpolar\"}], \"scatterpolargl\": [{\"marker\": {\"colorbar\": {\"outlinewidth\": 0, \"ticks\": \"\"}}, \"type\": \"scatterpolargl\"}], \"scatterternary\": [{\"marker\": {\"colorbar\": {\"outlinewidth\": 0, \"ticks\": \"\"}}, \"type\": \"scatterternary\"}], \"surface\": [{\"colorbar\": {\"outlinewidth\": 0, \"ticks\": \"\"}, \"colorscale\": [[0.0, \"#0d0887\"], [0.1111111111111111, \"#46039f\"], [0.2222222222222222, \"#7201a8\"], [0.3333333333333333, \"#9c179e\"], [0.4444444444444444, \"#bd3786\"], [0.5555555555555556, \"#d8576b\"], [0.6666666666666666, \"#ed7953\"], [0.7777777777777778, \"#fb9f3a\"], [0.8888888888888888, \"#fdca26\"], [1.0, \"#f0f921\"]], \"type\": \"surface\"}], \"table\": [{\"cells\": {\"fill\": {\"color\": \"#EBF0F8\"}, \"line\": {\"color\": \"white\"}}, \"header\": {\"fill\": {\"color\": \"#C8D4E3\"}, \"line\": {\"color\": \"white\"}}, \"type\": \"table\"}]}, \"layout\": {\"annotationdefaults\": {\"arrowcolor\": \"#2a3f5f\", \"arrowhead\": 0, \"arrowwidth\": 1}, \"coloraxis\": {\"colorbar\": {\"outlinewidth\": 0, \"ticks\": \"\"}}, \"colorscale\": {\"diverging\": [[0, \"#8e0152\"], [0.1, \"#c51b7d\"], [0.2, \"#de77ae\"], [0.3, \"#f1b6da\"], [0.4, \"#fde0ef\"], [0.5, \"#f7f7f7\"], [0.6, \"#e6f5d0\"], [0.7, \"#b8e186\"], [0.8, \"#7fbc41\"], [0.9, \"#4d9221\"], [1, \"#276419\"]], \"sequential\": [[0.0, \"#0d0887\"], [0.1111111111111111, \"#46039f\"], [0.2222222222222222, \"#7201a8\"], [0.3333333333333333, \"#9c179e\"], [0.4444444444444444, \"#bd3786\"], [0.5555555555555556, \"#d8576b\"], [0.6666666666666666, \"#ed7953\"], [0.7777777777777778, \"#fb9f3a\"], [0.8888888888888888, \"#fdca26\"], [1.0, \"#f0f921\"]], \"sequentialminus\": [[0.0, \"#0d0887\"], [0.1111111111111111, \"#46039f\"], [0.2222222222222222, \"#7201a8\"], [0.3333333333333333, \"#9c179e\"], [0.4444444444444444, \"#bd3786\"], [0.5555555555555556, \"#d8576b\"], [0.6666666666666666, \"#ed7953\"], [0.7777777777777778, \"#fb9f3a\"], [0.8888888888888888, \"#fdca26\"], [1.0, \"#f0f921\"]]}, \"colorway\": [\"#636efa\", \"#EF553B\", \"#00cc96\", \"#ab63fa\", \"#FFA15A\", \"#19d3f3\", \"#FF6692\", \"#B6E880\", \"#FF97FF\", \"#FECB52\"], \"font\": {\"color\": \"#2a3f5f\"}, \"geo\": {\"bgcolor\": \"white\", \"lakecolor\": \"white\", \"landcolor\": \"#E5ECF6\", \"showlakes\": true, \"showland\": true, \"subunitcolor\": \"white\"}, \"hoverlabel\": {\"align\": \"left\"}, \"hovermode\": \"closest\", \"mapbox\": {\"style\": \"light\"}, \"paper_bgcolor\": \"white\", \"plot_bgcolor\": \"#E5ECF6\", \"polar\": {\"angularaxis\": {\"gridcolor\": \"white\", \"linecolor\": \"white\", \"ticks\": \"\"}, \"bgcolor\": \"#E5ECF6\", \"radialaxis\": {\"gridcolor\": \"white\", \"linecolor\": \"white\", \"ticks\": \"\"}}, \"scene\": {\"xaxis\": {\"backgroundcolor\": \"#E5ECF6\", \"gridcolor\": \"white\", \"gridwidth\": 2, \"linecolor\": \"white\", \"showbackground\": true, \"ticks\": \"\", \"zerolinecolor\": \"white\"}, \"yaxis\": {\"backgroundcolor\": \"#E5ECF6\", \"gridcolor\": \"white\", \"gridwidth\": 2, \"linecolor\": \"white\", \"showbackground\": true, \"ticks\": \"\", \"zerolinecolor\": \"white\"}, \"zaxis\": {\"backgroundcolor\": \"#E5ECF6\", \"gridcolor\": \"white\", \"gridwidth\": 2, \"linecolor\": \"white\", \"showbackground\": true, \"ticks\": \"\", \"zerolinecolor\": \"white\"}}, \"shapedefaults\": {\"line\": {\"color\": \"#2a3f5f\"}}, \"ternary\": {\"aaxis\": {\"gridcolor\": \"white\", \"linecolor\": \"white\", \"ticks\": \"\"}, \"baxis\": {\"gridcolor\": \"white\", \"linecolor\": \"white\", \"ticks\": \"\"}, \"bgcolor\": \"#E5ECF6\", \"caxis\": {\"gridcolor\": \"white\", \"linecolor\": \"white\", \"ticks\": \"\"}}, \"title\": {\"x\": 0.05}, \"xaxis\": {\"automargin\": true, \"gridcolor\": \"white\", \"linecolor\": \"white\", \"ticks\": \"\", \"title\": {\"standoff\": 15}, \"zerolinecolor\": \"white\", \"zerolinewidth\": 2}, \"yaxis\": {\"automargin\": true, \"gridcolor\": \"white\", \"linecolor\": \"white\", \"ticks\": \"\", \"title\": {\"standoff\": 15}, \"zerolinecolor\": \"white\", \"zerolinewidth\": 2}}}, \"title\": {\"text\": \"114th Congress (2015-2017)\"}, \"width\": 600, \"xaxis\": {\"title\": {\"text\": \"PCA 1\"}}, \"yaxis\": {\"title\": {\"text\": \"PCA 2\"}}},\n",
       "                        {\"responsive\": true}\n",
       "                    ).then(function(){\n",
       "                            \n",
       "var gd = document.getElementById('c88cddda-cd16-48df-91f9-e9440d820a5c');\n",
       "var x = new MutationObserver(function (mutations, observer) {{\n",
       "        var display = window.getComputedStyle(gd).display;\n",
       "        if (!display || display === 'none') {{\n",
       "            console.log([gd, 'removed!']);\n",
       "            Plotly.purge(gd);\n",
       "            observer.disconnect();\n",
       "        }}\n",
       "}});\n",
       "\n",
       "// Listen for the removal of the full notebook cells\n",
       "var notebookContainer = gd.closest('#notebook-container');\n",
       "if (notebookContainer) {{\n",
       "    x.observe(notebookContainer, {childList: true});\n",
       "}}\n",
       "\n",
       "// Listen for the clearing of the current output cell\n",
       "var outputEl = gd.closest('.output');\n",
       "if (outputEl) {{\n",
       "    x.observe(outputEl, {childList: true});\n",
       "}}\n",
       "\n",
       "                        })\n",
       "                };\n",
       "                });\n",
       "            </script>\n",
       "        </div>"
      ]
     },
     "metadata": {},
     "output_type": "display_data"
    }
   ],
   "source": [
    "plot_PCA(2016)"
   ]
  },
  {
   "cell_type": "markdown",
   "metadata": {},
   "source": [
    "The 114th Senate voting topology shows two parties which are completely disjoint, highlighting the division in current US politics. Even senators considered as swing voters, such as Senator Manchin and Senator Collins are closely alligned with their respective party. \n",
    "\n",
    "Interestingly, the two libertarian leaning Republicans, Senator Mike Lee and Senator Rand Paul, are seperated from the rest of the Republican Party. On the Democrat side, Bernie Sanders also deviates from the rest of the Democrat cluster, illustrating his exceptionally progressive voting pattern."
   ]
  }
 ],
 "metadata": {
  "kernelspec": {
   "display_name": "oceanography",
   "language": "python",
   "name": "oceanography"
  },
  "language_info": {
   "codemirror_mode": {
    "name": "ipython",
    "version": 3
   },
   "file_extension": ".py",
   "mimetype": "text/x-python",
   "name": "python",
   "nbconvert_exporter": "python",
   "pygments_lexer": "ipython3",
   "version": "3.7.3"
  }
 },
 "nbformat": 4,
 "nbformat_minor": 2
}
